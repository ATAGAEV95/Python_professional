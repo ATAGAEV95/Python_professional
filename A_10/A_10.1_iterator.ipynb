{
 "cells": [
  {
   "cell_type": "code",
   "execution_count": 9,
   "id": "500c5b92-8ec4-4aae-b5a6-12c0a6290f05",
   "metadata": {},
   "outputs": [],
   "source": [
    "# 10.1.18"
   ]
  },
  {
   "cell_type": "code",
   "execution_count": 11,
   "id": "114db285-c658-446a-a58f-17a1f008606f",
   "metadata": {},
   "outputs": [
    {
     "name": "stdout",
     "output_type": "stream",
     "text": [
      "45\n"
     ]
    }
   ],
   "source": [
    "numbers = [100, 70, 34, 45, 30, 83, 12, 83, -28, 49, -8, -2, 6, 62, 64, -22, -19, 61, 13, 5, 80, -17, 7, 3, 21, 73, 88, -11, 16, -22]\n",
    "\n",
    "it = iter(numbers)\n",
    "for _ in range(3):\n",
    "    next(it)\n",
    "else:\n",
    "    print(next(it))"
   ]
  },
  {
   "cell_type": "code",
   "execution_count": 9,
   "id": "99ad4b8f-e875-40d5-b4f5-9d2c1c3fdcfb",
   "metadata": {},
   "outputs": [],
   "source": [
    "# 10.1.19"
   ]
  },
  {
   "cell_type": "code",
   "execution_count": 13,
   "id": "cb8f197c-8dc4-418c-9ff1-8956aae0f79f",
   "metadata": {},
   "outputs": [
    {
     "name": "stdout",
     "output_type": "stream",
     "text": [
      "-22\n"
     ]
    }
   ],
   "source": [
    "numbers = [100, 70, 34, 45, 30, 83, 12, 83, -28, 49, -8, -2, 6, 62, 64, -22, -19, 61, 13, 5, 80, -17, 7, 3, 21, 73, 88, -11, 16, -22]\n",
    "\n",
    "revers_numbers = iter(reversed(numbers))\n",
    "print(next(revers_numbers))"
   ]
  },
  {
   "cell_type": "code",
   "execution_count": null,
   "id": "a56b78b8-0fbf-4a0e-a358-c18a72697e48",
   "metadata": {},
   "outputs": [],
   "source": []
  }
 ],
 "metadata": {
  "kernelspec": {
   "display_name": "Python 3 (ipykernel)",
   "language": "python",
   "name": "python3"
  },
  "language_info": {
   "codemirror_mode": {
    "name": "ipython",
    "version": 3
   },
   "file_extension": ".py",
   "mimetype": "text/x-python",
   "name": "python",
   "nbconvert_exporter": "python",
   "pygments_lexer": "ipython3",
   "version": "3.11.6"
  }
 },
 "nbformat": 4,
 "nbformat_minor": 5
}
