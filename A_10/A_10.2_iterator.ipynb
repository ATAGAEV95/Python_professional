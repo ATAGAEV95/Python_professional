{
 "cells": [
  {
   "cell_type": "code",
   "execution_count": 2,
   "id": "ec703e64-d898-4e23-aa2b-46eac4ad40db",
   "metadata": {},
   "outputs": [],
   "source": [
    "# 10.2.20"
   ]
  },
  {
   "cell_type": "code",
   "execution_count": 10,
   "id": "bfd49d7b-3ffd-4884-aec9-596fba4e90dd",
   "metadata": {},
   "outputs": [],
   "source": [
    "def filterfalse(predicate, iterable):\n",
    "    if predicate is None:\n",
    "        predicate = bool\n",
    "    return filter(lambda x: not predicate(x), iterable)"
   ]
  },
  {
   "cell_type": "code",
   "execution_count": 2,
   "id": "9ea62d38-91b6-4a48-976a-93f521acb888",
   "metadata": {},
   "outputs": [],
   "source": [
    "# 10.2.21"
   ]
  },
  {
   "cell_type": "code",
   "execution_count": 41,
   "id": "0128f371-81ab-4696-9271-86ed63ecffab",
   "metadata": {},
   "outputs": [],
   "source": [
    "def transpose(matrix):\n",
    "    mat = zip(*matrix)\n",
    "    return [list(i) for i in mat]"
   ]
  },
  {
   "cell_type": "code",
   "execution_count": 43,
   "id": "5c3c0887",
   "metadata": {},
   "outputs": [],
   "source": [
    "# 10.2.22"
   ]
  },
  {
   "cell_type": "code",
   "execution_count": 65,
   "id": "6ddf8fad-3d98-42ee-8489-c4fc92088287",
   "metadata": {},
   "outputs": [],
   "source": [
    "def get_min_max(data):\n",
    "    if not data:\n",
    "        return None\n",
    "    return data.index(min(data)), data.index(max(data)) "
   ]
  },
  {
   "cell_type": "code",
   "execution_count": 43,
   "id": "8a78286f",
   "metadata": {},
   "outputs": [],
   "source": [
    "# 10.2.23"
   ]
  },
  {
   "cell_type": "code",
   "execution_count": 76,
   "id": "d1e93bfe-ff2f-43af-8331-11321327d06f",
   "metadata": {},
   "outputs": [],
   "source": [
    "def starmap(func, iterable):\n",
    "    return map(lambda args: func(*args), iterable)"
   ]
  },
  {
   "cell_type": "code",
   "execution_count": 43,
   "id": "511fd988",
   "metadata": {},
   "outputs": [],
   "source": [
    "# 10.2.24"
   ]
  },
  {
   "cell_type": "code",
   "execution_count": 141,
   "id": "4ffe069e-3471-4967-9ffe-82f6e4a05698",
   "metadata": {},
   "outputs": [],
   "source": [
    "import copy\n",
    "\n",
    "def get_min_max(iterable):\n",
    "    try:\n",
    "        iterable2 = copy.deepcopy(iterable)\n",
    "        return (min(iterable2), max(iterable))\n",
    "    except:\n",
    "        return None"
   ]
  },
  {
   "cell_type": "code",
   "execution_count": null,
   "id": "7ab848c4-77a0-40a0-8992-7c88da92bf4f",
   "metadata": {},
   "outputs": [],
   "source": []
  }
 ],
 "metadata": {
  "kernelspec": {
   "display_name": "Python 3 (ipykernel)",
   "language": "python",
   "name": "python3"
  },
  "language_info": {
   "codemirror_mode": {
    "name": "ipython",
    "version": 3
   },
   "file_extension": ".py",
   "mimetype": "text/x-python",
   "name": "python",
   "nbconvert_exporter": "python",
   "pygments_lexer": "ipython3",
   "version": "3.11.6"
  }
 },
 "nbformat": 4,
 "nbformat_minor": 5
}
