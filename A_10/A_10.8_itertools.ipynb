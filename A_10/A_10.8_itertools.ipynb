{
 "cells": [
  {
   "cell_type": "code",
   "execution_count": 16,
   "id": "e397edfd-a5f9-4223-bf5e-21d13f06f3af",
   "metadata": {},
   "outputs": [],
   "source": [
    "# 10.8.15"
   ]
  },
  {
   "cell_type": "code",
   "execution_count": 21,
   "id": "48f5da79-b946-4499-ba81-62b829d1ea50",
   "metadata": {},
   "outputs": [],
   "source": [
    "import itertools as it\n",
    "\n",
    "def tabulate(func):\n",
    "    return map(func, it.count(1))"
   ]
  },
  {
   "cell_type": "code",
   "execution_count": 16,
   "id": "93f57919-9927-47ce-b8f3-bfab23c26532",
   "metadata": {},
   "outputs": [],
   "source": [
    "# 10.8.16"
   ]
  },
  {
   "cell_type": "code",
   "execution_count": 7,
   "id": "633b624a-d313-4401-9316-cb4953d55502",
   "metadata": {},
   "outputs": [],
   "source": [
    "import itertools as it\n",
    "import operator\n",
    "\n",
    "def factorials(n):\n",
    "    return it.accumulate(range(1, n+1), operator.mul)"
   ]
  },
  {
   "cell_type": "code",
   "execution_count": 16,
   "id": "6bad187b-fb95-4247-949f-87e0237277be",
   "metadata": {},
   "outputs": [],
   "source": [
    "# 10.8.17"
   ]
  },
  {
   "cell_type": "code",
   "execution_count": 45,
   "id": "4cf815c2-93c9-426c-8445-e887dc4c837d",
   "metadata": {},
   "outputs": [],
   "source": [
    "def alnum_sequence():\n",
    "    while True:\n",
    "        for i in range(1, 27):\n",
    "            yield i\n",
    "            yield chr(64 + i)"
   ]
  },
  {
   "cell_type": "code",
   "execution_count": 51,
   "id": "6c84740c-417f-4f5f-a6c3-b4c84dc68007",
   "metadata": {},
   "outputs": [],
   "source": [
    "# 10.8.18"
   ]
  },
  {
   "cell_type": "code",
   "execution_count": 96,
   "id": "f84188a1-b28a-48e0-9e12-fab27ff00f4d",
   "metadata": {},
   "outputs": [],
   "source": [
    "from itertools import zip_longest\n",
    "\n",
    "def roundrobin(*args):\n",
    "    return (i for item in (zip_longest(*args, fillvalue='NULL')) for i in item if i != 'NULL')"
   ]
  },
  {
   "cell_type": "code",
   "execution_count": null,
   "id": "4795f432-bb83-403b-b526-0f4d2b178429",
   "metadata": {},
   "outputs": [],
   "source": []
  }
 ],
 "metadata": {
  "kernelspec": {
   "display_name": "Python 3 (ipykernel)",
   "language": "python",
   "name": "python3"
  },
  "language_info": {
   "codemirror_mode": {
    "name": "ipython",
    "version": 3
   },
   "file_extension": ".py",
   "mimetype": "text/x-python",
   "name": "python",
   "nbconvert_exporter": "python",
   "pygments_lexer": "ipython3",
   "version": "3.11.6"
  }
 },
 "nbformat": 4,
 "nbformat_minor": 5
}
