{
 "cells": [
  {
   "cell_type": "code",
   "execution_count": 4,
   "id": "2c1e03d9-b881-4ed3-8a6a-6d9d2d060375",
   "metadata": {},
   "outputs": [],
   "source": [
    "# 10.6.15"
   ]
  },
  {
   "cell_type": "code",
   "execution_count": 8,
   "id": "5141b89e-df40-4cb2-9cb0-3078075d80af",
   "metadata": {},
   "outputs": [],
   "source": [
    "def cubes_of_odds(iterable):\n",
    "    return (i**3 for i in iterable if i % 2 != 0)"
   ]
  },
  {
   "cell_type": "code",
   "execution_count": 4,
   "id": "c2375360-a656-4916-8130-9773868fb4af",
   "metadata": {},
   "outputs": [],
   "source": [
    "# 10.6.16"
   ]
  },
  {
   "cell_type": "code",
   "execution_count": 66,
   "id": "6d54a213-43e9-4d54-86e2-0ef512d86c17",
   "metadata": {},
   "outputs": [],
   "source": [
    "def is_prime(number):\n",
    "    if number == 1:\n",
    "        return False\n",
    "    return all(number % i for i in range(2, int(number**0.5) + 1))"
   ]
  },
  {
   "cell_type": "code",
   "execution_count": 4,
   "id": "7f47e1f7-d5af-4bbf-a396-2bb270142250",
   "metadata": {},
   "outputs": [],
   "source": [
    "# 10.6.17"
   ]
  },
  {
   "cell_type": "code",
   "execution_count": 79,
   "id": "ed8f72aa-8a4c-4fcc-98e7-1c806c0537f7",
   "metadata": {},
   "outputs": [],
   "source": [
    "def count_iterable(iterable):\n",
    "    return sum(1 for i in iterable)"
   ]
  },
  {
   "cell_type": "code",
   "execution_count": 4,
   "id": "23e3cbc4-7e97-4a8c-9ca1-7cc2e6299a02",
   "metadata": {},
   "outputs": [],
   "source": [
    "# 10.6.18"
   ]
  },
  {
   "cell_type": "code",
   "execution_count": 91,
   "id": "d3cbe284-3a05-4ffd-8b54-6a0cd262d3a3",
   "metadata": {},
   "outputs": [],
   "source": [
    "def all_together(*args):\n",
    "    return (i for arg in args for i in arg)"
   ]
  },
  {
   "cell_type": "code",
   "execution_count": 4,
   "id": "7f0790b3-7a1d-4761-9d87-1f946489304c",
   "metadata": {},
   "outputs": [],
   "source": [
    "# 10.6.19"
   ]
  },
  {
   "cell_type": "code",
   "execution_count": 119,
   "id": "0b3a2234-d4f7-4bac-b295-57f61ea1f1f8",
   "metadata": {},
   "outputs": [],
   "source": [
    "def interleave(*args):\n",
    "    return (i for item in zip(*args) for i in item)"
   ]
  },
  {
   "cell_type": "code",
   "execution_count": null,
   "id": "ad1465c8-9a91-4cab-8d6d-2ae4238d74a1",
   "metadata": {},
   "outputs": [],
   "source": []
  }
 ],
 "metadata": {
  "kernelspec": {
   "display_name": "Python 3 (ipykernel)",
   "language": "python",
   "name": "python3"
  },
  "language_info": {
   "codemirror_mode": {
    "name": "ipython",
    "version": 3
   },
   "file_extension": ".py",
   "mimetype": "text/x-python",
   "name": "python",
   "nbconvert_exporter": "python",
   "pygments_lexer": "ipython3",
   "version": "3.11.6"
  }
 },
 "nbformat": 4,
 "nbformat_minor": 5
}
