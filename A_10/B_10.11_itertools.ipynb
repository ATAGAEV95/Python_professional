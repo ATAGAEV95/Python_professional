{
 "cells": [
  {
   "cell_type": "code",
   "execution_count": 28,
   "id": "4ad64743-dd94-41ae-bc54-b66378d9fea0",
   "metadata": {},
   "outputs": [],
   "source": [
    "# 10.11.10"
   ]
  },
  {
   "cell_type": "code",
   "execution_count": 36,
   "id": "d5d5edc5-0765-4fba-a94a-be529829c0ed",
   "metadata": {},
   "outputs": [
    {
     "name": "stdout",
     "output_type": "stream",
     "text": [
      "158: Ariana, Eva\n",
      "172: Mark\n",
      "184: Ryan\n",
      "193: Alex, Jeff, Liam, Tim\n"
     ]
    }
   ],
   "source": [
    "from collections import namedtuple\n",
    "from itertools import groupby\n",
    "\n",
    "Person = namedtuple('Person', ['name', 'age', 'height'])\n",
    "\n",
    "persons = [\n",
    "    Person('Tim', 63, 193), Person('Eva', 47, 158),\n",
    "    Person('Mark', 71, 172), Person('Alex', 45, 193),\n",
    "    Person('Jeff', 63, 193), Person('Ryan', 41, 184),\n",
    "    Person('Ariana', 28, 158), Person('Liam', 69, 193)\n",
    "]\n",
    "\n",
    "persons.sort(key=lambda x: (x.height, x.name))\n",
    "\n",
    "for height, group in groupby(persons, key=lambda x: x.height):\n",
    "    names = ', '.join(person.name for person in group)\n",
    "    print(f\"{height}: {names}\")"
   ]
  },
  {
   "cell_type": "code",
   "execution_count": 37,
   "id": "2d2ccd25-c48f-481e-8969-8b1e9cbcd49f",
   "metadata": {},
   "outputs": [],
   "source": [
    "# 10.11.11"
   ]
  },
  {
   "cell_type": "code",
   "execution_count": 64,
   "id": "3f6311f2-b39c-44de-87dd-e71d8db5cfe8",
   "metadata": {},
   "outputs": [
    {
     "name": "stdout",
     "output_type": "stream",
     "text": [
      "Илья\n"
     ]
    }
   ],
   "source": [
    "from collections import namedtuple\n",
    "from itertools import groupby\n",
    "\n",
    "Student = namedtuple('Student', ['surname', 'name', 'grade'])\n",
    "\n",
    "students = [Student('Гагиев', 'Александр', 10), Student('Дедегкаев', 'Илья', 11), Student('Кодзаев', 'Георгий', 10),\n",
    "            Student('Набокова', 'Алиса', 11), Student('Кораев', 'Артур', 10), Student('Шилин', 'Александр', 11),\n",
    "            Student('Уртаева', 'Илина', 11), Student('Салбиев', 'Максим', 10), Student('Капустин', 'Илья', 11),\n",
    "            Student('Гудцев', 'Таймураз', 11), Student('Перчиков', 'Максим', 10), Student('Чен', 'Илья', 11),\n",
    "            Student('Елькина', 'Мария', 11),Student('Макоев', 'Руслан', 11), Student('Албегов', 'Хетаг', 11),\n",
    "            Student('Щербак', 'Илья', 10), Student('Идрисов', 'Баграт', 11), Student('Гапбаев', 'Герман', 10),\n",
    "            Student('Цивинская', 'Анна', 10), Student('Туткевич', 'Юрий', 11), Student('Мусиков', 'Андраник', 11),\n",
    "            Student('Гадзиев', 'Георгий', 11), Student('Белов', 'Юрий', 11), Student('Акоева', 'Диана', 11),\n",
    "            Student('Денисов', 'Илья', 11), Student('Букулова', 'Диана', 10), Student('Акоева', 'Лера', 11)]\n",
    "\n",
    "students.sort(key=lambda x: x.name)\n",
    "name = groupby(students, key=lambda x: x.name)\n",
    "saved_data = [(key, list(group)) for key, group in name]\n",
    "max_result = max(saved_data, key=lambda tpl: len(tpl[1]))\n",
    "print(max_result[0])"
   ]
  },
  {
   "cell_type": "code",
   "execution_count": 65,
   "id": "b9536d0f-d0d7-436c-9a1a-5f8518ff9a53",
   "metadata": {},
   "outputs": [],
   "source": [
    "# 10.11.12"
   ]
  },
  {
   "cell_type": "code",
   "execution_count": 15,
   "id": "0ec975f7-fc53-447e-81f5-6aa1af130579",
   "metadata": {},
   "outputs": [
    {
     "name": "stdin",
     "output_type": "stream",
     "text": [
      " hi never here my blue\n"
     ]
    },
    {
     "name": "stdout",
     "output_type": "stream",
     "text": [
      "2 -> hi, my\n",
      "4 -> blue, here\n",
      "5 -> never\n"
     ]
    }
   ],
   "source": [
    "from itertools import groupby\n",
    "\n",
    "grouped = groupby(sorted(input().split(), key=len), key=len)\n",
    "\n",
    "for length, words in grouped:\n",
    "    print(f'{length} -> {\", \".join(sorted(words))}')"
   ]
  },
  {
   "cell_type": "code",
   "execution_count": 65,
   "id": "f17a7dd5-6011-477f-b941-a17de73b7ad5",
   "metadata": {},
   "outputs": [],
   "source": [
    "# 10.11.13"
   ]
  },
  {
   "cell_type": "code",
   "execution_count": 41,
   "id": "b6c4fb38-c420-4047-9f5e-63283d74febe",
   "metadata": {},
   "outputs": [],
   "source": [
    "from itertools import groupby\n",
    "\n",
    "tasks = [('Отдых', 'поспать днем', 3),\n",
    "        ('Ответы на вопросы', 'ответить на вопросы в дискорде', 1),\n",
    "        ('ЕГЭ Математика', 'доделать курс по параметрам', 1),\n",
    "        ('Ответы на вопросы', 'ответить на вопросы в курсах', 2),\n",
    "        ('Отдых', 'погулять вечером', 4),\n",
    "        ('Курс по ооп', 'обсудить темы', 1),\n",
    "        ('Урок по groupby', 'добавить задачи на программирование', 3),\n",
    "        ('Урок по groupby', 'написать конспект', 1),\n",
    "        ('Отдых', 'погулять днем', 2),\n",
    "        ('Урок по groupby', 'добавить тестовые задачи', 2),\n",
    "        ('Уборка', 'убраться в ванной', 2),\n",
    "        ('Уборка', 'убраться в комнате', 1),\n",
    "        ('Уборка', 'убраться на кухне', 3),\n",
    "        ('Отдых', 'погулять утром', 1),\n",
    "        ('Курс по ооп', 'обсудить задачи', 2)]\n",
    "\n",
    "sorted_tasks = sorted(tasks, key=lambda x: (x[0], x[2]))\n",
    "group = groupby(sorted_tasks, key=lambda x: x[0])\n",
    "\n",
    "for case, work in group:\n",
    "    print(f'{case}:')\n",
    "    for _, task, num in work:\n",
    "        print(f'\\t{num}. {task}')   \n",
    "    print()"
   ]
  },
  {
   "cell_type": "code",
   "execution_count": 65,
   "id": "0b0edfc8-9a62-4b8e-8114-80855f4b7b0b",
   "metadata": {},
   "outputs": [],
   "source": [
    "# 10.11.14"
   ]
  },
  {
   "cell_type": "code",
   "execution_count": 92,
   "id": "fe969533-a35e-427c-ac78-4910e9552079",
   "metadata": {},
   "outputs": [],
   "source": [
    "from itertools import groupby\n",
    "\n",
    "def group_anagrams(words):\n",
    "    return [tuple(value) for key, value in groupby(sorted(words, key=sorted), key=sorted)]"
   ]
  },
  {
   "cell_type": "code",
   "execution_count": 65,
   "id": "99fc7405-8010-481e-9e11-bca7b1679958",
   "metadata": {},
   "outputs": [],
   "source": [
    "# 10.11.15"
   ]
  },
  {
   "cell_type": "code",
   "execution_count": 102,
   "id": "291a5934-543e-4d60-a06a-80a8efc9852b",
   "metadata": {},
   "outputs": [],
   "source": [
    "from itertools import groupby\n",
    "\n",
    "def ranges(numbers):\n",
    "    result = []\n",
    "    for _, group in groupby(enumerate(numbers), key=lambda x: x[1] - x[0]):\n",
    "        group = list(group)\n",
    "        result.append((group[0][1], group[-1][1]))\n",
    "    return result"
   ]
  },
  {
   "cell_type": "code",
   "execution_count": null,
   "id": "5f450631-b85e-4297-b7d5-894e1e276091",
   "metadata": {},
   "outputs": [],
   "source": []
  }
 ],
 "metadata": {
  "kernelspec": {
   "display_name": "Python 3 (ipykernel)",
   "language": "python",
   "name": "python3"
  },
  "language_info": {
   "codemirror_mode": {
    "name": "ipython",
    "version": 3
   },
   "file_extension": ".py",
   "mimetype": "text/x-python",
   "name": "python",
   "nbconvert_exporter": "python",
   "pygments_lexer": "ipython3",
   "version": "3.11.6"
  }
 },
 "nbformat": 4,
 "nbformat_minor": 5
}
