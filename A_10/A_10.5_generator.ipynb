{
 "cells": [
  {
   "cell_type": "code",
   "execution_count": null,
   "id": "cd3cfedb-6337-478f-af43-ce26fab76017",
   "metadata": {},
   "outputs": [],
   "source": [
    "# 10.5.15"
   ]
  },
  {
   "cell_type": "code",
   "execution_count": 25,
   "id": "a068a644-8bbc-4d68-9cd0-b79c048dc108",
   "metadata": {},
   "outputs": [],
   "source": [
    "def simple_sequence():\n",
    "    n = 1\n",
    "    while True:\n",
    "        for _ in range(1, n+1):\n",
    "            yield n\n",
    "        n += 1"
   ]
  },
  {
   "cell_type": "code",
   "execution_count": 28,
   "id": "6cbfbc6b-fa77-4d30-bf10-c394ecc2b8c0",
   "metadata": {},
   "outputs": [],
   "source": [
    "# 10.5.16"
   ]
  },
  {
   "cell_type": "code",
   "execution_count": 38,
   "id": "e25a014c-9ece-432f-9e68-7ecea528d0e9",
   "metadata": {},
   "outputs": [],
   "source": [
    "def alternating_sequence(count=None):\n",
    "    n = 0\n",
    "    while n != count:\n",
    "        n += 1\n",
    "        yield n if n % 2 else -n"
   ]
  },
  {
   "cell_type": "code",
   "execution_count": 28,
   "id": "39f1d894-a48a-40d3-8d52-a304a478698d",
   "metadata": {},
   "outputs": [],
   "source": [
    "# 10.5.17"
   ]
  },
  {
   "cell_type": "code",
   "execution_count": 48,
   "id": "e92c34cf-7b82-4c40-9d08-6bf69c54321a",
   "metadata": {},
   "outputs": [],
   "source": [
    "from sympy import isprime\n",
    "\n",
    "def primes(left, right):\n",
    "    for i in range(left, right+1):\n",
    "        if isprime(i):\n",
    "            yield i"
   ]
  },
  {
   "cell_type": "code",
   "execution_count": 28,
   "id": "d6e57886-08af-4096-aed8-e22c7c1fa739",
   "metadata": {},
   "outputs": [],
   "source": [
    "# 10.5.18"
   ]
  },
  {
   "cell_type": "code",
   "execution_count": 60,
   "id": "b0b57f99-a36e-483f-bfbf-acc62307e216",
   "metadata": {},
   "outputs": [],
   "source": [
    "def reverse(seq):\n",
    "    for i in reversed(seq):\n",
    "        yield i"
   ]
  },
  {
   "cell_type": "code",
   "execution_count": 28,
   "id": "f67bd143-486d-4e59-baf0-169135ceb75c",
   "metadata": {},
   "outputs": [],
   "source": [
    "# 10.5.19"
   ]
  },
  {
   "cell_type": "code",
   "execution_count": null,
   "id": "5e223e75-79c7-4fa7-9930-1d92a22f98b9",
   "metadata": {},
   "outputs": [],
   "source": [
    "from datetime import date, timedelta\n",
    "\n",
    "def dates(start, count=None):\n",
    "    n = 0\n",
    "    while n != count:\n",
    "        n += 1\n",
    "        yield start\n",
    "        try:\n",
    "            start += timedelta(days=1)\n",
    "        except:\n",
    "            return"
   ]
  },
  {
   "cell_type": "code",
   "execution_count": 79,
   "id": "57250a6c-701a-44a2-af5b-ccee712eecb9",
   "metadata": {},
   "outputs": [],
   "source": [
    "# 10.5.20"
   ]
  },
  {
   "cell_type": "code",
   "execution_count": null,
   "id": "0b303007-103b-4fb4-b43b-c02f72149ecf",
   "metadata": {},
   "outputs": [],
   "source": [
    "def card_deck(suit):\n",
    "    suits = ['пик', 'треф', 'бубен', 'червей']\n",
    "    ranks = ['2', '3', '4', '5', '6', '7', '8', '9', '10', 'валет', 'дама', 'король', 'туз']\n",
    "    suits.remove(suit)\n",
    "    deck = [f\"{rank} {s}\" for s in suits for rank in ranks]\n",
    "    while True:\n",
    "        for card in deck:\n",
    "            yield card"
   ]
  },
  {
   "cell_type": "code",
   "execution_count": 84,
   "id": "4a3127c0-edeb-45da-8621-259debe5518e",
   "metadata": {},
   "outputs": [],
   "source": [
    "# 10.5.25"
   ]
  },
  {
   "cell_type": "code",
   "execution_count": 89,
   "id": "6f815aa8-1862-479b-874e-f7d335d1a8af",
   "metadata": {},
   "outputs": [],
   "source": [
    "def matrix_by_elem(matrix):\n",
    "    for i in matrix:\n",
    "        yield from i"
   ]
  },
  {
   "cell_type": "code",
   "execution_count": 91,
   "id": "9d6fcc03-94cb-4362-bc37-e7257afd5060",
   "metadata": {},
   "outputs": [],
   "source": [
    "# 10.5.26"
   ]
  },
  {
   "cell_type": "code",
   "execution_count": 97,
   "id": "7caf3501-9e9c-4f80-b81a-7e80d262d732",
   "metadata": {},
   "outputs": [],
   "source": [
    "def palindromes():\n",
    "    def is_palindrome(n):\n",
    "        s = str(n)\n",
    "        return s == s[::-1]\n",
    "    n = 1\n",
    "    while True:\n",
    "        if is_palindrome(n):\n",
    "            yield n\n",
    "        n += 1"
   ]
  },
  {
   "cell_type": "code",
   "execution_count": 91,
   "id": "bfc27466-6c14-40b0-8a12-30be877eaa85",
   "metadata": {},
   "outputs": [],
   "source": [
    "# 10.5.27"
   ]
  },
  {
   "cell_type": "code",
   "execution_count": 125,
   "id": "da200aab-6cb5-477d-90a4-428c87476622",
   "metadata": {},
   "outputs": [],
   "source": [
    "def flatten(nested_list):\n",
    "    for i in nested_list:\n",
    "        if isinstance(i, list):\n",
    "            yield from flatten(i)\n",
    "        else:\n",
    "            yield i"
   ]
  },
  {
   "cell_type": "code",
   "execution_count": null,
   "id": "9f832042-f67f-4523-ab78-afa05480e6bc",
   "metadata": {},
   "outputs": [],
   "source": []
  }
 ],
 "metadata": {
  "kernelspec": {
   "display_name": "Python 3 (ipykernel)",
   "language": "python",
   "name": "python3"
  },
  "language_info": {
   "codemirror_mode": {
    "name": "ipython",
    "version": 3
   },
   "file_extension": ".py",
   "mimetype": "text/x-python",
   "name": "python",
   "nbconvert_exporter": "python",
   "pygments_lexer": "ipython3",
   "version": "3.11.6"
  }
 },
 "nbformat": 4,
 "nbformat_minor": 5
}
