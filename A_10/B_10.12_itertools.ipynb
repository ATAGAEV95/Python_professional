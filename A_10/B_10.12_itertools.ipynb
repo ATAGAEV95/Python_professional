{
 "cells": [
  {
   "cell_type": "code",
   "execution_count": 5,
   "id": "73cc1ab4-2d69-4ad0-b7eb-671b32d106da",
   "metadata": {},
   "outputs": [],
   "source": [
    "# 10.12.11"
   ]
  },
  {
   "cell_type": "code",
   "execution_count": 12,
   "id": "6c8202b9-3b25-44f0-a06c-7a5dad406d1c",
   "metadata": {},
   "outputs": [],
   "source": [
    "from itertools import permutations\n",
    "\n",
    "for char in sorted(set(permutations(input()))):\n",
    "    print(''.join(char))"
   ]
  },
  {
   "cell_type": "code",
   "execution_count": 5,
   "id": "632f5327-0736-4705-b3a4-461f32a6de6e",
   "metadata": {},
   "outputs": [],
   "source": [
    "# 10.12.12"
   ]
  },
  {
   "cell_type": "code",
   "execution_count": 15,
   "id": "7073bb03-ac87-4b4b-9f08-2cc3938d4101",
   "metadata": {},
   "outputs": [
    {
     "name": "stdout",
     "output_type": "stream",
     "text": [
      "16\n"
     ]
    }
   ],
   "source": [
    "from itertools import combinations\n",
    "\n",
    "wallet = [100, 100, 50, 50, 50, 50, 20, 20, 20, 10, 10, 10, 10, 10, 5, 5, 1, 1, 1, 1, 1]\n",
    "\n",
    "print(sum(1 for i in range(len(wallet)) for j in set(combinations(wallet, r=i)) if sum(j) == 100))"
   ]
  },
  {
   "cell_type": "code",
   "execution_count": 5,
   "id": "5c2bcb5c-eb2a-4e0a-8b3e-bb43fa914de8",
   "metadata": {},
   "outputs": [],
   "source": [
    "# 10.12.13"
   ]
  },
  {
   "cell_type": "code",
   "execution_count": 19,
   "id": "4ff22b4a-5008-4b21-9afe-62dada623b9d",
   "metadata": {},
   "outputs": [
    {
     "name": "stdout",
     "output_type": "stream",
     "text": [
      "50\n"
     ]
    }
   ],
   "source": [
    "from itertools import combinations_with_replacement\n",
    "\n",
    "wallet = [100, 50, 20, 10, 5]\n",
    "\n",
    "print(len({k for i in range(1, 21) for k in combinations_with_replacement(wallet, i) if sum(k) == 100}))"
   ]
  },
  {
   "cell_type": "code",
   "execution_count": 20,
   "id": "7fd1c791-bc28-49b4-8b34-ed78a9557394",
   "metadata": {},
   "outputs": [],
   "source": [
    "# 10.12.14"
   ]
  },
  {
   "cell_type": "code",
   "execution_count": null,
   "id": "9d43ef47-9436-4d8b-b6e1-b6abde54b290",
   "metadata": {},
   "outputs": [],
   "source": [
    "value = int(input())\n",
    "\n",
    "if min(items, key=lambda x: x.mass).mass > value:\n",
    "    print('Рюкзак собрать не удастся')\n",
    "else:\n",
    "    data = chain.from_iterable(combinations(items, r=i) for i in range(1, 11))\n",
    "    data_filtered = filter(lambda x: value >= sum(i.mass for i in x), data)\n",
    "    result = max(data_filtered, key=lambda x: sum(i.price for i in x))\n",
    "    print(*sorted(i.name for i in result), sep='\\n')"
   ]
  },
  {
   "cell_type": "code",
   "execution_count": 8,
   "id": "f40ff8a0-3164-4c7d-bc01-45d4150a0478",
   "metadata": {},
   "outputs": [],
   "source": [
    "# 10.12.20"
   ]
  },
  {
   "cell_type": "code",
   "execution_count": 13,
   "id": "41445ad8-b152-48b2-9d02-fb9a4e2c5e88",
   "metadata": {},
   "outputs": [
    {
     "name": "stdout",
     "output_type": "stream",
     "text": [
      "a1 a2 a3 a4 a5 a6 a7 a8 b1 b2 b3 b4 b5 b6 b7 b8 c1 c2 c3 c4 c5 c6 c7 c8 d1 d2 d3 d4 d5 d6 d7 d8 e1 e2 e3 e4 e5 e6 e7 e8 f1 f2 f3 f4 f5 f6 f7 f8 g1 g2 g3 g4 g5 g6 g7 g8 h1 h2 h3 h4 h5 h6 h7 h8 "
     ]
    }
   ],
   "source": [
    "from string import ascii_lowercase\n",
    "from itertools import product\n",
    "\n",
    "letters = ascii_lowercase[:8]\n",
    "digits = [1, 2, 3, 4, 5, 6, 7, 8]\n",
    "\n",
    "for item in product(letters, digits):\n",
    "    print(*item, sep='', end=' ')"
   ]
  },
  {
   "cell_type": "code",
   "execution_count": 8,
   "id": "68f41217-4834-4d5f-8ce3-c5e593220dca",
   "metadata": {},
   "outputs": [],
   "source": [
    "# 10.12.21"
   ]
  },
  {
   "cell_type": "code",
   "execution_count": 16,
   "id": "db670cfc-3fa7-43f9-9ff2-0d13da99debb",
   "metadata": {},
   "outputs": [],
   "source": [
    "from itertools import product\n",
    "\n",
    "def password_gen():\n",
    "    for i, j, k in product(range(10), range(10), range(10)):\n",
    "        yield str(i) + str(j) + str(k)"
   ]
  },
  {
   "cell_type": "code",
   "execution_count": 8,
   "id": "2b1d29fa-335c-4c06-a21a-c27a66a3a4f7",
   "metadata": {},
   "outputs": [],
   "source": [
    "# 10.12.22"
   ]
  },
  {
   "cell_type": "code",
   "execution_count": 28,
   "id": "552c9eef-298d-427c-afd5-593a065680b3",
   "metadata": {},
   "outputs": [
    {
     "name": "stdin",
     "output_type": "stream",
     "text": [
      " 2\n",
      " 3\n"
     ]
    },
    {
     "name": "stdout",
     "output_type": "stream",
     "text": [
      "000 001 010 011 100 101 110 111 "
     ]
    }
   ],
   "source": [
    "from itertools import product\n",
    "\n",
    "digits = [*map(str, range(10)), *'ABCDEF']\n",
    "for i in product(digits[:int(input())], repeat=int(input())):\n",
    "    print(*i, sep='', end=' ')"
   ]
  },
  {
   "cell_type": "code",
   "execution_count": null,
   "id": "7cf218d5-0904-418a-9ccb-549c8a705792",
   "metadata": {},
   "outputs": [],
   "source": []
  }
 ],
 "metadata": {
  "kernelspec": {
   "display_name": "Python 3 (ipykernel)",
   "language": "python",
   "name": "python3"
  },
  "language_info": {
   "codemirror_mode": {
    "name": "ipython",
    "version": 3
   },
   "file_extension": ".py",
   "mimetype": "text/x-python",
   "name": "python",
   "nbconvert_exporter": "python",
   "pygments_lexer": "ipython3",
   "version": "3.11.6"
  }
 },
 "nbformat": 4,
 "nbformat_minor": 5
}
