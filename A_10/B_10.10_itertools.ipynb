{
 "cells": [
  {
   "cell_type": "code",
   "execution_count": 23,
   "id": "98911dfd-be49-480b-84c9-2e76dbc1f0fe",
   "metadata": {},
   "outputs": [],
   "source": [
    "# 10.10.13"
   ]
  },
  {
   "cell_type": "code",
   "execution_count": 46,
   "id": "2ac5619d-b09f-4f4b-8420-bbccbf7f0b0b",
   "metadata": {},
   "outputs": [],
   "source": [
    "from itertools import chain\n",
    "\n",
    "def sum_of_digits(iterable):\n",
    "    return sum(map(int, chain.from_iterable(map(str, iterable))))"
   ]
  },
  {
   "cell_type": "code",
   "execution_count": 50,
   "id": "222562af-65e4-48a4-a9d4-fd30b8d8ad0e",
   "metadata": {},
   "outputs": [],
   "source": [
    "# 10.10.14"
   ]
  },
  {
   "cell_type": "code",
   "execution_count": 81,
   "id": "8e47aeaa-d7d5-400f-b0a4-b5e7da22692e",
   "metadata": {},
   "outputs": [],
   "source": [
    "from itertools import pairwise\n",
    "\n",
    "def is_rising(iterable):\n",
    "    return all(i[0] < i[1] for i in pairwise(iterable))"
   ]
  },
  {
   "cell_type": "code",
   "execution_count": 112,
   "id": "0d6c762e-8de8-47a2-a5a9-43b99e3c776d",
   "metadata": {},
   "outputs": [],
   "source": [
    "from itertools import pairwise, starmap\n",
    "\n",
    "def is_rising(iterable):\n",
    "    return all(starmap(lambda x, y: x < y, pairwise(iterable)))"
   ]
  },
  {
   "cell_type": "code",
   "execution_count": 50,
   "id": "a7962d93-b8c7-4b9b-93fc-94c0ac375b89",
   "metadata": {},
   "outputs": [],
   "source": [
    "# 10.10.15"
   ]
  },
  {
   "cell_type": "code",
   "execution_count": 101,
   "id": "ca892b0f-e392-42b6-961a-246ba3bf25ec",
   "metadata": {},
   "outputs": [],
   "source": [
    "from itertools import pairwise, starmap\n",
    "\n",
    "def max_pair(iterable):\n",
    "    return max(starmap(lambda x, y: x + y, pairwise(iterable)))"
   ]
  },
  {
   "cell_type": "code",
   "execution_count": 115,
   "id": "0a34fc91-f0a0-427e-b2ab-e0eef7b74aba",
   "metadata": {},
   "outputs": [],
   "source": [
    "# 10.10.16"
   ]
  },
  {
   "cell_type": "code",
   "execution_count": 16,
   "id": "a9d38026-4ae1-4ffb-835d-48d17ebe378a",
   "metadata": {},
   "outputs": [],
   "source": [
    "from itertools import chain, repeat\n",
    "\n",
    "def ncycles(iterable, times):\n",
    "    return chain.from_iterable(repeat(list(iterable), times))"
   ]
  },
  {
   "cell_type": "code",
   "execution_count": 115,
   "id": "b86344c7-11f1-4e93-9fe1-b3336ae01bb7",
   "metadata": {},
   "outputs": [],
   "source": [
    "# 10.10.17"
   ]
  },
  {
   "cell_type": "code",
   "execution_count": 33,
   "id": "d2bc1f37-a6fb-4a5f-94f8-c3c380c1c7b8",
   "metadata": {},
   "outputs": [],
   "source": [
    "from itertools import zip_longest, repeat\n",
    "\n",
    "def grouper(iterable, n):\n",
    "    return zip_longest(*repeat(iter(iterable), n))"
   ]
  },
  {
   "cell_type": "code",
   "execution_count": null,
   "id": "5881b435-d230-4b19-bd2f-5ddbee5ce510",
   "metadata": {},
   "outputs": [],
   "source": []
  }
 ],
 "metadata": {
  "kernelspec": {
   "display_name": "Python 3 (ipykernel)",
   "language": "python",
   "name": "python3"
  },
  "language_info": {
   "codemirror_mode": {
    "name": "ipython",
    "version": 3
   },
   "file_extension": ".py",
   "mimetype": "text/x-python",
   "name": "python",
   "nbconvert_exporter": "python",
   "pygments_lexer": "ipython3",
   "version": "3.11.6"
  }
 },
 "nbformat": 4,
 "nbformat_minor": 5
}
