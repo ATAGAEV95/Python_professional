{
 "cells": [
  {
   "cell_type": "code",
   "execution_count": 7,
   "id": "42b27057-4713-4a78-a618-d77c17e7c176",
   "metadata": {},
   "outputs": [],
   "source": [
    "# 10.4.7"
   ]
  },
  {
   "cell_type": "code",
   "execution_count": 8,
   "id": "b388e9bd-4f97-4606-942a-383962d16e23",
   "metadata": {},
   "outputs": [],
   "source": [
    "class Repeater:\n",
    "    def __init__(self, obj):\n",
    "        self.obj = obj\n",
    "\n",
    "    def __iter__(self):\n",
    "        return self\n",
    "\n",
    "    def __next__(self):\n",
    "        return self.obj"
   ]
  },
  {
   "cell_type": "code",
   "execution_count": 9,
   "id": "c6e4935b-57a1-4b67-aa95-2495bdb85d13",
   "metadata": {},
   "outputs": [],
   "source": [
    "# 10.4.8"
   ]
  },
  {
   "cell_type": "code",
   "execution_count": 22,
   "id": "6e3704f4-3d96-44c6-9b68-9bd06b77cf6d",
   "metadata": {},
   "outputs": [],
   "source": [
    "class BoundedRepeater:\n",
    "    def __init__(self, obj, times):\n",
    "        self.obj = obj\n",
    "        self.times = times\n",
    "        self.count = 0\n",
    "\n",
    "    def __iter__(self):\n",
    "        return self\n",
    "\n",
    "    def __next__(self):\n",
    "        if self.count >= self.times:\n",
    "            raise StopIteration\n",
    "        self.count += 1\n",
    "        return self.obj"
   ]
  },
  {
   "cell_type": "code",
   "execution_count": 9,
   "id": "441a5a98",
   "metadata": {},
   "outputs": [],
   "source": [
    "# 10.4.9"
   ]
  },
  {
   "cell_type": "code",
   "execution_count": 5,
   "id": "2fe640bc-f206-46a7-ad9a-2bb2cd1fc367",
   "metadata": {},
   "outputs": [],
   "source": [
    "class Square:\n",
    "    def __init__(self, n):\n",
    "        self.n = n\n",
    "        self.current = 1\n",
    "\n",
    "    def __iter__(self):\n",
    "        return self\n",
    "\n",
    "    def __next__(self):\n",
    "        if self.current > self.n:\n",
    "            raise StopIteration\n",
    "        result = self.current ** 2\n",
    "        self.current += 1\n",
    "        return result"
   ]
  },
  {
   "cell_type": "code",
   "execution_count": 9,
   "id": "a6d97ee4-768f-465d-bccb-dd88a29497d0",
   "metadata": {},
   "outputs": [],
   "source": [
    "# 10.4.10"
   ]
  },
  {
   "cell_type": "code",
   "execution_count": null,
   "id": "1262a7b9-9981-4c1a-ab75-2b7e82cb23d5",
   "metadata": {},
   "outputs": [],
   "source": [
    "class Fibonacci:\n",
    "    def __init__(self):\n",
    "        self.a, self.b = 1, 1\n",
    "\n",
    "    def __iter__(self):\n",
    "        return self\n",
    "\n",
    "    def __next__(self):\n",
    "        value = self.a\n",
    "        self.a, self.b = self.b, self.a + self.b\n",
    "        return value"
   ]
  },
  {
   "cell_type": "code",
   "execution_count": 9,
   "id": "93ac5e07-9f48-496f-99ee-d956e3e0a8b9",
   "metadata": {},
   "outputs": [],
   "source": [
    "# 10.4.11"
   ]
  },
  {
   "cell_type": "code",
   "execution_count": 10,
   "id": "4866196f-39a4-4f1a-81ca-39be65bb8642",
   "metadata": {},
   "outputs": [],
   "source": [
    "class PowerOf:\n",
    "    def __init__(self, number):\n",
    "        self.number = number\n",
    "        self.current = 0\n",
    "\n",
    "    def __iter__(self):\n",
    "        return self\n",
    "\n",
    "    def __next__(self):\n",
    "        value = self.number ** self.current\n",
    "        self.current += 1\n",
    "        return value"
   ]
  },
  {
   "cell_type": "code",
   "execution_count": 9,
   "id": "27930f03-2f22-4518-b84a-f7f1746a2a80",
   "metadata": {},
   "outputs": [],
   "source": [
    "# 10.4.12"
   ]
  },
  {
   "cell_type": "code",
   "execution_count": 8,
   "id": "ecf049d5-3181-42ef-804b-cfc90e132cae",
   "metadata": {},
   "outputs": [],
   "source": [
    "class DictItemsIterator:\n",
    "    def __init__(self, data):\n",
    "        self.data = list(data.items())\n",
    "        self.index = 0\n",
    "\n",
    "    def __iter__(self):\n",
    "        return self\n",
    "\n",
    "    def __next__(self):\n",
    "        if self.index >= len(self.data):\n",
    "            raise StopIteration\n",
    "        pair = self.data[self.index]\n",
    "        self.index += 1\n",
    "        return pair"
   ]
  },
  {
   "cell_type": "code",
   "execution_count": 9,
   "id": "9b06a0d1-cad2-4a0a-8d22-f92d3114af81",
   "metadata": {},
   "outputs": [],
   "source": [
    "# 10.4.13"
   ]
  },
  {
   "cell_type": "code",
   "execution_count": null,
   "id": "e6a74a89-6091-4d92-89c0-14184fc49298",
   "metadata": {},
   "outputs": [],
   "source": [
    "class CardDeck:\n",
    "    def __init__(self):\n",
    "        self.ranks = [\"2\", \"3\", \"4\", \"5\", \"6\", \"7\", \"8\", \"9\", \"10\",\n",
    "                        \"валет\", \"дама\", \"король\", \"туз\"]\n",
    "        self.suits = [\"пик\", \"треф\", \"бубен\", \"червей\"]\n",
    "        self.deck = [f\"{rank} {suit}\" for suit in self.suits for rank in self.ranks]\n",
    "        self.index = 0\n",
    "\n",
    "    def __iter__(self):\n",
    "        return self\n",
    "\n",
    "    def __next__(self):\n",
    "        if self.index >= len(self.deck):\n",
    "            raise StopIteration\n",
    "        card = self.deck[self.index]\n",
    "        self.index += 1\n",
    "        return card"
   ]
  },
  {
   "cell_type": "code",
   "execution_count": 11,
   "id": "5af382c7-ea87-46bc-ab1e-3a9369fd3405",
   "metadata": {},
   "outputs": [],
   "source": [
    "# 10.4.14"
   ]
  },
  {
   "cell_type": "code",
   "execution_count": 8,
   "id": "ffac07fb-cad0-4a64-a116-96fb2cb67654",
   "metadata": {},
   "outputs": [],
   "source": [
    "class Cycle:\n",
    "    def __init__(self, iterable):\n",
    "        self.iterable = iterable\n",
    "        self.index = 0\n",
    "\n",
    "    def __iter__(self):\n",
    "        return self\n",
    "\n",
    "    def __next__(self):\n",
    "        if self.index == len(self.iterable):\n",
    "            self.index = 0\n",
    "        value = self.iterable[self.index]\n",
    "        self.index += 1\n",
    "        return value"
   ]
  },
  {
   "cell_type": "code",
   "execution_count": 11,
   "id": "66ad55aa",
   "metadata": {},
   "outputs": [],
   "source": [
    "# 10.4.15"
   ]
  },
  {
   "cell_type": "code",
   "execution_count": 21,
   "id": "0ec0dd6c-d984-4181-a22b-0f6a81e9a5b0",
   "metadata": {},
   "outputs": [],
   "source": [
    "import random\n",
    "\n",
    "class RandomNumbers:\n",
    "    def __init__(self, left, right, n):\n",
    "        self.left = left\n",
    "        self.right = right\n",
    "        self.n = n\n",
    "        self.index = 0\n",
    "\n",
    "    def __iter__(self):\n",
    "        return self\n",
    "\n",
    "    def __next__(self):\n",
    "        if self.index == self.n:\n",
    "            raise StopIteration\n",
    "        value = random.randint(self.left, self.right)\n",
    "        self.index += 1\n",
    "        return value"
   ]
  },
  {
   "cell_type": "code",
   "execution_count": 11,
   "id": "a6ef59d6",
   "metadata": {},
   "outputs": [],
   "source": [
    "# 10.4.16"
   ]
  },
  {
   "cell_type": "code",
   "execution_count": 36,
   "id": "865a3939-806a-463c-933d-83687473c0ee",
   "metadata": {},
   "outputs": [],
   "source": [
    "class Alphabet:\n",
    "    def __init__(self, language):\n",
    "        self.language = language\n",
    "        self.ru = 1072\n",
    "        self.en = 97\n",
    "\n",
    "    def __iter__(self):\n",
    "        return self\n",
    "\n",
    "    def __next__(self):\n",
    "        if self.language == 'ru':\n",
    "            if self.ru == 1104:\n",
    "                self.ru = 1072\n",
    "            value = chr(self.ru)\n",
    "            self.ru += 1\n",
    "            return value\n",
    "        elif self.language == 'en':\n",
    "            if self.en == 123:\n",
    "                self.en = 97\n",
    "            value = chr(self.en)\n",
    "            self.en += 1\n",
    "            return value"
   ]
  },
  {
   "cell_type": "code",
   "execution_count": 11,
   "id": "d8eb37a1",
   "metadata": {},
   "outputs": [],
   "source": [
    "# 10.4.16"
   ]
  },
  {
   "cell_type": "code",
   "execution_count": 60,
   "id": "41aac777-85fb-4eb4-b002-b7c73d4fd17e",
   "metadata": {},
   "outputs": [],
   "source": [
    "class Xrange:\n",
    "    def __init__(self, start, end, step=1):\n",
    "        self.start = start - step\n",
    "        self.end = end\n",
    "        self.step = step\n",
    "\n",
    "    def __iter__(self):\n",
    "        return self\n",
    "\n",
    "    def __next__(self):\n",
    "        if self.step > 0:\n",
    "            self.start += self.step\n",
    "            if self.start >= self.end:\n",
    "                raise StopIteration\n",
    "            return self.start\n",
    "        if self.step < 0:\n",
    "            self.start += self.step\n",
    "            if self.start <= self.end:\n",
    "                raise StopIteration\n",
    "            return self.start"
   ]
  },
  {
   "cell_type": "code",
   "execution_count": null,
   "id": "e8913fa0-b3b2-4dd4-a9a3-70c9e35db4ad",
   "metadata": {},
   "outputs": [],
   "source": []
  }
 ],
 "metadata": {
  "kernelspec": {
   "display_name": "Python 3 (ipykernel)",
   "language": "python",
   "name": "python3"
  },
  "language_info": {
   "codemirror_mode": {
    "name": "ipython",
    "version": 3
   },
   "file_extension": ".py",
   "mimetype": "text/x-python",
   "name": "python",
   "nbconvert_exporter": "python",
   "pygments_lexer": "ipython3",
   "version": "3.11.6"
  }
 },
 "nbformat": 4,
 "nbformat_minor": 5
}
