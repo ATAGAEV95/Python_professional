{
 "cells": [
  {
   "cell_type": "code",
   "execution_count": 7,
   "id": "1e3f267a-df1e-454e-9279-e5312a509b6b",
   "metadata": {},
   "outputs": [],
   "source": [
    "# 10.7.5"
   ]
  },
  {
   "cell_type": "code",
   "execution_count": 74,
   "id": "d8bf03dd-3641-4992-aa0d-437498bebd83",
   "metadata": {},
   "outputs": [
    {
     "name": "stdout",
     "output_type": "stream",
     "text": [
      "Jon Bale\n"
     ]
    }
   ],
   "source": [
    "from collections import namedtuple\n",
    "\n",
    "Person = namedtuple('Person', ['name', 'nationality', 'sex', 'birth', 'death'])\n",
    "\n",
    "persons = [Person('E. M. Ashe', 'American', 'male', 1867, 1941),\n",
    "           Person('Goran Aslin', 'Swedish', 'male', 1980, 0),\n",
    "           Person('Erik Gunnar Asplund', 'Swedish', 'male', 1885, 1940),\n",
    "           Person('Genevieve Asse', 'French', 'female', 1949, 0),\n",
    "           Person('Irene Adler', 'Swedish', 'female', 2005, 0),\n",
    "           Person('Sergio Asti', 'Italian', 'male', 1926, 0),\n",
    "           Person('Olof Backman', 'Swedish', 'male', 1999, 0),\n",
    "           Person('Alyson Hannigan', 'Swedish', 'female', 1940, 1987),\n",
    "           Person('Dana Atchley', 'American', 'female', 1941, 2000),\n",
    "           Person('Monika Andersson', 'Swedish', 'female', 1957, 0),\n",
    "           Person('Shura_Stone', 'Russian', 'male', 2000, 0),\n",
    " s         Person('Jon Bale', 'Swedish', 'male', 2000, 0)]\n",
    "\n",
    "youngest_male = max((person for person in persons if person.sex == 'male' and \n",
    "                     person.nationality == 'Swedish' and person.death == 0), key=lambda x: x.birth)\n",
    "print(youngest_male.name)"
   ]
  },
  {
   "cell_type": "code",
   "execution_count": 7,
   "id": "8bc3d4bd-1533-4e3e-9b15-470947a0c24d",
   "metadata": {},
   "outputs": [],
   "source": [
    "# 10.7.6"
   ]
  },
  {
   "cell_type": "code",
   "execution_count": 112,
   "id": "e69e9eb7-bd0d-4894-b4c6-45fb55eafaf6",
   "metadata": {},
   "outputs": [],
   "source": [
    "def parse_ranges(ranges):\n",
    "    range_line = (i for i in ranges.split(','))\n",
    "    range_list = (i.split('-') for i in range_line)\n",
    "    range_int = ((int(i[0]), int(i[1])) for i in range_list)\n",
    "    return (k for i, j in range_int for k in range(i, j+1))"
   ]
  },
  {
   "cell_type": "code",
   "execution_count": 101,
   "id": "655fd80d-0f69-4c6d-8adb-03c6c68774c3",
   "metadata": {},
   "outputs": [],
   "source": [
    "def parse_ranges(ranges):\n",
    "    return (num for part in ranges.split(',') for start, end in [map(int, part.split('-'))] for num in range(start, end + 1))"
   ]
  },
  {
   "cell_type": "code",
   "execution_count": 105,
   "id": "4c5a60dc-25ee-4f24-b632-41b5e8c24367",
   "metadata": {},
   "outputs": [],
   "source": [
    "def parse_ranges(ranges):\n",
    "    range_int = (range(int(start), int(end) + 1) for start, end in (part.split('-') for part in ranges.split(',')))\n",
    "    return (num for r in range_int for num in r)"
   ]
  },
  {
   "cell_type": "code",
   "execution_count": 7,
   "id": "5ac6df24-253d-4ab1-a2ae-3c0df527e0d3",
   "metadata": {},
   "outputs": [],
   "source": [
    "# 10.7.7"
   ]
  },
  {
   "cell_type": "code",
   "execution_count": 148,
   "id": "e23042bd-b736-411d-967c-c147f5442518",
   "metadata": {},
   "outputs": [],
   "source": [
    "def filter_names(names, ignore_char, max_names):\n",
    "    names_ignore = (i for i in names if i.isalpha() and i[0].lower() != ignore_char.lower())\n",
    "    return (name for i, name in enumerate(names_ignore) if i < max_names)"
   ]
  },
  {
   "cell_type": "code",
   "execution_count": 152,
   "id": "d4a16b8c-5ac9-4150-b86c-5e2237ccfa0b",
   "metadata": {},
   "outputs": [],
   "source": [
    "# 10.7.8"
   ]
  },
  {
   "cell_type": "code",
   "execution_count": 173,
   "id": "052dbfc1-2aa4-4c11-8402-d2f4791fecea",
   "metadata": {},
   "outputs": [
    {
     "name": "stdout",
     "output_type": "stream",
     "text": [
      "4380015000\n"
     ]
    }
   ],
   "source": [
    "import csv\n",
    "\n",
    "with open('data.csv', encoding='utf-8') as file:\n",
    "    line_dicts  = csv.DictReader(file, delimiter=\",\")\n",
    "    result = sum(int(line['raisedAmt']) for line in line_dicts if line[\"round\"] == \"a\")\n",
    "    print(result)"
   ]
  },
  {
   "cell_type": "code",
   "execution_count": 152,
   "id": "01ca25e1",
   "metadata": {},
   "outputs": [],
   "source": [
    "# 10.7.9"
   ]
  },
  {
   "cell_type": "code",
   "execution_count": 180,
   "id": "36b4349b-cd7c-4f69-b35c-2d70d523a910",
   "metadata": {},
   "outputs": [],
   "source": [
    "from datetime import date, timedelta\n",
    "import calendar\n",
    "\n",
    "def years_days(year):\n",
    "    total_days = 366 if calendar.isleap(year) else 365\n",
    "    return (date(year, 1, 1) + timedelta(days=i) for i in range(total_days))"
   ]
  },
  {
   "cell_type": "code",
   "execution_count": 152,
   "id": "945e73de",
   "metadata": {},
   "outputs": [],
   "source": [
    "# 10.7.9"
   ]
  },
  {
   "cell_type": "code",
   "execution_count": 231,
   "id": "598d7a9c-1ddc-4835-9d12-45d0c71c54ee",
   "metadata": {},
   "outputs": [],
   "source": [
    "def nonempty_lines(file):\n",
    "    file = open(file, encoding='utf-8')\n",
    "    return (line.strip() if len(line) <= 25 else '...' for line in file if line != '\\n')"
   ]
  },
  {
   "cell_type": "code",
   "execution_count": 152,
   "id": "81c5f561",
   "metadata": {},
   "outputs": [],
   "source": [
    "# 10.7.10"
   ]
  },
  {
   "cell_type": "code",
   "execution_count": 236,
   "id": "542d98ff-3884-4714-8c69-8201a1d25e4e",
   "metadata": {},
   "outputs": [],
   "source": [
    "def txt_to_dict():\n",
    "    with open('planets.txt', 'r', encoding='utf-8') as file:\n",
    "        planet_data = {}\n",
    "        for line in file:\n",
    "            line = line.strip()\n",
    "            if not line:\n",
    "                if planet_data:\n",
    "                    yield planet_data\n",
    "                    planet_data = {}\n",
    "            else:\n",
    "                key, value = map(str.strip, line.split('=', maxsplit=1))\n",
    "                planet_data[key] = value\n",
    "        if planet_data:\n",
    "            yield planet_data"
   ]
  },
  {
   "cell_type": "code",
   "execution_count": 152,
   "id": "0c3cf33b",
   "metadata": {},
   "outputs": [],
   "source": [
    "# 10.7.19"
   ]
  },
  {
   "cell_type": "code",
   "execution_count": 244,
   "id": "9d9ec956-320e-497f-b274-08e5221163f6",
   "metadata": {},
   "outputs": [],
   "source": [
    "def unique(iterable):\n",
    "    result = dict.fromkeys(iterable, 0)\n",
    "    yield from result"
   ]
  },
  {
   "cell_type": "code",
   "execution_count": 247,
   "id": "071e68cf",
   "metadata": {},
   "outputs": [],
   "source": [
    "# 10.7.20"
   ]
  },
  {
   "cell_type": "code",
   "execution_count": 260,
   "id": "9164d6df-3556-4d59-a0bb-8c1a96888fa0",
   "metadata": {},
   "outputs": [],
   "source": [
    "def stop_on(iterable, obj):\n",
    "    iterable = iter(iterable)\n",
    "    yield from iter(lambda: next(iterable), obj)"
   ]
  },
  {
   "cell_type": "code",
   "execution_count": 261,
   "id": "193b759c",
   "metadata": {},
   "outputs": [],
   "source": [
    "# 10.7.21"
   ]
  },
  {
   "cell_type": "code",
   "execution_count": 289,
   "id": "30a7be37-d62f-40a8-bf03-85114ac1a59f",
   "metadata": {},
   "outputs": [],
   "source": [
    "def with_previous(iterable):\n",
    "    prev = None\n",
    "    for current in iterable:\n",
    "        yield (current, prev)\n",
    "        prev = current"
   ]
  },
  {
   "cell_type": "code",
   "execution_count": 294,
   "id": "1343a2a7",
   "metadata": {},
   "outputs": [],
   "source": [
    "# 10.7.22"
   ]
  },
  {
   "cell_type": "code",
   "execution_count": 349,
   "id": "658430fb-dac1-4dff-aa93-94e23c9df2fb",
   "metadata": {},
   "outputs": [],
   "source": [
    "from copy import deepcopy\n",
    "\n",
    "def pairwise(iterable, prev=None):\n",
    "    it_prev = list(deepcopy(iterable))[1:] + [prev]\n",
    "    return (i for i in zip(iterable, it_prev))"
   ]
  },
  {
   "cell_type": "code",
   "execution_count": 350,
   "id": "63ff5f96",
   "metadata": {},
   "outputs": [],
   "source": [
    "# 10.7.23"
   ]
  },
  {
   "cell_type": "code",
   "execution_count": 345,
   "id": "c20c8cc6-942a-49c5-a93f-779c989d6a78",
   "metadata": {},
   "outputs": [],
   "source": [
    "from copy import deepcopy\n",
    "\n",
    "def around(iterable, prev=None):\n",
    "    it_next = list(deepcopy(iterable))[1:] + [prev]\n",
    "    it_prev = [prev] + list(deepcopy(iterable))[:-1]\n",
    "    return (i for i in zip(it_prev, iterable, it_next))"
   ]
  },
  {
   "cell_type": "code",
   "execution_count": null,
   "id": "279e52ca-a190-4752-b17b-004bb9165d04",
   "metadata": {},
   "outputs": [],
   "source": []
  }
 ],
 "metadata": {
  "kernelspec": {
   "display_name": "Python 3 (ipykernel)",
   "language": "python",
   "name": "python3"
  },
  "language_info": {
   "codemirror_mode": {
    "name": "ipython",
    "version": 3
   },
   "file_extension": ".py",
   "mimetype": "text/x-python",
   "name": "python",
   "nbconvert_exporter": "python",
   "pygments_lexer": "ipython3",
   "version": "3.11.6"
  }
 },
 "nbformat": 4,
 "nbformat_minor": 5
}
