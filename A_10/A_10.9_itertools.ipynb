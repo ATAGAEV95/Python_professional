{
 "cells": [
  {
   "cell_type": "code",
   "execution_count": 7,
   "id": "6a8fb811-1a53-47ff-9cb4-e471b3ff56af",
   "metadata": {},
   "outputs": [],
   "source": [
    "# 10.9.12"
   ]
  },
  {
   "cell_type": "code",
   "execution_count": 19,
   "id": "fbd05ac2-5de0-4628-8770-eb61982525ec",
   "metadata": {},
   "outputs": [],
   "source": [
    "from itertools import dropwhile\n",
    "\n",
    "def drop_while_negative(iterable):\n",
    "    return dropwhile(lambda x: x < 0, iterable)"
   ]
  },
  {
   "cell_type": "code",
   "execution_count": 22,
   "id": "6b097e7b-654b-4d77-9140-16d9b0e87cd4",
   "metadata": {},
   "outputs": [],
   "source": [
    "# 10.9.13"
   ]
  },
  {
   "cell_type": "code",
   "execution_count": 46,
   "id": "53f36e86-de81-46ab-a429-1f60c2b2e690",
   "metadata": {},
   "outputs": [],
   "source": [
    "from itertools import dropwhile\n",
    "\n",
    "def drop_this(iterable, obj ):\n",
    "    return dropwhile(lambda x: x == obj, iterable)"
   ]
  },
  {
   "cell_type": "code",
   "execution_count": 50,
   "id": "350ca4ea-d445-467e-952c-f824d249de76",
   "metadata": {},
   "outputs": [],
   "source": [
    "# 10.9.14"
   ]
  },
  {
   "cell_type": "code",
   "execution_count": 72,
   "id": "85db63f7-31eb-450b-b0f2-5d38f3b5d210",
   "metadata": {},
   "outputs": [],
   "source": [
    "def first_true(iterable, predicate):\n",
    "    if predicate is None:\n",
    "        predicate = bool\n",
    "    for item in iterable:\n",
    "        if predicate(item):\n",
    "            return item"
   ]
  },
  {
   "cell_type": "code",
   "execution_count": 75,
   "id": "a1ef7054-41ac-40ca-a3e9-09b4cef8a2a1",
   "metadata": {},
   "outputs": [],
   "source": [
    "# 10.9.15"
   ]
  },
  {
   "cell_type": "code",
   "execution_count": 76,
   "id": "088f7316-b385-416e-a6c1-a9adb97d9027",
   "metadata": {},
   "outputs": [],
   "source": [
    "from itertools import islice\n",
    "\n",
    "def take(iterable, n):\n",
    "    return islice(iterable, n)"
   ]
  },
  {
   "cell_type": "code",
   "execution_count": 80,
   "id": "e3dce953-9bd8-4e7e-8332-ef50d1524140",
   "metadata": {},
   "outputs": [],
   "source": [
    "# 10.9.16"
   ]
  },
  {
   "cell_type": "code",
   "execution_count": 94,
   "id": "d81819de-b926-4765-b4aa-ad558178e0d1",
   "metadata": {},
   "outputs": [],
   "source": [
    "from itertools import islice\n",
    "\n",
    "def take_nth(iterable, n):\n",
    "    return next(islice(iterable, n-1, n), None)"
   ]
  },
  {
   "cell_type": "code",
   "execution_count": 98,
   "id": "30604a4e-de34-4a8b-ab85-7e9635417c02",
   "metadata": {},
   "outputs": [],
   "source": [
    "# 10.9.17"
   ]
  },
  {
   "cell_type": "code",
   "execution_count": 133,
   "id": "f36b7778-471c-4a60-811b-17c7372e4950",
   "metadata": {},
   "outputs": [],
   "source": [
    "from itertools import takewhile\n",
    "from copy import deepcopy\n",
    "\n",
    "def first_largest(iterable, number):\n",
    "    lenght = len(list(deepcopy(iterable)))\n",
    "    index = len(list(takewhile(lambda x: x < number, iterable)))\n",
    "    return index if lenght != index else -1"
   ]
  },
  {
   "cell_type": "code",
   "execution_count": null,
   "id": "73fce611-a191-46bc-961d-1cc39640a09a",
   "metadata": {},
   "outputs": [],
   "source": []
  }
 ],
 "metadata": {
  "kernelspec": {
   "display_name": "Python 3 (ipykernel)",
   "language": "python",
   "name": "python3"
  },
  "language_info": {
   "codemirror_mode": {
    "name": "ipython",
    "version": 3
   },
   "file_extension": ".py",
   "mimetype": "text/x-python",
   "name": "python",
   "nbconvert_exporter": "python",
   "pygments_lexer": "ipython3",
   "version": "3.11.6"
  }
 },
 "nbformat": 4,
 "nbformat_minor": 5
}
