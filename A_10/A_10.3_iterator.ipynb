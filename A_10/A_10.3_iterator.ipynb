{
 "cells": [
  {
   "cell_type": "code",
   "execution_count": 5,
   "id": "3f158301-a480-408a-adec-3631aaada1f7",
   "metadata": {},
   "outputs": [],
   "source": [
    "# 10.3.13"
   ]
  },
  {
   "cell_type": "code",
   "execution_count": 6,
   "id": "3ed7c6c8-7a17-488b-b366-cfb43febcd55",
   "metadata": {},
   "outputs": [],
   "source": [
    "infinite_love = iter(lambda: 'i love beegeek!', 1)"
   ]
  },
  {
   "cell_type": "code",
   "execution_count": 5,
   "id": "05e93fa3-d3fe-4104-acb7-8d76da4b5890",
   "metadata": {},
   "outputs": [],
   "source": [
    "# 10.3.14"
   ]
  },
  {
   "cell_type": "code",
   "execution_count": 11,
   "id": "72c92295-764d-4d87-b8e5-4ef755f9d520",
   "metadata": {},
   "outputs": [],
   "source": [
    "def is_iterable(obj):\n",
    "    try:\n",
    "        iterable = iter(obj)\n",
    "        return True\n",
    "    except:\n",
    "        return False"
   ]
  },
  {
   "cell_type": "code",
   "execution_count": 5,
   "id": "1a1f6a8c-c804-417b-9832-ba45a5706a06",
   "metadata": {},
   "outputs": [],
   "source": [
    "# 10.3.15"
   ]
  },
  {
   "cell_type": "code",
   "execution_count": 19,
   "id": "0febb9e6-1fc4-4e4b-af5a-5769c6bb98d4",
   "metadata": {},
   "outputs": [],
   "source": [
    "def is_iterator(obj):\n",
    "    try:\n",
    "        next(obj)\n",
    "        return True\n",
    "    except:\n",
    "        return False"
   ]
  },
  {
   "cell_type": "code",
   "execution_count": 5,
   "id": "477d0780-c05e-4541-b93b-1e3e3d818a3f",
   "metadata": {},
   "outputs": [],
   "source": [
    "# 10.3.16"
   ]
  },
  {
   "cell_type": "code",
   "execution_count": 35,
   "id": "bf333b01-a0a7-41a0-8168-143ebd91f487",
   "metadata": {},
   "outputs": [],
   "source": [
    "from random import randint\n",
    "\n",
    "def random_numbers(left, right):\n",
    "    def get_random_number():\n",
    "        return randint(left, right)\n",
    "    return iter(get_random_number, right + 1)"
   ]
  },
  {
   "cell_type": "code",
   "execution_count": null,
   "id": "360080ca-e177-4db2-9c50-cec2826e4f16",
   "metadata": {},
   "outputs": [],
   "source": []
  }
 ],
 "metadata": {
  "kernelspec": {
   "display_name": "Python 3 (ipykernel)",
   "language": "python",
   "name": "python3"
  },
  "language_info": {
   "codemirror_mode": {
    "name": "ipython",
    "version": 3
   },
   "file_extension": ".py",
   "mimetype": "text/x-python",
   "name": "python",
   "nbconvert_exporter": "python",
   "pygments_lexer": "ipython3",
   "version": "3.11.6"
  }
 },
 "nbformat": 4,
 "nbformat_minor": 5
}
