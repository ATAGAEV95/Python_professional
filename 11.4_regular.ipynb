{
 "cells": [
  {
   "cell_type": "code",
   "execution_count": 1,
   "id": "ac723f03-4a4f-44e8-a352-a3ccda0cfcdc",
   "metadata": {},
   "outputs": [],
   "source": [
    "# 11.4.10"
   ]
  },
  {
   "cell_type": "code",
   "execution_count": null,
   "id": "3952a8ca-2f51-4285-98e5-f8e49362b5d0",
   "metadata": {},
   "outputs": [],
   "source": [
    "regex = r'\\b[Aa]n?\\b'"
   ]
  },
  {
   "cell_type": "code",
   "execution_count": 1,
   "id": "11861ad8-3c67-4376-b86c-ef7fc753e738",
   "metadata": {},
   "outputs": [],
   "source": [
    "# 11.4.11"
   ]
  },
  {
   "cell_type": "code",
   "execution_count": null,
   "id": "1333d7aa-1f02-40ca-a16d-98b60e6a20ed",
   "metadata": {},
   "outputs": [],
   "source": [
    "regex = r'\\b[A-Z]+\\b'"
   ]
  },
  {
   "cell_type": "code",
   "execution_count": 2,
   "id": "58b1ee97-1f65-41ed-8a4e-e9d3a39db1ec",
   "metadata": {},
   "outputs": [],
   "source": [
    "# 11.4.12"
   ]
  },
  {
   "cell_type": "code",
   "execution_count": null,
   "id": "64ee9d42-df1b-4a01-8d64-2f69c8761582",
   "metadata": {},
   "outputs": [],
   "source": [
    "regex = r'\\b[A-Z]+\\w*\\b'"
   ]
  },
  {
   "cell_type": "code",
   "execution_count": 3,
   "id": "b4371d82-5cf8-4390-b877-14236c98eb8a",
   "metadata": {},
   "outputs": [],
   "source": [
    "# 11.4.13"
   ]
  },
  {
   "cell_type": "code",
   "execution_count": null,
   "id": "8efebc79-7d60-4b4b-bd3d-86d0dbc21510",
   "metadata": {},
   "outputs": [],
   "source": [
    "regex = r'.*\\(.*\\).*'"
   ]
  },
  {
   "cell_type": "code",
   "execution_count": 4,
   "id": "e44bcc42-d2fa-47e5-a311-645b30036890",
   "metadata": {},
   "outputs": [],
   "source": [
    "# 11.4.14"
   ]
  },
  {
   "cell_type": "code",
   "execution_count": null,
   "id": "16f74c8b-5f77-4674-8c9f-8d705b0ea1fd",
   "metadata": {},
   "outputs": [],
   "source": [
    "regex = r'^\\d{2,}[a-z]*[A-Z]*$'"
   ]
  },
  {
   "cell_type": "code",
   "execution_count": 4,
   "id": "d9b0d463-da63-4719-9c6e-5997d578e574",
   "metadata": {},
   "outputs": [],
   "source": [
    "# 11.4.15"
   ]
  },
  {
   "cell_type": "code",
   "execution_count": null,
   "id": "e11dab74-9d50-498d-9c37-eeda2ffdeb92",
   "metadata": {},
   "outputs": [],
   "source": [
    "regex = r'^[A-Za-z]*s$'"
   ]
  },
  {
   "cell_type": "code",
   "execution_count": 5,
   "id": "b172ff95-de4f-4dad-aa29-6eb14a974006",
   "metadata": {},
   "outputs": [],
   "source": [
    "# 11.4.16"
   ]
  },
  {
   "cell_type": "code",
   "execution_count": null,
   "id": "929d4cae-901f-40df-9d50-c1d0a1ab23d2",
   "metadata": {},
   "outputs": [],
   "source": [
    "regex = r'^[a-zA-Z02468]{40}[\\s13579]{5}$'"
   ]
  },
  {
   "cell_type": "code",
   "execution_count": 6,
   "id": "ba84bc5f-079d-45cc-b26f-b2f60550e7f7",
   "metadata": {},
   "outputs": [],
   "source": [
    "# 11.4.17"
   ]
  },
  {
   "cell_type": "code",
   "execution_count": null,
   "id": "70d69d8e-8992-4048-ac73-126bcfc9f902",
   "metadata": {},
   "outputs": [],
   "source": [
    "regex = r'^([MDE]rs?|M[rs])\\.\\w+$'"
   ]
  },
  {
   "cell_type": "code",
   "execution_count": 6,
   "id": "a27adab7-40ce-476c-8f3f-d524b406bc04",
   "metadata": {},
   "outputs": [],
   "source": [
    "# 11.4.17"
   ]
  },
  {
   "cell_type": "code",
   "execution_count": null,
   "id": "c989bac1-0887-47ed-922f-dcbd1fe34234",
   "metadata": {},
   "outputs": [],
   "source": [
    "regex = r'^\\d{1,2}[A-Za-z]{3,}\\.{,3}$'"
   ]
  }
 ],
 "metadata": {
  "kernelspec": {
   "display_name": "Python 3 (ipykernel)",
   "language": "python",
   "name": "python3"
  },
  "language_info": {
   "codemirror_mode": {
    "name": "ipython",
    "version": 3
   },
   "file_extension": ".py",
   "mimetype": "text/x-python",
   "name": "python",
   "nbconvert_exporter": "python",
   "pygments_lexer": "ipython3",
   "version": "3.11.6"
  }
 },
 "nbformat": 4,
 "nbformat_minor": 5
}
