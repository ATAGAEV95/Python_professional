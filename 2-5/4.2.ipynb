{
 "cells": [
  {
   "cell_type": "code",
   "execution_count": null,
   "id": "eab041fd-1242-43a8-9898-d9bf58cbf5e4",
   "metadata": {},
   "outputs": [],
   "source": [
    "# 4.2.10"
   ]
  },
  {
   "cell_type": "code",
   "execution_count": 2,
   "id": "4c90d636-9fda-48ec-8abb-48c3c5f18487",
   "metadata": {},
   "outputs": [
    {
     "name": "stdout",
     "output_type": "stream",
     "text": [
      "['name', 'grade']\n",
      "['Timur', '100']\n",
      "['Ruslan', '97']\n"
     ]
    }
   ],
   "source": [
    "import csv\n",
    "\n",
    "with open('grades.csv', encoding='utf-8') as csv_file:\n",
    "    # создаем reader объект и указываем в качестве разделителя символ ;\n",
    "    rows = csv.reader(csv_file, delimiter=';')\n",
    "    # выводим каждую строку\n",
    "    for row in rows:\n",
    "        print(row)"
   ]
  },
  {
   "cell_type": "code",
   "execution_count": 1,
   "id": "36b57974-a4fb-4cc1-a4d4-b99c05cf8be6",
   "metadata": {},
   "outputs": [],
   "source": [
    "# 4.2.11"
   ]
  },
  {
   "cell_type": "code",
   "execution_count": 5,
   "id": "fd6cf7c3-00df-4ec0-8647-8fd07915d4d7",
   "metadata": {},
   "outputs": [],
   "source": [
    "import csv\n",
    "\n",
    "with open('writing_test.csv', 'w', encoding='utf-8') as csv_file:\n",
    "    # создаем writer объект и указываем названия столбцов\n",
    "    writer = csv.DictWriter(csv_file, fieldnames=['first_col', 'second_col'])\n",
    "    # записываем первую строку с названиями столбцов\n",
    "    writer.writeheader()\n",
    "    # записываем строку с данными\n",
    "    writer.writerow({'first_col': 'value1', 'second_col': 'value2'})"
   ]
  },
  {
   "cell_type": "code",
   "execution_count": 6,
   "id": "8783e046-bb7f-4610-b820-3bb82cace0f7",
   "metadata": {},
   "outputs": [],
   "source": [
    "# 4.2.12"
   ]
  },
  {
   "cell_type": "code",
   "execution_count": null,
   "id": "d8b853c5-6f91-4df3-8958-d8ca056e498c",
   "metadata": {},
   "outputs": [],
   "source": [
    "import csv\n",
    "\n",
    "with open('sales.csv', encoding = 'utf-8', newline = '') as file:\n",
    "    rows = list(csv.reader(file, delimiter = ';'))\n",
    "    for row in filter(lambda x: int(x[1]) >= int(x[2]), rows[1:]):\n",
    "        print(row[0])"
   ]
  },
  {
   "cell_type": "code",
   "execution_count": null,
   "id": "fdce6bb7-4017-4063-853e-58fb063f4e4c",
   "metadata": {},
   "outputs": [],
   "source": [
    "# 4.2.13"
   ]
  },
  {
   "cell_type": "code",
   "execution_count": null,
   "id": "810dbe5e-6bab-4f50-a98e-1a855a8501db",
   "metadata": {},
   "outputs": [],
   "source": [
    "import pandas as pd\n",
    "\n",
    "df = pd.read_csv('salary_data.csv', sep=';')\n",
    "result = df.groupby('company_name').salary.mean().sort_values('salary')\n",
    "company_names = result['company_name']\n",
    "\n",
    "for name in company_names:\n",
    "    print(name)"
   ]
  },
  {
   "cell_type": "code",
   "execution_count": null,
   "id": "6007e6e3-a19a-417e-b376-3ea71959c512",
   "metadata": {},
   "outputs": [],
   "source": [
    "# 4.2.14"
   ]
  },
  {
   "cell_type": "code",
   "execution_count": null,
   "id": "22120fc7-5efb-4e50-a50e-f1f18f94920d",
   "metadata": {},
   "outputs": [],
   "source": [
    "import csv\n",
    "num = int(input()) - 1\n",
    "\n",
    "with open('deniro.csv', encoding='utf-8', newline='') as file:\n",
    "    rows = csv.reader(file)\n",
    "    sorted_rows = sorted(rows, key=lambda x: int(x[num]) if x[num].isdigit() else x[num])\n",
    "    for row in sorted_rows:\n",
    "        print(*row, sep=',')"
   ]
  },
  {
   "cell_type": "code",
   "execution_count": 29,
   "id": "0c64102c-2b14-4c53-ab4d-71835b68d093",
   "metadata": {},
   "outputs": [],
   "source": [
    "# 4.2.15"
   ]
  },
  {
   "cell_type": "code",
   "execution_count": null,
   "id": "1581749f-d327-4460-838c-995d07b75c5e",
   "metadata": {},
   "outputs": [],
   "source": [
    "import csv\n",
    "\n",
    "def csv_columns(filename):\n",
    "    dct = {}\n",
    "    with open(filename, 'r', encoding='utf-8') as file:\n",
    "        reader = csv.DictReader(file)\n",
    "        for row in reader:\n",
    "            for key in row.keys():\n",
    "                dct[key] = dct.get(key, []) + [row[key]]\n",
    "    return dct"
   ]
  },
  {
   "cell_type": "code",
   "execution_count": 45,
   "id": "f19ad613-49ca-4c37-800c-9981e4d21d96",
   "metadata": {},
   "outputs": [],
   "source": [
    "# 4.2.16"
   ]
  },
  {
   "cell_type": "code",
   "execution_count": null,
   "id": "d3b82332-a613-495f-8832-b4b5d1a87cf3",
   "metadata": {},
   "outputs": [],
   "source": [
    "import csv\n",
    "\n",
    "with open('data.csv', encoding='utf-8') as csv_file:\n",
    "    rows = csv.DictReader(csv_file, delimiter=',')\n",
    "    dct = {}\n",
    "    for row in rows:\n",
    "        domain = row['email'].split('@')[-1]\n",
    "        dct[domain] = dct.get(domain, 0) + 1\n",
    "\n",
    "with open('domain_usage.csv', 'w', encoding='utf-8', newline='') as file:\n",
    "    writer = csv.writer(file, delimiter=',')\n",
    "    writer.writerow(['domain', 'count'])\n",
    "    for row in sorted(dct.items(), key=lambda x: (x[1], x[0])):\n",
    "        writer.writerow(row)"
   ]
  },
  {
   "cell_type": "code",
   "execution_count": 1,
   "id": "94e06592-fe13-438e-bd36-24a177ad1a34",
   "metadata": {},
   "outputs": [],
   "source": [
    "# 4.2.17"
   ]
  },
  {
   "cell_type": "code",
   "execution_count": null,
   "id": "6c3fb59a-8529-4dae-9619-8e36d1738701",
   "metadata": {},
   "outputs": [],
   "source": [
    "import csv\n",
    "\n",
    "with open('wifi.csv', encoding='UTF-8') as f:\n",
    "    d = {}\n",
    "    for r in [*csv.reader(f, delimiter=';')][1:]:\n",
    "        d[r[1]] = d.get(r[1], 0) + int(r[3])\n",
    "\n",
    "for i in sorted(d, key=lambda x:(-d[x], x)):\n",
    "    print(f'{i}: {d[i]}')"
   ]
  },
  {
   "cell_type": "code",
   "execution_count": 1,
   "id": "83ad2fd7-5186-4d29-9fd7-973c5a6673b2",
   "metadata": {},
   "outputs": [],
   "source": [
    "# 4.2.18"
   ]
  },
  {
   "cell_type": "code",
   "execution_count": null,
   "id": "51c2dd2b-d3a4-48bb-9114-1b15438d4b29",
   "metadata": {},
   "outputs": [],
   "source": [
    "import csv\n",
    "\n",
    "with open('titanic.csv', 'r', encoding='utf-8') as file:\n",
    "    names=list(csv.reader(file, delimiter=';'))\n",
    "names=filter(lambda x: int(x[0]) and float(x[3])<18, names[1:])\n",
    "\n",
    "[print(name[1]) for name in sorted(names, reverse=True, key=lambda x: x[2])]"
   ]
  },
  {
   "cell_type": "code",
   "execution_count": 1,
   "id": "91b1295d-ebeb-406f-a6b5-fe47765d5c98",
   "metadata": {},
   "outputs": [],
   "source": [
    "# 4.2.19"
   ]
  },
  {
   "cell_type": "code",
   "execution_count": null,
   "id": "6e37c82d-7e84-4b8e-b80b-ab4d5f638b8a",
   "metadata": {},
   "outputs": [],
   "source": [
    "import csv\n",
    "from datetime import datetime\n",
    "\n",
    "with open('name_log.csv', encoding='UTF-8') as f:\n",
    "\theader, *rows = csv.reader(f)\n",
    "\n",
    "d = {i[1]:i for i in sorted(rows, key=lambda x: datetime.strptime(x[2], '%d/%m/%Y %H:%M'))}\n",
    "\n",
    "with open('new_name_log.csv', 'w', encoding='UTF-8', newline='') as f:\n",
    "\tw = csv.writer(f)\n",
    "\tw.writerow(header)\n",
    "\tw.writerows(sorted(d.values(), key=lambda x: x[1]))"
   ]
  },
  {
   "cell_type": "code",
   "execution_count": 1,
   "id": "d92edbab-d7d3-4015-8bd6-3127df078aa2",
   "metadata": {},
   "outputs": [],
   "source": [
    "# 4.2.20"
   ]
  },
  {
   "cell_type": "code",
   "execution_count": null,
   "id": "dae5dc44-4aea-4de8-b426-763652f66563",
   "metadata": {},
   "outputs": [],
   "source": [
    "import csv\n",
    "\n",
    "def condense_csv(filename, id_name):\n",
    "    with open(filename, encoding='utf-8') as file:\n",
    "        objects = {}\n",
    "        for obj, attr, value in csv.reader(file):\n",
    "            if obj not in objects:\n",
    "                objects[obj] = {id_name: obj}\n",
    "            objects[obj][attr] = value\n",
    "    \n",
    "    with open('condensed.csv', 'w', encoding='utf-8') as file:\n",
    "        writer = csv.DictWriter(file, fieldnames=objects[obj])\n",
    "        writer.writeheader()\n",
    "        writer.writerows(objects.values())"
   ]
  },
  {
   "cell_type": "code",
   "execution_count": 6,
   "id": "da3b709f-968a-48c2-9a25-a9912d945018",
   "metadata": {},
   "outputs": [],
   "source": [
    "# 4.2.21"
   ]
  },
  {
   "cell_type": "code",
   "execution_count": null,
   "id": "28cf34e7-c79a-4dce-9006-ca06e280da9b",
   "metadata": {},
   "outputs": [],
   "source": [
    "import csv\n",
    "\n",
    "def key_func(grade):\n",
    "    number, letter = grade.split('-')\n",
    "    return int(number), letter\n",
    "\n",
    "with open('student_counts.csv', encoding='utf-8') as file:\n",
    "    reader = csv.DictReader(file)\n",
    "    columns = ['year'] + sorted(reader.fieldnames[1:], key=key_func)\n",
    "    rows = list(reader)\n",
    "\n",
    "with open('sorted_student_counts.csv', 'w', encoding='utf-8') as file:\n",
    "    writer = csv.DictWriter(file, fieldnames=columns)\n",
    "    writer.writeheader()\n",
    "    writer.writerows(rows)"
   ]
  },
  {
   "cell_type": "code",
   "execution_count": 6,
   "id": "a8c59d7f",
   "metadata": {},
   "outputs": [],
   "source": [
    "# 4.2.22"
   ]
  },
  {
   "cell_type": "code",
   "execution_count": null,
   "id": "2d77cbd4-3e26-4d93-a1a4-17be410798cc",
   "metadata": {},
   "outputs": [],
   "source": [
    "import csv\n",
    "\n",
    "with open('prices.csv', encoding='UTF-8') as f:\n",
    "    h, *rows = csv.reader(f, delimiter=';')\n",
    "\n",
    "goods = [(r[0], h[x], r[x]) for r in rows for x in range(1, len(h))]\n",
    "cheapest = min(goods, key=lambda x: (int(x[2]), x[1], x[0]))\n",
    "\n",
    "print(f'{cheapest[1]}: {cheapest[0]}')"
   ]
  }
 ],
 "metadata": {
  "kernelspec": {
   "display_name": "Python 3 (ipykernel)",
   "language": "python",
   "name": "python3"
  },
  "language_info": {
   "codemirror_mode": {
    "name": "ipython",
    "version": 3
   },
   "file_extension": ".py",
   "mimetype": "text/x-python",
   "name": "python",
   "nbconvert_exporter": "python",
   "pygments_lexer": "ipython3",
   "version": "3.11.6"
  }
 },
 "nbformat": 4,
 "nbformat_minor": 5
}
