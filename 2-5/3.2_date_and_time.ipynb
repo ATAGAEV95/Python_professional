{
 "cells": [
  {
   "cell_type": "code",
   "execution_count": null,
   "id": "b8d49e59-d3ba-4589-98c2-692a82c673f9",
   "metadata": {},
   "outputs": [],
   "source": [
    "# 3.2.7"
   ]
  },
  {
   "cell_type": "code",
   "execution_count": null,
   "id": "1857c699-7797-4ac7-9138-bb54038acf0f",
   "metadata": {},
   "outputs": [],
   "source": [
    "# присваиваем самую раннюю дату урагана в переменную first_date\n",
    "first_date = min(florida_hurricane_dates)\n",
    "\n",
    "# конвертируем дату в ISO и RU формат\n",
    "iso = 'Дата первого урагана в ISO формате: ' + first_date.isoformat()\n",
    "ru = 'Дата первого урагана в RU формате: ' + first_date.strftime('%d.%m.%Y')\n",
    "us = 'Дата первого урагана в US формате: ' + first_date.strftime('%m/%d/%Y')\n",
    "\n",
    "print(iso)\n",
    "print(ru)\n",
    "print(us)"
   ]
  },
  {
   "cell_type": "code",
   "execution_count": null,
   "id": "4232c909-ad0c-4060-91eb-0f332f966ab3",
   "metadata": {},
   "outputs": [],
   "source": [
    "# 3.2.8"
   ]
  },
  {
   "cell_type": "code",
   "execution_count": 14,
   "id": "bf7b5749-c750-4ac1-b0e2-5b155e1ae787",
   "metadata": {},
   "outputs": [
    {
     "name": "stdout",
     "output_type": "stream",
     "text": [
      "1992-08\n",
      "August (1992)\n",
      "1992-237\n"
     ]
    }
   ],
   "source": [
    "from datetime import date\n",
    "\n",
    "andrew = date(1992, 8, 24)\n",
    "\n",
    "print(andrew.strftime('%Y-%m'))   # выводим дату в формате YYYY-MM\n",
    "print(andrew.strftime('%B (%Y)'))   # выводим дату в формате month_name (YYYY)\n",
    "print(andrew.strftime('%Y-%j'))   # выводим дату в формате YYYY-day_number"
   ]
  },
  {
   "cell_type": "code",
   "execution_count": 17,
   "id": "35fb0874-a573-4eb1-8f25-9c3257dd9db3",
   "metadata": {},
   "outputs": [],
   "source": [
    "# 3.2.12"
   ]
  },
  {
   "cell_type": "code",
   "execution_count": null,
   "id": "5342a083-e326-41c1-91fb-3dddb2db5b27",
   "metadata": {},
   "outputs": [],
   "source": [
    "from datetime import date\n",
    "\n",
    "lst = [date.fromisoformat(input()) for _ in range(2)]\n",
    "\n",
    "print(min(lst).strftime('%d-%m (%Y)'))"
   ]
  },
  {
   "cell_type": "code",
   "execution_count": null,
   "id": "9001fda4-1b0f-48f8-b4e7-2bc850c672d4",
   "metadata": {},
   "outputs": [],
   "source": [
    "# 3.2.13"
   ]
  },
  {
   "cell_type": "code",
   "execution_count": null,
   "id": "b2b20bcc-48d6-42b3-be0e-6173047a6b9c",
   "metadata": {},
   "outputs": [],
   "source": [
    "dates = [date.fromisoformat(input()) for _ in range(int(input()))]\n",
    "\n",
    "for d in sorted(dates):\n",
    "    print(d.strftime('%d/%m/%Y'))"
   ]
  },
  {
   "cell_type": "code",
   "execution_count": 19,
   "id": "3bdf3e03-45c9-455c-a11e-14970dc74431",
   "metadata": {},
   "outputs": [],
   "source": [
    "# 3.2.14"
   ]
  },
  {
   "cell_type": "code",
   "execution_count": 21,
   "id": "df19f4ae-0bd3-4eef-b636-56b59cb719bb",
   "metadata": {},
   "outputs": [
    {
     "name": "stdout",
     "output_type": "stream",
     "text": [
      "September 20, 1992\n",
      "October 19, 1992\n"
     ]
    }
   ],
   "source": [
    "def print_good_dates(dates):\n",
    "    for c in sorted(dates):\n",
    "        if c.year == 1992 and c.month + c.day == 29:\n",
    "            print(c.strftime('%B %d, %Y'))\n",
    "\n",
    "dates = [date(1992, 10, 19), date(1991, 12, 6), date(1992, 9, 20)]\n",
    "print_good_dates(dates)\n",
    "dates = [date(1993, 9, 15), date(2021, 11, 2), date(2000, 7, 7)]\n",
    "print_good_dates(dates)"
   ]
  },
  {
   "cell_type": "code",
   "execution_count": null,
   "id": "ed69a756-2ef2-46dd-8a09-d8221cff622b",
   "metadata": {},
   "outputs": [],
   "source": [
    "# 3.2.15"
   ]
  },
  {
   "cell_type": "code",
   "execution_count": 22,
   "id": "e0eef29d-3d44-465f-bf82-9095e50949f4",
   "metadata": {},
   "outputs": [
    {
     "name": "stdout",
     "output_type": "stream",
     "text": [
      "True\n",
      "False\n"
     ]
    }
   ],
   "source": [
    "def is_correct(day, month, year):\n",
    "    while True:\n",
    "        try:\n",
    "            my_date = date(int(year), int(month), int(day))\n",
    "            return True\n",
    "        except:\n",
    "            return False\n",
    "\n",
    "print(is_correct(31, 12, 2021))\n",
    "print(is_correct(31, 13, 2021))"
   ]
  },
  {
   "cell_type": "code",
   "execution_count": null,
   "id": "28646cd2-7ef4-4ad3-97cc-2081ed211712",
   "metadata": {},
   "outputs": [],
   "source": [
    "# 3.2.16"
   ]
  },
  {
   "cell_type": "code",
   "execution_count": 9,
   "id": "5d6d2e6d-760d-45a5-beb0-e0f2fec93134",
   "metadata": {},
   "outputs": [
    {
     "name": "stdin",
     "output_type": "stream",
     "text": [
      " 29.02.2017\n"
     ]
    },
    {
     "name": "stdout",
     "output_type": "stream",
     "text": [
      "Некорректная\n"
     ]
    },
    {
     "name": "stdin",
     "output_type": "stream",
     "text": [
      " 40.06.431\n"
     ]
    },
    {
     "name": "stdout",
     "output_type": "stream",
     "text": [
      "Некорректная\n"
     ]
    },
    {
     "name": "stdin",
     "output_type": "stream",
     "text": [
      " 15.02.1524\n"
     ]
    },
    {
     "name": "stdout",
     "output_type": "stream",
     "text": [
      "Корректная\n"
     ]
    },
    {
     "name": "stdin",
     "output_type": "stream",
     "text": [
      " end\n"
     ]
    },
    {
     "name": "stdout",
     "output_type": "stream",
     "text": [
      "1\n"
     ]
    }
   ],
   "source": [
    "count = 0\n",
    "\n",
    "while True:\n",
    "    my_date = input()\n",
    "    if my_date == 'end':\n",
    "        break\n",
    "    try:\n",
    "        day, month, year = my_date.split('.')\n",
    "        my_date1 = date(int(year), int(month), int(day))  # Пробуем создать дату\n",
    "        count += 1\n",
    "        print('Корректная')\n",
    "    except ValueError:\n",
    "        print('Некорректная')\n",
    "\n",
    "print(count)"
   ]
  },
  {
   "cell_type": "code",
   "execution_count": null,
   "id": "10613107-e664-471b-8b46-dfb1a9bb8594",
   "metadata": {},
   "outputs": [],
   "source": []
  }
 ],
 "metadata": {
  "kernelspec": {
   "display_name": "Python 3 (ipykernel)",
   "language": "python",
   "name": "python3"
  },
  "language_info": {
   "codemirror_mode": {
    "name": "ipython",
    "version": 3
   },
   "file_extension": ".py",
   "mimetype": "text/x-python",
   "name": "python",
   "nbconvert_exporter": "python",
   "pygments_lexer": "ipython3",
   "version": "3.11.6"
  }
 },
 "nbformat": 4,
 "nbformat_minor": 5
}
