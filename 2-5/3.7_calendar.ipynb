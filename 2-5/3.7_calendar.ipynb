{
 "cells": [
  {
   "cell_type": "code",
   "execution_count": 3,
   "id": "d0974fe8-ee20-46b1-afa1-01b278d65fe4",
   "metadata": {},
   "outputs": [],
   "source": [
    "# 3.7.7"
   ]
  },
  {
   "cell_type": "code",
   "execution_count": null,
   "id": "5d9fa5e0-ac71-492e-9fe9-7193c915a18d",
   "metadata": {},
   "outputs": [],
   "source": [
    "import calendar\n",
    "\n",
    "lst = [calendar.isleap(int(input())) for _ in range(int(input()))]\n",
    "\n",
    "print(*lst, sep='\\n')"
   ]
  },
  {
   "cell_type": "code",
   "execution_count": 4,
   "id": "c470acf5-6751-40b2-8a12-b51b3338c824",
   "metadata": {},
   "outputs": [],
   "source": [
    "# 3.7.8"
   ]
  },
  {
   "cell_type": "code",
   "execution_count": 11,
   "id": "a054bffe-2968-4eba-81e3-d5318132d518",
   "metadata": {},
   "outputs": [
    {
     "name": "stdin",
     "output_type": "stream",
     "text": [
      " 2021 Dec\n"
     ]
    },
    {
     "name": "stdout",
     "output_type": "stream",
     "text": [
      "   December 2021\n",
      "Mo Tu We Th Fr Sa Su\n",
      "       1  2  3  4  5\n",
      " 6  7  8  9 10 11 12\n",
      "13 14 15 16 17 18 19\n",
      "20 21 22 23 24 25 26\n",
      "27 28 29 30 31\n"
     ]
    }
   ],
   "source": [
    "from calendar import prmonth\n",
    "from datetime import datetime\n",
    "\n",
    "dt = datetime.strptime(input(), '%Y %b')\n",
    "\n",
    "prmonth(dt.year, dt.month)"
   ]
  },
  {
   "cell_type": "code",
   "execution_count": 12,
   "id": "6810490d-877e-45fb-99a7-f53e527b27e9",
   "metadata": {},
   "outputs": [],
   "source": [
    "# 3.7.9"
   ]
  },
  {
   "cell_type": "code",
   "execution_count": null,
   "id": "da7dc247-1ef6-44f8-b323-8ebea94813f5",
   "metadata": {},
   "outputs": [],
   "source": [
    "import calendar\n",
    "from datetime import datetime\n",
    "\n",
    "dt = datetime.strptime(input(), '%Y-%m-%d')\n",
    "\n",
    "print(calendar.day_name[dt.weekday()])"
   ]
  },
  {
   "cell_type": "code",
   "execution_count": 13,
   "id": "4cb094a4-9728-47eb-b99e-8033a588ba66",
   "metadata": {},
   "outputs": [],
   "source": [
    "# 3.7.10"
   ]
  },
  {
   "cell_type": "code",
   "execution_count": null,
   "id": "4a089080-71a5-4802-8a35-868af351e20d",
   "metadata": {},
   "outputs": [],
   "source": [
    "import calendar\n",
    "\n",
    "dt = list(map(int, input().split()))\n",
    "\n",
    "print(calendar.monthrange(dt[0], dt[1])[1])"
   ]
  },
  {
   "cell_type": "code",
   "execution_count": null,
   "id": "a3e3833c-7550-459c-bf55-567802f5812d",
   "metadata": {},
   "outputs": [],
   "source": [
    "# 3.7.11"
   ]
  },
  {
   "cell_type": "code",
   "execution_count": null,
   "id": "c020b8ff-ef02-42cb-9f10-14d6943b80fb",
   "metadata": {},
   "outputs": [],
   "source": [
    "import calendar\n",
    "from datetime import datetime\n",
    "\n",
    "dt = datetime.strptime(input(), '%Y %B')\n",
    "\n",
    "print(calendar.monthrange(dt.year, dt.month)[1])"
   ]
  },
  {
   "cell_type": "code",
   "execution_count": null,
   "id": "c44480cd-41d6-41c3-bc01-df569a511102",
   "metadata": {},
   "outputs": [],
   "source": [
    "import calendar\n",
    "from datetime import datetime\n",
    "\n",
    "dt = input().split()\n",
    "month = list(calendar.month_name).index(dt[1])\n",
    "\n",
    "print(calendar.monthrange(int(dt[0]), month)[1])"
   ]
  },
  {
   "cell_type": "code",
   "execution_count": null,
   "id": "e1c38b7e-3ba8-4f11-82be-f82ed7d0a2ad",
   "metadata": {},
   "outputs": [],
   "source": [
    "# 3.7.12"
   ]
  },
  {
   "cell_type": "code",
   "execution_count": 30,
   "id": "cf8aeca9-fc07-419b-b757-f05ee55a3331",
   "metadata": {},
   "outputs": [
    {
     "name": "stdout",
     "output_type": "stream",
     "text": [
      "[datetime.date(1982, 1, 1), datetime.date(1982, 1, 2), datetime.date(1982, 1, 3), datetime.date(1982, 1, 4), datetime.date(1982, 1, 5), datetime.date(1982, 1, 6), datetime.date(1982, 1, 7), datetime.date(1982, 1, 8), datetime.date(1982, 1, 9), datetime.date(1982, 1, 10), datetime.date(1982, 1, 11), datetime.date(1982, 1, 12), datetime.date(1982, 1, 13), datetime.date(1982, 1, 14), datetime.date(1982, 1, 15), datetime.date(1982, 1, 16), datetime.date(1982, 1, 17), datetime.date(1982, 1, 18), datetime.date(1982, 1, 19), datetime.date(1982, 1, 20), datetime.date(1982, 1, 21), datetime.date(1982, 1, 22), datetime.date(1982, 1, 23), datetime.date(1982, 1, 24), datetime.date(1982, 1, 25), datetime.date(1982, 1, 26), datetime.date(1982, 1, 27), datetime.date(1982, 1, 28), datetime.date(1982, 1, 29), datetime.date(1982, 1, 30), datetime.date(1982, 1, 31)]\n"
     ]
    }
   ],
   "source": [
    "import calendar\n",
    "from datetime import datetime, date\n",
    "\n",
    "def get_days_in_month(year, month):\n",
    "    month = list(calendar.month_name).index(month)\n",
    "    return [date(year, month, day) for day in range(1, calendar.monthrange(year, month)[1] + 1)]\n",
    "\n",
    "print(get_days_in_month(1982, 'January'))"
   ]
  },
  {
   "cell_type": "code",
   "execution_count": 35,
   "id": "6aaf9962-5a80-4241-8020-bc600f708d44",
   "metadata": {},
   "outputs": [],
   "source": [
    "# 3.7.13"
   ]
  },
  {
   "cell_type": "code",
   "execution_count": null,
   "id": "74631bc4-35f0-4c89-a517-b63bfc29e393",
   "metadata": {},
   "outputs": [],
   "source": [
    "import calendar\n",
    "from datetime import date, timedelta\n",
    "\n",
    "def get_all_mondays(year):\n",
    "    start = date(year=year, month=1, day=1)\n",
    "    end = date(year=year, month=12, day=31)\n",
    "    lst = []\n",
    "    while start <= end:\n",
    "        if calendar.weekday(start.year, start.month, start.day) == 0:\n",
    "            lst.append(start)\n",
    "        start += timedelta(days=1)\n",
    "    return lst"
   ]
  },
  {
   "cell_type": "code",
   "execution_count": null,
   "id": "47b287a7-fc33-41a8-bf3d-2b64f78b4c3d",
   "metadata": {},
   "outputs": [],
   "source": [
    "from datetime import date\n",
    "\n",
    "def get_all_mondays(year):\n",
    "    rng = range(date.toordinal(date(year, 1, 1)), date.toordinal(date(year + 1, 1, 1)))\n",
    "    return [date.fromordinal(d) for d in rng if date.fromordinal(d).weekday() == 0]"
   ]
  },
  {
   "cell_type": "code",
   "execution_count": null,
   "id": "489bac6f-1a48-4f5d-b03f-89c0b585fd28",
   "metadata": {},
   "outputs": [],
   "source": [
    "import calendar\n",
    "from datetime import date\n",
    "\n",
    "def get_all_mondays(year):\n",
    "    return [date(year, month, week[0]) for month in range(1, 13) \n",
    "            for week in calendar.monthcalendar(year, month) if week[0] != 0]"
   ]
  },
  {
   "cell_type": "code",
   "execution_count": 46,
   "id": "9457c901-3770-4826-9d98-565d484f8678",
   "metadata": {},
   "outputs": [],
   "source": [
    "# 3.7.14"
   ]
  },
  {
   "cell_type": "code",
   "execution_count": 69,
   "id": "3c80ef3e-f68a-4da0-a5fe-7307d3e06be9",
   "metadata": {},
   "outputs": [
    {
     "name": "stdout",
     "output_type": "stream",
     "text": [
      "21.01.2021\n",
      "18.02.2021\n",
      "18.03.2021\n",
      "15.04.2021\n",
      "20.05.2021\n",
      "17.06.2021\n",
      "15.07.2021\n",
      "19.08.2021\n",
      "16.09.2021\n",
      "21.10.2021\n",
      "18.11.2021\n",
      "16.12.2021\n"
     ]
    }
   ],
   "source": [
    "import calendar\n",
    "from datetime import date\n",
    "\n",
    "year = 2021\n",
    "\n",
    "for month in range(1, 13):\n",
    "    month_weeks = calendar.monthcalendar(year, month)\n",
    "    thursdays = [week[3] for week in month_weeks if week[3] != 0]\n",
    "    print(date(year, month, thursdays[2]).strftime('%d.%m.%Y'))"
   ]
  },
  {
   "cell_type": "code",
   "execution_count": null,
   "id": "2840e006-4cf1-4a27-859d-503a5dfc11c6",
   "metadata": {},
   "outputs": [],
   "source": []
  }
 ],
 "metadata": {
  "kernelspec": {
   "display_name": "Python 3 (ipykernel)",
   "language": "python",
   "name": "python3"
  },
  "language_info": {
   "codemirror_mode": {
    "name": "ipython",
    "version": 3
   },
   "file_extension": ".py",
   "mimetype": "text/x-python",
   "name": "python",
   "nbconvert_exporter": "python",
   "pygments_lexer": "ipython3",
   "version": "3.11.6"
  }
 },
 "nbformat": 4,
 "nbformat_minor": 5
}
