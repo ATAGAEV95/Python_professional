{
 "cells": [
  {
   "cell_type": "code",
   "execution_count": 15,
   "id": "2042fe71-3b87-4963-b8de-dab93373c55a",
   "metadata": {},
   "outputs": [],
   "source": [
    "# 3.6.9"
   ]
  },
  {
   "cell_type": "code",
   "execution_count": 17,
   "id": "6ed83359-9db1-4c58-85c3-4a4384a7c5a5",
   "metadata": {},
   "outputs": [
    {
     "data": {
      "text/plain": [
       "(6, 3.0001091957092285)"
      ]
     },
     "execution_count": 17,
     "metadata": {},
     "output_type": "execute_result"
    }
   ],
   "source": [
    "import time\n",
    "\n",
    "def calculate_it(func, *args):\n",
    "    start_time = time.time()\n",
    "    result = func(*args)\n",
    "    end_time = time.time()\n",
    "    elapsed_time = end_time - start_time\n",
    "    return (result, elapsed_time)"
   ]
  },
  {
   "cell_type": "code",
   "execution_count": 18,
   "id": "ebf702e5-48c3-4089-b376-c3ed4eca5196",
   "metadata": {},
   "outputs": [],
   "source": [
    "# 3.6.10"
   ]
  },
  {
   "cell_type": "code",
   "execution_count": 53,
   "id": "abaee6a0-d593-4c4d-b532-8b8c81ba92af",
   "metadata": {},
   "outputs": [],
   "source": [
    "import time\n",
    "\n",
    "def get_the_fastest_func(func, arg):\n",
    "    dct = {}\n",
    "    for f in func:\n",
    "        start = time.perf_counter()\n",
    "        f(arg)\n",
    "        end = time.perf_counter()\n",
    "        dct.setdefault(end - start, f)\n",
    "    return dct[min(dct)]"
   ]
  },
  {
   "cell_type": "code",
   "execution_count": null,
   "id": "be58516e-2b11-498d-9154-840642dfc2db",
   "metadata": {},
   "outputs": [],
   "source": [
    "# 3.6.11"
   ]
  },
  {
   "cell_type": "code",
   "execution_count": 25,
   "id": "7bce0378-c498-4eda-8e21-5cc5c7a8c28e",
   "metadata": {},
   "outputs": [],
   "source": [
    "from math import factorial                   # функция из модуля math     \n",
    "\n",
    "\n",
    "def factorial_recurrent(n):                  # рекурсивная функция\n",
    "    if n == 0:\n",
    "        return 1\n",
    "    return n * factorial_recurrent(n - 1)    \n",
    "\n",
    "\n",
    "def factorial_classic(n):                    # итеративная функция\n",
    "    f = 1\n",
    "    for i in range(2, n + 1):\n",
    "        f *= i\n",
    "    return f"
   ]
  },
  {
   "cell_type": "code",
   "execution_count": 29,
   "id": "401a4b0b-97e6-45ee-987e-14be717819fb",
   "metadata": {},
   "outputs": [],
   "source": [
    "functions = [factorial_recurrent, factorial_classic, factorial]\n",
    "\n",
    "fastest = get_the_fastest_func(functions, 900)"
   ]
  },
  {
   "cell_type": "code",
   "execution_count": 31,
   "id": "1246e23b-6715-47d9-8d18-892b453e4cb5",
   "metadata": {},
   "outputs": [],
   "source": [
    "# 3.6.12"
   ]
  },
  {
   "cell_type": "code",
   "execution_count": 46,
   "id": "5200d045-410a-44f2-ac28-562dc78a932e",
   "metadata": {},
   "outputs": [],
   "source": [
    "def for_and_append():                            # с использованием цикла for и метода append()\n",
    "    iterations = 10_000_000\n",
    "    result = []\n",
    "    start = time.perf_counter()\n",
    "    for i in range(iterations):\n",
    "        result.append(i + 1)\n",
    "    end = time.perf_counter()\n",
    "    elapsed_time = end - start\n",
    "    print(f'Время работы программы = {elapsed_time}')\n",
    "    return result\n",
    "        \n",
    "\n",
    "def list_comprehension():                        # с использованием списочного выражения\n",
    "    iterations = 10_000_000\n",
    "    start = time.perf_counter()\n",
    "    lst = [i + 1 for i in range(iterations)] \n",
    "    end = time.perf_counter()\n",
    "    elapsed_time = end - start\n",
    "    print(f'Время работы программы = {elapsed_time}')\n",
    "    return lst  "
   ]
  },
  {
   "cell_type": "code",
   "execution_count": 48,
   "id": "cd7917c2-d262-4a8c-b5ff-66ebf72f123d",
   "metadata": {},
   "outputs": [],
   "source": [
    "# 3.6.13"
   ]
  },
  {
   "cell_type": "code",
   "execution_count": 54,
   "id": "2b5468f3-bb25-4081-9362-dc5d8085c5c9",
   "metadata": {},
   "outputs": [],
   "source": [
    "def for_and_append(iterable):             # с использованием цикла for и метода append()\n",
    "    result = []\n",
    "    for elem in iterable:\n",
    "        result.append(elem)\n",
    "    return result\n",
    "        \n",
    "\n",
    "def list_comprehension(iterable):         # с использованием списочного выражения\n",
    "    return [elem for elem in iterable]    \n",
    "    \n",
    "\n",
    "def list_function(iterable):              # с использованием встроенной функции list()\n",
    "    return list(iterable) "
   ]
  },
  {
   "cell_type": "code",
   "execution_count": null,
   "id": "00dc3f4b-9bc1-4424-8dfb-3244a74b7879",
   "metadata": {},
   "outputs": [],
   "source": []
  }
 ],
 "metadata": {
  "kernelspec": {
   "display_name": "Python 3 (ipykernel)",
   "language": "python",
   "name": "python3"
  },
  "language_info": {
   "codemirror_mode": {
    "name": "ipython",
    "version": 3
   },
   "file_extension": ".py",
   "mimetype": "text/x-python",
   "name": "python",
   "nbconvert_exporter": "python",
   "pygments_lexer": "ipython3",
   "version": "3.11.6"
  }
 },
 "nbformat": 4,
 "nbformat_minor": 5
}
