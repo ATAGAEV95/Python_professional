{
 "cells": [
  {
   "cell_type": "code",
   "execution_count": 1,
   "id": "3df62aa5-5f7b-4afd-be59-55de33435a95",
   "metadata": {},
   "outputs": [],
   "source": [
    "# 2.2.1"
   ]
  },
  {
   "cell_type": "code",
   "execution_count": 15,
   "id": "68d55097-e3fc-4f31-baf1-27e311895be2",
   "metadata": {},
   "outputs": [
    {
     "name": "stdout",
     "output_type": "stream",
     "text": [
      "601800\n"
     ]
    }
   ],
   "source": [
    "def home(d1, d2, d3):\n",
    "    x = [d1, d2, d3]\n",
    "    x.sort()\n",
    "    return min((x[0] + x[1]) * 2, sum(x))\n",
    "\n",
    "\n",
    "d1, d2, d3 = 100500, 200600, 300700\n",
    "print(home(d1, d2, d3))"
   ]
  },
  {
   "cell_type": "code",
   "execution_count": 16,
   "id": "c51302fd-f3b1-43fe-80cb-f60f53689dcf",
   "metadata": {},
   "outputs": [],
   "source": [
    "# 2.2.2"
   ]
  },
  {
   "cell_type": "code",
   "execution_count": 18,
   "id": "50d0d725-01e9-41bd-bd89-46d63df51997",
   "metadata": {},
   "outputs": [
    {
     "name": "stdout",
     "output_type": "stream",
     "text": [
      "ru\n"
     ]
    }
   ],
   "source": [
    "def func(d1, d2, d3):\n",
    "    lst = [ord(d1), ord(d2), ord(d3)]\n",
    "    return 'en' if max(lst) < 123 else ('mix' if min(lst) < 123 and max(lst) > 123 else 'ru')\n",
    "\n",
    "d1, d2, d3 = 'Р', 'О', 'А'\n",
    "print(func(d1, d2, d3))"
   ]
  },
  {
   "cell_type": "code",
   "execution_count": 19,
   "id": "35027ec1-5c35-4501-9eef-31f2a92a00e0",
   "metadata": {},
   "outputs": [],
   "source": [
    "# 2.2.3"
   ]
  },
  {
   "cell_type": "code",
   "execution_count": 63,
   "id": "3601e8bd-4c4e-4960-ae6a-7cfd30b70730",
   "metadata": {},
   "outputs": [
    {
     "name": "stdout",
     "output_type": "stream",
     "text": [
      "1 2 6 5 8 7 3 4 9\n"
     ]
    }
   ],
   "source": [
    "n, x, y, a, b = [int(i) for i in '9 3 6 5 8'.split()]\n",
    "nums = list(range(1, n + 1))\n",
    "\n",
    "nums[x - 1:y] = reversed(nums[x - 1:y])\n",
    "nums[a - 1:b] = reversed(nums[a - 1:b])\n",
    "\n",
    "print(*nums)"
   ]
  },
  {
   "cell_type": "code",
   "execution_count": 64,
   "id": "7151e87c-f03a-47a7-95bc-b5c18ce91840",
   "metadata": {},
   "outputs": [],
   "source": [
    "# 2.2.4"
   ]
  },
  {
   "cell_type": "code",
   "execution_count": 5,
   "id": "f010c17a-5614-4c2d-aa1f-2d278d498b75",
   "metadata": {},
   "outputs": [
    {
     "data": {
      "text/plain": [
       "[0, 3, 4]"
      ]
     },
     "execution_count": 5,
     "metadata": {},
     "output_type": "execute_result"
    }
   ],
   "source": [
    "lst = [int(i) for i in '4 8 0 3 4 2 0 3'.split()]\n",
    "sorted_lst = sorted(lst)\n",
    "x = sorted(set(num for num in sorted_lst if sorted_lst.count(num) > 1))\n",
    "x"
   ]
  },
  {
   "cell_type": "code",
   "execution_count": 6,
   "id": "8afd372f-2d70-4c89-a7a7-234384bf3dc2",
   "metadata": {},
   "outputs": [],
   "source": [
    "# 2.2.5"
   ]
  },
  {
   "cell_type": "code",
   "execution_count": 20,
   "id": "c8249f41-6488-426d-92e1-ee5906ee06c3",
   "metadata": {},
   "outputs": [
    {
     "name": "stdin",
     "output_type": "stream",
     "text": [
      " 250\n"
     ]
    },
    {
     "name": "stdout",
     "output_type": "stream",
     "text": [
      "24\n"
     ]
    }
   ],
   "source": [
    "data = {}\n",
    "\n",
    "for i in range(1, int(input()) + 1):\n",
    "    sum_of_digits = sum(map(lambda d: int(d), str(i)))\n",
    "    data[sum_of_digits] = data.get(sum_of_digits, 0) + 1\n",
    "    \n",
    "print(max(data.values()))"
   ]
  },
  {
   "cell_type": "code",
   "execution_count": 21,
   "id": "fc946fad-4ef1-49bc-bafe-fa77a8863c93",
   "metadata": {},
   "outputs": [],
   "source": [
    "# 2.2.6"
   ]
  },
  {
   "cell_type": "code",
   "execution_count": null,
   "id": "7cfa7b0c-d143-430a-8911-d887e648bc3e",
   "metadata": {},
   "outputs": [],
   "source": [
    "data, n = {}, int(input())\n",
    "\n",
    "for _ in range(n):\n",
    "    for k in input().replace(',', '').split():\n",
    "        data[k] = data.get(k, 0) + 1\n",
    "        \n",
    "lst = sorted([key for key, value in data.items() if value == n])\n",
    "\n",
    "print(\", \".join(res) if res else \"Сериал снять не удастся\")\n",
    "\n",
    "# ----------------------------------------------------------------\n",
    "\n",
    "n = int(input())\n",
    "langs = set(input().split(', '))\n",
    "\n",
    "for _ in range(n - 1):\n",
    "    langs &= set(input().split(', '))\n",
    "\n",
    "if langs:\n",
    "    print(*sorted(langs), sep=', ')\n",
    "else:\n",
    "    print('Фильм снять не удастся')"
   ]
  },
  {
   "cell_type": "code",
   "execution_count": null,
   "id": "cd2d6eee-099c-4968-aee9-bb9e22b4eefe",
   "metadata": {},
   "outputs": [],
   "source": [
    "# 2.2.7"
   ]
  },
  {
   "cell_type": "code",
   "execution_count": null,
   "id": "267eef4d-9529-49ff-8f79-b21cae419ba7",
   "metadata": {},
   "outputs": [],
   "source": [
    "s = [i for i, j in enumerate(input()) if j in 'аеёиоуыэюя']\n",
    "\n",
    "for _ in range(int(input())):\n",
    "    w = input()\n",
    "    if [i for i, j in enumerate(w) if j in 'аеёиоуыэюя'] == s:\n",
    "        print(w)"
   ]
  },
  {
   "cell_type": "code",
   "execution_count": null,
   "id": "2a392729-b3d1-48b2-81ef-1671abdbf74b",
   "metadata": {},
   "outputs": [],
   "source": [
    "# 2.2.8"
   ]
  },
  {
   "cell_type": "code",
   "execution_count": null,
   "id": "3babd929-76ed-4648-b7a9-718ff1b7ac54",
   "metadata": {},
   "outputs": [],
   "source": [
    "emails = [input()[:-12] for _ in range(int(input()))]\n",
    "\n",
    "for _ in range(int(input())):\n",
    "    emp = input()\n",
    "    email = emp\n",
    "    count = 0\n",
    "    while email in emails:\n",
    "        count += 1\n",
    "        email = f'{emp}{count}'\n",
    "    emails.append(f'{email}')\n",
    "    print(f'{email}@beegeek.bzz')"
   ]
  },
  {
   "cell_type": "code",
   "execution_count": null,
   "id": "fb1c9252-b399-4ed7-ac08-efd73bdb84ee",
   "metadata": {},
   "outputs": [],
   "source": [
    "# 2.2.9"
   ]
  },
  {
   "cell_type": "code",
   "execution_count": null,
   "id": "a8c55346-e239-4f10-92c8-d2735d3c7a01",
   "metadata": {},
   "outputs": [],
   "source": [
    "d = {}\n",
    "d_units = {'B': 1, 'KB': 1024, 'MB': 1024 ** 2, 'GB': 1024 ** 3}\n",
    "d_units_trans = {1: 'B', 2: 'KB', 3: 'MB', 4: 'GB'}\n",
    "\n",
    "def converter(x):\n",
    "    s = 1024\n",
    "    for i in range(1, 5):\n",
    "        if x > s:\n",
    "            x /= s\n",
    "        else:\n",
    "            break\n",
    "    return str(round(x)), d_units_trans[i]\n",
    "\n",
    "with open('files.txt', encoding='utf-8') as file:\n",
    "    for line in file:\n",
    "        name_full, size, unit = line.split()\n",
    "        name, f_ext = name_full.split('.')\n",
    "        d.setdefault(f_ext, []).append((name, int(size) * d_units[unit]))\n",
    "    for k in sorted(d):\n",
    "        total = 0\n",
    "        for i in sorted(d[k]):\n",
    "            print(i[0] + '.' + k)\n",
    "            total += i[1]\n",
    "        print('----------')\n",
    "        print('Summary:', *converter(total))\n",
    "        print()"
   ]
  }
 ],
 "metadata": {
  "kernelspec": {
   "display_name": "Python 3 (ipykernel)",
   "language": "python",
   "name": "python3"
  },
  "language_info": {
   "codemirror_mode": {
    "name": "ipython",
    "version": 3
   },
   "file_extension": ".py",
   "mimetype": "text/x-python",
   "name": "python",
   "nbconvert_exporter": "python",
   "pygments_lexer": "ipython3",
   "version": "3.11.6"
  }
 },
 "nbformat": 4,
 "nbformat_minor": 5
}
