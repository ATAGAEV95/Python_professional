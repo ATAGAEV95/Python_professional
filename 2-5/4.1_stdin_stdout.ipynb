{
 "cells": [
  {
   "cell_type": "code",
   "execution_count": 13,
   "id": "2f95f552-2f97-48f7-a331-85b2bdb1d755",
   "metadata": {},
   "outputs": [],
   "source": [
    "# 4.1.10"
   ]
  },
  {
   "cell_type": "code",
   "execution_count": null,
   "id": "af59287d-408a-4d0e-9a64-0224076eaada",
   "metadata": {},
   "outputs": [],
   "source": [
    "import sys\n",
    "\n",
    "for line in sys.stdin:\n",
    "    sys.stdout.write(line[::-1].strip() + '\\n')"
   ]
  },
  {
   "cell_type": "code",
   "execution_count": 14,
   "id": "a9df5033-137a-4b14-9db6-63542a1fe5ed",
   "metadata": {},
   "outputs": [],
   "source": [
    "# 4.1.11"
   ]
  },
  {
   "cell_type": "code",
   "execution_count": null,
   "id": "b294820e-fc4a-4290-8a3d-ce373e315205",
   "metadata": {},
   "outputs": [],
   "source": [
    "from datetime import datetime, date\n",
    "import sys\n",
    "\n",
    "dt = [datetime.strptime(line.strip(), '%Y-%m-%d') for line in sys.stdin]\n",
    "diff = date.toordinal(max(dt)) - date.toordinal(min(dt))\n",
    "\n",
    "print(diff)"
   ]
  },
  {
   "cell_type": "code",
   "execution_count": null,
   "id": "a7de2dfd-f933-4d47-8b6f-ed46b284059a",
   "metadata": {},
   "outputs": [],
   "source": [
    "from datetime import datetime, date\n",
    "import sys\n",
    "\n",
    "dt = [datetime.strptime(line.strip(), '%Y-%m-%d') for line in sys.stdin]\n",
    "diff = max(dt) - min(dt)\n",
    "\n",
    "print(diff.days)"
   ]
  },
  {
   "cell_type": "code",
   "execution_count": 15,
   "id": "0b0c3f2f-71c0-46c1-9295-b8cf8c59e315",
   "metadata": {},
   "outputs": [],
   "source": [
    "# 4.1.11"
   ]
  },
  {
   "cell_type": "code",
   "execution_count": null,
   "id": "f518aa28-cd67-4b4b-94c2-0cadd32e9886",
   "metadata": {},
   "outputs": [],
   "source": [
    "import sys\n",
    "\n",
    "lst = [int(line.strip()) for line in sys.stdin]\n",
    "    \n",
    "print(\"Дима\" if lst[-1] % 2 == len(lst) % 2 else \"Анри\")"
   ]
  },
  {
   "cell_type": "code",
   "execution_count": 4,
   "id": "3f3aeee6-e866-4917-9191-1d4b71ab96c0",
   "metadata": {},
   "outputs": [],
   "source": [
    "# 4.1.12"
   ]
  },
  {
   "cell_type": "code",
   "execution_count": null,
   "id": "5a8e21e4-8dcc-44bb-a128-9294ab927a2d",
   "metadata": {},
   "outputs": [],
   "source": [
    "import sys\n",
    "import numpy as np\n",
    "\n",
    "lst = [int(line.strip()) for line in sys.stdin]\n",
    "\n",
    "if lst:\n",
    "    print(f'Рост самого низкого ученика: {min(lst)}')\n",
    "    print(f'Рост самого высокого ученика: {max(lst)}')\n",
    "    print(f'Средний рост: {np.mean(lst)}')\n",
    "else:\n",
    "    print('нет учеников')"
   ]
  },
  {
   "cell_type": "code",
   "execution_count": 5,
   "id": "60500a08-b563-43f1-bf55-c06551764a71",
   "metadata": {},
   "outputs": [],
   "source": [
    "# 4.1.13"
   ]
  },
  {
   "cell_type": "code",
   "execution_count": null,
   "id": "4c3b158d-1e8c-4933-88ee-5d72eb0fab1a",
   "metadata": {},
   "outputs": [],
   "source": [
    "import sys\n",
    "\n",
    "print(sum(line.lstrip().startswith('#') for line in sys.stdin))"
   ]
  },
  {
   "cell_type": "code",
   "execution_count": 6,
   "id": "ebe4929b-ec9b-4975-b88f-f5a4e9003c53",
   "metadata": {},
   "outputs": [],
   "source": [
    "# 4.1.14"
   ]
  },
  {
   "cell_type": "code",
   "execution_count": null,
   "id": "1873023a-74c4-4b5f-bff1-f8037a2d27dc",
   "metadata": {},
   "outputs": [],
   "source": [
    "import sys\n",
    "\n",
    "code = [line for line in sys.stdin if not line.lstrip().startswith('#')]\n",
    "\n",
    "print(*code, sep='')"
   ]
  },
  {
   "cell_type": "code",
   "execution_count": 7,
   "id": "7ff79108-ed8b-49a0-b942-eb3942cb2298",
   "metadata": {},
   "outputs": [],
   "source": [
    "# 4.1.15"
   ]
  },
  {
   "cell_type": "code",
   "execution_count": null,
   "id": "68f72782-3dfd-4e67-8eb7-53cd3deeb873",
   "metadata": {},
   "outputs": [],
   "source": [
    "import sys\n",
    "\n",
    "news = [line.rstrip().split(' / ') for line in sys.stdin]\n",
    "key = news.pop(-1)[0]\n",
    "lst = list(filter(lambda x: x[1] == key, news))\n",
    "sorted_lst = sorted(lst, key=lambda x: (float(x[2]), x[0]))\n",
    "\n",
    "for el in sorted_lst:\n",
    "    print(el[0])"
   ]
  },
  {
   "cell_type": "code",
   "execution_count": 8,
   "id": "c17c5e82-58f5-4655-965b-8cbcef713c51",
   "metadata": {},
   "outputs": [],
   "source": [
    "# 4.1.16"
   ]
  },
  {
   "cell_type": "code",
   "execution_count": null,
   "id": "efe21abd-8144-47a7-9c49-636c5e6f6d66",
   "metadata": {},
   "outputs": [],
   "source": [
    "import sys\n",
    "from datetime import datetime\n",
    "\n",
    "dt = [datetime.strptime(line.strip(), '%d.%m.%Y') for line in sys.stdin]\n",
    "\n",
    "if sorted(list(set(dt))) == dt:\n",
    "    print('ASC')\n",
    "elif sorted(list(set(dt)), reverse=True) == dt:\n",
    "    print('DESC')\n",
    "else:\n",
    "    print('MIX')"
   ]
  },
  {
   "cell_type": "code",
   "execution_count": 1,
   "id": "be37e707-550b-4e70-8342-d68709ceffb5",
   "metadata": {},
   "outputs": [],
   "source": [
    "# 4.1.17"
   ]
  },
  {
   "cell_type": "code",
   "execution_count": null,
   "id": "71406db4-d719-4020-8dec-9e8265c5a49e",
   "metadata": {},
   "outputs": [],
   "source": [
    "import sys\n",
    "\n",
    "lst = [int(line.strip()) for line in sys.stdin]\n",
    "\n",
    "arithmetic = all(lst[i + 1] - lst[i] == lst[1] - lst[0] for i in range(len(lst) - 1))\n",
    "geometric = all(lst[i + 1] / lst[i] == lst[1] / lst[0] for i in range(len(lst) - 1) if lst[i] != 0)\n",
    "\n",
    "if arithmetic:\n",
    "    print(\"Арифметическая прогрессия\")\n",
    "elif geometric:\n",
    "    print(\"Геометрическая прогрессия\")\n",
    "else:\n",
    "    print(\"Не прогрессия\")"
   ]
  }
 ],
 "metadata": {
  "kernelspec": {
   "display_name": "Python 3 (ipykernel)",
   "language": "python",
   "name": "python3"
  },
  "language_info": {
   "codemirror_mode": {
    "name": "ipython",
    "version": 3
   },
   "file_extension": ".py",
   "mimetype": "text/x-python",
   "name": "python",
   "nbconvert_exporter": "python",
   "pygments_lexer": "ipython3",
   "version": "3.11.6"
  }
 },
 "nbformat": 4,
 "nbformat_minor": 5
}
