{
 "cells": [
  {
   "cell_type": "code",
   "execution_count": 2,
   "id": "5c68712f-9f04-4fb7-b242-ddf5b92b6df4",
   "metadata": {},
   "outputs": [],
   "source": [
    "# 3.4.13"
   ]
  },
  {
   "cell_type": "code",
   "execution_count": 4,
   "id": "4e5dc961-6556-4c81-9d23-998a50ebf70a",
   "metadata": {},
   "outputs": [
    {
     "name": "stdout",
     "output_type": "stream",
     "text": [
      "12.11.2021 01:06:00\n"
     ]
    }
   ],
   "source": [
    "from datetime import datetime, timedelta\n",
    "\n",
    "dt = datetime(2021, 11, 4, 13, 6) + timedelta(weeks=1, hours=12)\n",
    "\n",
    "print(dt.strftime('%d.%m.%Y %H:%M:%S'))"
   ]
  },
  {
   "cell_type": "code",
   "execution_count": 5,
   "id": "5e8e92b3-3959-4b8c-a528-304716b99a89",
   "metadata": {},
   "outputs": [],
   "source": [
    "# 3.4.14"
   ]
  },
  {
   "cell_type": "code",
   "execution_count": 9,
   "id": "2079b0b1-d339-4e5b-b700-aa7f418e8d0d",
   "metadata": {},
   "outputs": [
    {
     "name": "stdout",
     "output_type": "stream",
     "text": [
      "336\n"
     ]
    }
   ],
   "source": [
    "from datetime import date, timedelta\n",
    "\n",
    "today = date(2021, 11, 4)\n",
    "birthday = date(2022, 10, 6)\n",
    "\n",
    "days = birthday - today\n",
    "\n",
    "print(days.days)"
   ]
  },
  {
   "cell_type": "code",
   "execution_count": 10,
   "id": "ed31938e-1da1-4ce4-b78e-541bf22b43e2",
   "metadata": {},
   "outputs": [],
   "source": [
    "# 3.4.15"
   ]
  },
  {
   "cell_type": "code",
   "execution_count": 12,
   "id": "e306772d-d97e-4dba-8360-2261c7f3e03e",
   "metadata": {},
   "outputs": [
    {
     "name": "stdin",
     "output_type": "stream",
     "text": [
      " 04.11.2021\n"
     ]
    },
    {
     "name": "stdout",
     "output_type": "stream",
     "text": [
      "03.11.2021\n",
      "05.11.2021\n"
     ]
    }
   ],
   "source": [
    "from datetime import timedelta, datetime\n",
    "\n",
    "dat = datetime.strptime(input(), '%d.%m.%Y')\n",
    "\n",
    "print(datetime.strftime(dat - timedelta(days=1), '%d.%m.%Y'))\n",
    "print(datetime.strftime(dat + timedelta(days=1), '%d.%m.%Y'))"
   ]
  },
  {
   "cell_type": "code",
   "execution_count": 11,
   "id": "88b82021-e8e1-4034-a582-6f046e4931b8",
   "metadata": {},
   "outputs": [],
   "source": [
    "# 3.4.16"
   ]
  },
  {
   "cell_type": "code",
   "execution_count": 18,
   "id": "b7030047-0386-4be1-90e0-9d0c36806e38",
   "metadata": {},
   "outputs": [
    {
     "name": "stdin",
     "output_type": "stream",
     "text": [
      " 12:12:12\n"
     ]
    },
    {
     "name": "stdout",
     "output_type": "stream",
     "text": [
      "43932\n"
     ]
    }
   ],
   "source": [
    "from datetime import datetime, timedelta\n",
    "\n",
    "h, m, s = map(int, input().split(':'))\n",
    "\n",
    "td = timedelta(hours=h, minutes=m, seconds=s)\n",
    "\n",
    "print(int(td.total_seconds()))"
   ]
  },
  {
   "cell_type": "code",
   "execution_count": 19,
   "id": "0c834b78-b832-4758-b2b1-7670372359d8",
   "metadata": {},
   "outputs": [],
   "source": [
    "# 3.4.17"
   ]
  },
  {
   "cell_type": "code",
   "execution_count": 39,
   "id": "75346538-081d-4393-9c47-90d6cac93a6c",
   "metadata": {},
   "outputs": [
    {
     "name": "stdin",
     "output_type": "stream",
     "text": [
      " 09:00:00\n",
      " 90\n"
     ]
    },
    {
     "name": "stdout",
     "output_type": "stream",
     "text": [
      "09:01:30\n"
     ]
    }
   ],
   "source": [
    "from datetime import datetime, timedelta\n",
    "\n",
    "pattern = '%H:%M:%S'\n",
    "dt = datetime.strptime(input(), pattern) + timedelta(seconds=int(input()))\n",
    "\n",
    "print(dt.strftime(pattern))"
   ]
  },
  {
   "cell_type": "code",
   "execution_count": 40,
   "id": "dfe6f994-ad92-4223-81d6-ceda9aa7e54a",
   "metadata": {},
   "outputs": [],
   "source": [
    "# 3.4.18"
   ]
  },
  {
   "cell_type": "code",
   "execution_count": 44,
   "id": "2643d466-9771-4af2-8dc3-88eec02e8ac3",
   "metadata": {},
   "outputs": [
    {
     "name": "stdout",
     "output_type": "stream",
     "text": [
      "52\n",
      "53\n",
      "52\n"
     ]
    }
   ],
   "source": [
    "from datetime import date, timedelta\n",
    "\n",
    "def num_of_sundays(year):\n",
    "    start_date, end_date, count = date(year, 1, 1), date(year, 12, 31), 0\n",
    "    while start_date <= end_date:\n",
    "        if start_date.weekday() == 6:\n",
    "            count += 1\n",
    "        start_date += timedelta(days=1) \n",
    "    return count\n",
    "\n",
    "print(num_of_sundays(2021))\n",
    "year = 2000\n",
    "print(num_of_sundays(year))\n",
    "print(num_of_sundays(768))"
   ]
  },
  {
   "cell_type": "code",
   "execution_count": null,
   "id": "00b86492-09ed-482e-b7ac-b4e91cb0c04a",
   "metadata": {},
   "outputs": [],
   "source": [
    "from datetime import date\n",
    "\n",
    "def num_of_sundays(year):\n",
    "    return date(year, 12, 31).strftime('%U')"
   ]
  },
  {
   "cell_type": "code",
   "execution_count": 43,
   "id": "bc67a99f-853d-41a8-a6d4-67409a68051c",
   "metadata": {},
   "outputs": [],
   "source": [
    "# 3.4.19"
   ]
  },
  {
   "cell_type": "code",
   "execution_count": 52,
   "id": "79f66885-fd52-4fe0-984c-4ea734915010",
   "metadata": {},
   "outputs": [
    {
     "name": "stdout",
     "output_type": "stream",
     "text": [
      "20.12.2021\n",
      "22.12.2021\n",
      "25.12.2021\n",
      "29.12.2021\n",
      "03.01.2022\n",
      "09.01.2022\n",
      "16.01.2022\n",
      "24.01.2022\n",
      "02.02.2022\n",
      "12.02.2022\n"
     ]
    }
   ],
   "source": [
    "from datetime import date, timedelta, datetime\n",
    "\n",
    "dt = datetime.strptime(input(), '%d.%m.%Y') - timedelta(days=1)\n",
    "\n",
    "for i in range(1, 11):\n",
    "    dt += timedelta(days=i)\n",
    "    print(dt.strftime('%d.%m.%Y'))"
   ]
  },
  {
   "cell_type": "code",
   "execution_count": 53,
   "id": "38ab3e99-16e3-46db-892c-07eb369f9a3b",
   "metadata": {},
   "outputs": [],
   "source": [
    "# 3.4.20"
   ]
  },
  {
   "cell_type": "code",
   "execution_count": 62,
   "id": "b74b8596-d45c-4182-b86a-0090fc2942e6",
   "metadata": {},
   "outputs": [
    {
     "name": "stdin",
     "output_type": "stream",
     "text": [
      " 05.10.2021 06.10.2021 07.10.2021 08.10.2021 09.10.2021\n"
     ]
    },
    {
     "name": "stdout",
     "output_type": "stream",
     "text": [
      "[1, 1, 1, 1]\n"
     ]
    }
   ],
   "source": [
    "from datetime import date, timedelta, datetime\n",
    "\n",
    "lst = [datetime.strptime(c, '%d.%m.%Y') for c in input().split()]\n",
    "dif = [abs(x - lst[i]).days for i, x in enumerate(lst[1:])]\n",
    "\n",
    "print(dif)"
   ]
  },
  {
   "cell_type": "code",
   "execution_count": 63,
   "id": "8bc34117-8543-4d0e-9b3b-22d86e9cb896",
   "metadata": {},
   "outputs": [],
   "source": [
    "# 3.4.21"
   ]
  },
  {
   "cell_type": "code",
   "execution_count": 90,
   "id": "d6af1541-4f0f-428c-a1f1-4e6e67a027b8",
   "metadata": {},
   "outputs": [],
   "source": [
    "from datetime import date, timedelta, datetime\n",
    "\n",
    "def fill_up_missing_dates(dates):\n",
    "    lst = [datetime.strptime(date_str , '%d.%m.%Y') for date_str  in dates]\n",
    "    return [str(date.fromordinal(i).strftime('%d.%m.%Y')) for i in range(min(lst).toordinal(), max(lst).toordinal() + 1)]"
   ]
  },
  {
   "cell_type": "code",
   "execution_count": 93,
   "id": "395f3db9-19b2-40d3-9db6-78222f3309c6",
   "metadata": {},
   "outputs": [],
   "source": [
    "# 3.4.22"
   ]
  },
  {
   "cell_type": "code",
   "execution_count": 98,
   "id": "34b4f992-542f-48ba-a788-0a1cef90ce34",
   "metadata": {},
   "outputs": [
    {
     "name": "stdin",
     "output_type": "stream",
     "text": [
      " 10:00\n",
      " 12:35\n"
     ]
    },
    {
     "name": "stdout",
     "output_type": "stream",
     "text": [
      "10:00 - 10:45\n",
      "10:55 - 11:40\n",
      "11:50 - 12:35\n"
     ]
    }
   ],
   "source": [
    "from datetime import datetime, timedelta\n",
    "\n",
    "start, stop = (datetime.strptime(input(), '%H:%M') for i in range(2))\n",
    "while start <= (stop - timedelta(minutes=45)):\n",
    "    print(start.strftime('%H:%M'), '-', (start + timedelta(minutes=45)).strftime('%H:%M'))\n",
    "    start += timedelta(minutes=55)"
   ]
  },
  {
   "cell_type": "code",
   "execution_count": null,
   "id": "3be89a29-39d1-492d-a46a-9b5997ad6263",
   "metadata": {},
   "outputs": [],
   "source": []
  }
 ],
 "metadata": {
  "kernelspec": {
   "display_name": "Python 3 (ipykernel)",
   "language": "python",
   "name": "python3"
  },
  "language_info": {
   "codemirror_mode": {
    "name": "ipython",
    "version": 3
   },
   "file_extension": ".py",
   "mimetype": "text/x-python",
   "name": "python",
   "nbconvert_exporter": "python",
   "pygments_lexer": "ipython3",
   "version": "3.11.6"
  }
 },
 "nbformat": 4,
 "nbformat_minor": 5
}
