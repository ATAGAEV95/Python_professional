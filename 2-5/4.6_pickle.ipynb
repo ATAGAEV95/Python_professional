{
 "cells": [
  {
   "cell_type": "code",
   "execution_count": 9,
   "id": "29960cad-49f2-432e-8f9c-a77a27161ab1",
   "metadata": {},
   "outputs": [],
   "source": [
    "# 4.6.12"
   ]
  },
  {
   "cell_type": "code",
   "execution_count": 15,
   "id": "97be1317-8a77-4e57-a5ce-f42203beaf86",
   "metadata": {},
   "outputs": [],
   "source": [
    "import pickle\n",
    "\n",
    "dogs = {'Ozzy': 2, 'Filou': 7, 'Luna': 4, 'Skippy': 11, 'Barco': 13, 'Balou': 10, 'Laika': 15}\n",
    "\n",
    "with open('dogs.pkl', mode='wb') as file:\n",
    "    pickle.dump(dogs, file)"
   ]
  },
  {
   "cell_type": "code",
   "execution_count": 16,
   "id": "96f2d83f-d293-49bc-9f68-b1c8deb60031",
   "metadata": {},
   "outputs": [],
   "source": [
    "# 4.6.13"
   ]
  },
  {
   "cell_type": "code",
   "execution_count": null,
   "id": "29300d23-d76b-4e7a-b853-16aca586d78b",
   "metadata": {},
   "outputs": [],
   "source": [
    "import sys\n",
    "import pickle\n",
    "\n",
    "f, *args = [i.rstrip() for i in sys.stdin]\n",
    "\n",
    "with open(f, 'rb') as file:\n",
    "    obj = pickle.load(file)\n",
    "    print(obj(*args))  "
   ]
  },
  {
   "cell_type": "code",
   "execution_count": 17,
   "id": "757a8a57-b773-4e7d-8d7f-a012c4666e1e",
   "metadata": {},
   "outputs": [],
   "source": [
    "# 4.6.14"
   ]
  },
  {
   "cell_type": "code",
   "execution_count": null,
   "id": "daafd8b0-7eb4-47bd-8806-283b233bbd33",
   "metadata": {},
   "outputs": [],
   "source": [
    "import pickle\n",
    "\n",
    "def filter_dump(filename, objects, typename):\n",
    "    filtered_objects = [obj for obj in objects if isinstance(obj, typename)]\n",
    "    with open(filename, 'wb') as f:\n",
    "        pickle.dump(filtered_objects, f)"
   ]
  },
  {
   "cell_type": "code",
   "execution_count": 17,
   "id": "d2a90cdb-51c0-4047-b751-58680aa0e3ce",
   "metadata": {},
   "outputs": [],
   "source": [
    "# 4.6.15"
   ]
  },
  {
   "cell_type": "code",
   "execution_count": null,
   "id": "03e7ec3e-d693-4a8a-9752-a1f6a8327519",
   "metadata": {},
   "outputs": [],
   "source": [
    "import pickle\n",
    "\n",
    "name, sm = input(), int(input())\n",
    "with open(name, 'rb') as f:\n",
    "    obj = pickle.load(f)\n",
    "    lst = [i for i in obj if type(i) == int] or [0]\n",
    "    check = sum(lst) if type(obj) == dict else max(lst)*min(lst)\n",
    "    print(['Контрольные суммы не совпадают', 'Контрольные суммы совпадают'][sm == check])"
   ]
  }
 ],
 "metadata": {
  "kernelspec": {
   "display_name": "Python 3 (ipykernel)",
   "language": "python",
   "name": "python3"
  },
  "language_info": {
   "codemirror_mode": {
    "name": "ipython",
    "version": 3
   },
   "file_extension": ".py",
   "mimetype": "text/x-python",
   "name": "python",
   "nbconvert_exporter": "python",
   "pygments_lexer": "ipython3",
   "version": "3.11.6"
  }
 },
 "nbformat": 4,
 "nbformat_minor": 5
}
