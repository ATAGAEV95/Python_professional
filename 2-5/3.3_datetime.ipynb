{
 "cells": [
  {
   "cell_type": "code",
   "execution_count": null,
   "id": "4ba9a409-5cbd-48b3-a190-f727bcf83fd1",
   "metadata": {},
   "outputs": [],
   "source": [
    "# 3.3.13"
   ]
  },
  {
   "cell_type": "code",
   "execution_count": null,
   "id": "53c4701d-e7fa-41eb-92c5-bfd7b270ac5d",
   "metadata": {},
   "outputs": [],
   "source": [
    "from datetime import datetime\n",
    "\n",
    "text = 'Уважаемый пациент, доктор готов принять Вас 15.07.2022 в 08:30'\n",
    "\n",
    "dt = datetime.strptime(text, 'Уважаемый пациент, доктор готов принять Вас %d.%m.%Y в %H:%M')\n",
    "\n",
    "print(dt)"
   ]
  },
  {
   "cell_type": "code",
   "execution_count": null,
   "id": "20cbc47d-f9b2-4de1-aaae-04588da73a33",
   "metadata": {},
   "outputs": [],
   "source": [
    "# 3.3.14"
   ]
  },
  {
   "cell_type": "code",
   "execution_count": 30,
   "id": "1fbaa7d2-c0d6-4292-9b1c-897960004e5b",
   "metadata": {},
   "outputs": [
    {
     "name": "stdout",
     "output_type": "stream",
     "text": [
      "2048-09-09 01:46:40\n",
      "1320364800.0\n"
     ]
    }
   ],
   "source": [
    "from datetime import datetime\n",
    "\n",
    "seconds = 2483228800\n",
    "dt = datetime(2011, 11, 4)\n",
    "\n",
    "print(datetime.fromtimestamp(seconds))\n",
    "print(dt.timestamp())"
   ]
  },
  {
   "cell_type": "code",
   "execution_count": 31,
   "id": "26a29297-6836-4785-b9f1-3b2f21a13f62",
   "metadata": {},
   "outputs": [],
   "source": [
    "# 3.3.14"
   ]
  },
  {
   "cell_type": "code",
   "execution_count": 37,
   "id": "99d786b2-89a0-4e6d-867c-770cc5ef5448",
   "metadata": {},
   "outputs": [
    {
     "name": "stdout",
     "output_type": "stream",
     "text": [
      "После полудня\n"
     ]
    }
   ],
   "source": [
    "from datetime import datetime\n",
    "\n",
    "times_of_purchases = [datetime(2017, 10, 1, 12, 23, 25), datetime(2017, 10, 1, 15, 26, 26), \n",
    "                      datetime(2017, 10, 1, 15, 42, 57), datetime(2017, 10, 1, 17, 49, 59), \n",
    "                      datetime(2017, 10, 2, 6, 37, 10), datetime(2017, 10, 2, 6, 42, 53), \n",
    "                      datetime(2017, 10, 2, 8, 56, 45), datetime(2017, 10, 2, 9, 18, 3), \n",
    "                      datetime(2017, 10, 2, 12, 23, 48), datetime(2017, 10, 2, 12, 45, 5), \n",
    "                      datetime(2017, 10, 2, 12, 48, 8), datetime(2017, 10, 2, 12, 10, 54), \n",
    "                      datetime(2017, 10, 2, 19, 18, 10), datetime(2017, 10, 2, 12, 31, 45), \n",
    "                      datetime(2017, 10, 3, 20, 57, 10), datetime(2017, 10, 4, 7, 4, 57), \n",
    "                      datetime(2017, 10, 4, 7, 13, 31), datetime(2017, 10, 4, 7, 13, 42), \n",
    "                      datetime(2017, 10, 4, 7, 21, 54), datetime(2017, 10, 4, 14, 22, 12), \n",
    "                      datetime(2017, 10, 4, 14, 50), datetime(2017, 10, 4, 15, 7, 27), \n",
    "                      datetime(2017, 10, 4, 12, 44, 49), datetime(2017, 10, 4, 12, 46, 41), \n",
    "                      datetime(2017, 10, 4, 16, 32, 33), datetime(2017, 10, 4, 16, 34, 44), \n",
    "                      datetime(2017, 10, 4, 16, 46, 59), datetime(2017, 10, 4, 12, 26, 6)]\n",
    "\n",
    "lst = list(map(lambda x: 'До полудня' if x.hour < 12 else 'После полудня', times_of_purchases))\n",
    "print('До полудня' if lst.count('До полудня') > lst.count('После полудня') else 'После полудня')"
   ]
  },
  {
   "cell_type": "code",
   "execution_count": 38,
   "id": "7910760d-d339-43c7-9c50-75792d79598d",
   "metadata": {},
   "outputs": [],
   "source": [
    "# 3.3.15"
   ]
  },
  {
   "cell_type": "code",
   "execution_count": 42,
   "id": "b262db56-a1bc-4e36-979d-c0b53d97332d",
   "metadata": {},
   "outputs": [
    {
     "name": "stdout",
     "output_type": "stream",
     "text": [
      "1239-02-05 11:47:01\n",
      "0229-01-24 09:40:02\n",
      "0167-04-16 17:47:09\n",
      "0479-09-06 09:14:09\n",
      "1410-03-11 21:02:10\n",
      "1957-07-14 17:27:10\n",
      "1793-08-23 07:33:27\n",
      "0197-08-24 17:55:40\n",
      "0804-11-12 17:20:47\n",
      "0295-01-23 12:42:56\n",
      "0327-08-24 15:09:57\n",
      "0632-06-04 20:08:59\n"
     ]
    }
   ],
   "source": [
    "from datetime import date, time, datetime\n",
    "\n",
    "dates = [date(1793, 8, 23), date(1410, 3, 11), date(804, 11, 12), date(632, 6, 4),\n",
    "         date(295, 1, 23), date(327, 8, 24), date(167, 4, 16), date(229, 1, 24), \n",
    "         date(1239, 2, 5), date(1957, 7, 14), date(197, 8, 24), date(479, 9, 6)]\n",
    "\n",
    "times = [time(7, 33, 27), time(21, 2, 10), time(17, 20, 47), time(20, 8, 59), \n",
    "         time(12, 42, 56), time(15, 9, 57), time(17, 47, 9), time(9, 40, 2), \n",
    "         time(11, 47, 1), time(17, 27, 10), time(17, 55, 40), time(9, 14, 9)]\n",
    "\n",
    "datetime_list = [datetime.combine(d, t) for d, t in zip(dates, times)]\n",
    "\n",
    "for dt in sorted(datetime_list, key=lambda x: x.second):\n",
    "    print(dt)"
   ]
  },
  {
   "cell_type": "code",
   "execution_count": 43,
   "id": "da45647b-a1a8-470e-a105-777f9ffb451b",
   "metadata": {},
   "outputs": [],
   "source": [
    "# 3.3.16"
   ]
  },
  {
   "cell_type": "code",
   "execution_count": 34,
   "id": "3ef06db6-5d04-4df2-a7b3-a10674a32e51",
   "metadata": {},
   "outputs": [
    {
     "name": "stdout",
     "output_type": "stream",
     "text": [
      "Егор\n"
     ]
    }
   ],
   "source": [
    "data = {'Дима': ('03.11.2021 09:31:18', '03.11.2021 11:41:28'), \n",
    "        'Геор': ('01.11.2021 09:03:04', '01.11.2021 12:40:35'), \n",
    "        'Анна': ('02.11.2021 04:41:54', '02.11.2021 05:39:40'), \n",
    "        'Илина': ('02.11.2021 01:36:40', '02.11.2021 04:48:27'), \n",
    "        'Герман': ('04.11.2021 07:51:19', '04.11.2021 09:53:53'), \n",
    "        'Руслан': ('01.11.2021 11:26:06', '01.11.2021 12:56:24'), \n",
    "        'Лера': ('03.11.2021 11:09:41', '03.11.2021 14:37:41'), \n",
    "        'Егор': ('03.11.2021 05:29:38', '03.11.2021 06:01:59'), \n",
    "        'Максим': ('05.11.2021 13:05:03', '05.11.2021 14:27:41'), \n",
    "        'Саша': ('03.11.2021 04:14:26', '03.11.2021 05:10:58'), \n",
    "        'Марина': ('05.11.2021 15:21:06', '05.11.2021 18:33:46')}\n",
    "\n",
    "dt = {key: datetime.strptime(values[1], '%d.%m.%Y %H:%M:%S') - datetime.strptime(values[0], '%d.%m.%Y %H:%M:%S') \n",
    "      for key, values in data.items()}\n",
    "print(min(dt, key=dt.get))"
   ]
  },
  {
   "cell_type": "code",
   "execution_count": 36,
   "id": "0be7dd12-1d92-4763-b876-f0eb1e674e7c",
   "metadata": {},
   "outputs": [],
   "source": [
    "# 3.3.17"
   ]
  },
  {
   "cell_type": "code",
   "execution_count": null,
   "id": "fcaf872c-7839-4ae7-be8f-cee4a5413160",
   "metadata": {},
   "outputs": [],
   "source": [
    "from datetime import datetime\n",
    "\n",
    "with open('diary.txt', 'r', encoding='utf-8') as file:\n",
    "    res = sorted(file.read().split('\\n\\n'), key=lambda x: datetime.strptime(x[0:17], '%d.%m.%Y; %H:%M'))\n",
    "\n",
    "print(*res, sep='\\n\\n')"
   ]
  },
  {
   "cell_type": "code",
   "execution_count": 68,
   "id": "09cd65d8-74f5-4b0d-ac39-f2d9e2ecddc8",
   "metadata": {},
   "outputs": [],
   "source": [
    "# 3.3.18"
   ]
  },
  {
   "cell_type": "code",
   "execution_count": 131,
   "id": "6425d662-b88e-4808-aa1b-b53223648192",
   "metadata": {},
   "outputs": [],
   "source": [
    "def is_available_date(dates, some_date):\n",
    "    lst, dt = [], []\n",
    "    for date in dates:\n",
    "        if len(date) <= 10:\n",
    "            lst.append(datetime.strptime(date, '%d.%m.%Y').toordinal())\n",
    "        else:\n",
    "            start_date, end_date = date.split('-')\n",
    "            lst.extend(range(datetime.strptime(start_date, '%d.%m.%Y').toordinal(), datetime.strptime(end_date, '%d.%m.%Y').toordinal() + 1))\n",
    "    if len(some_date) <= 10:\n",
    "        dt.append(datetime.strptime(some_date, '%d.%m.%Y').toordinal())\n",
    "    else:\n",
    "        start_date, end_date = some_date.split('-')\n",
    "        dt.extend(range(datetime.strptime(start_date, '%d.%m.%Y').toordinal(), datetime.strptime(end_date, '%d.%m.%Y').toordinal() + 1))\n",
    "    return (set(lst) & set(dt) == set())"
   ]
  },
  {
   "cell_type": "code",
   "execution_count": 147,
   "id": "ed39659a-d6d9-4d80-93ee-a6b3f8eac628",
   "metadata": {},
   "outputs": [],
   "source": [
    "def is_available_date(dates, some_date):\n",
    "    date_for_booking = [datetime.strptime(date, '%d.%m.%Y') for date in some_date.split('-')]\n",
    "    for date in dates:\n",
    "        booked_dates = [datetime.strptime(d, '%d.%m.%Y') for d in date.split('-')]\n",
    "        if not (date_for_booking[0] > booked_dates[-1] or date_for_booking[-1] < booked_dates[0]):\n",
    "            return False\n",
    "    return True"
   ]
  },
  {
   "cell_type": "code",
   "execution_count": null,
   "id": "7c9dd265-43b9-4dbc-9ebb-618c652d1011",
   "metadata": {},
   "outputs": [],
   "source": []
  }
 ],
 "metadata": {
  "kernelspec": {
   "display_name": "Python 3 (ipykernel)",
   "language": "python",
   "name": "python3"
  },
  "language_info": {
   "codemirror_mode": {
    "name": "ipython",
    "version": 3
   },
   "file_extension": ".py",
   "mimetype": "text/x-python",
   "name": "python",
   "nbconvert_exporter": "python",
   "pygments_lexer": "ipython3",
   "version": "3.11.6"
  }
 },
 "nbformat": 4,
 "nbformat_minor": 5
}
