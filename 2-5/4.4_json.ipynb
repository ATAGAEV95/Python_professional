{
 "cells": [
  {
   "cell_type": "code",
   "execution_count": 1,
   "id": "ff1ae892-c07c-4bc0-9d91-dad8ded7f20a",
   "metadata": {},
   "outputs": [],
   "source": [
    "# 4.4.1"
   ]
  },
  {
   "cell_type": "code",
   "execution_count": 19,
   "id": "47b4b3f4-93ca-4ad0-a468-7e7c99c64903",
   "metadata": {},
   "outputs": [],
   "source": [
    "import json\n",
    "\n",
    "countries = {'Monaco': 'Monaco', 'Iceland': 'Reykjavik', 'Kenya': 'Nairobi', 'Kazakhstan': 'Nur-Sultan',\n",
    "             'Mali': 'Bamako', 'Colombia': 'Bogota', 'Finland': 'Helsinki', 'Costa Rica': 'San Jose',\n",
    "             'Cuba': 'Havana', 'France': 'Paris', 'Gabon': 'Libreville', 'Liberia': 'Monrovia',\n",
    "             'Angola': 'Luanda', 'India': 'New Delhi', 'Canada': 'Ottawa', 'Australia': 'Canberra'}\n",
    "\n",
    "json_countries = json.dumps(countries, indent=3, sort_keys=True, separators=(',', ' - '))\n",
    "print(json_countries)"
   ]
  },
  {
   "cell_type": "code",
   "execution_count": 27,
   "id": "7cdf30a2-0d12-4a25-9f33-836d05ebfe17",
   "metadata": {},
   "outputs": [],
   "source": [
    "# 4.4.2"
   ]
  },
  {
   "cell_type": "code",
   "execution_count": 32,
   "id": "daa54cbe-ed9e-4056-b3d1-536a2e90dfa0",
   "metadata": {},
   "outputs": [],
   "source": [
    "import json\n",
    "\n",
    "words = {\n",
    "         frozenset([\"tap\", \"telephone\"]): (\"tæp\", \"telifəun\"),\n",
    "         \"travel\": \"trævl\",\n",
    "         (\"hello\", \"world\"): (\"həˈləʊ\", \"wɜːld\"),\n",
    "         \"moonlight\": \"muːn.laɪt\",\n",
    "         \"sunshine\": \"ˈsʌn.ʃaɪn\",\n",
    "         (\"why\", \"is\", \"so\", \"difficult\"): (\"waɪ\", \"ɪz\", \"səʊ\", \"ˈdɪfɪkəlt\"),\n",
    "         \"adventure\": \"ədˈventʃər\",\n",
    "         \"beautiful\": \"ˈbjuːtɪfl\",\n",
    "         frozenset([\"spoon\", \"block\"]): (\"spu:n\", \"blɔk\"),\n",
    "         \"bicycle\": \"baisikl\",\n",
    "         (\"pilot\", \"fly\"): (\"pailət\", \"flai\")\n",
    "        }\n",
    "\n",
    "data_json = json.dumps(words, skipkeys=True)"
   ]
  },
  {
   "cell_type": "code",
   "execution_count": 34,
   "id": "2bd75bb9-48c6-4c78-941a-d5ff35fbbb3b",
   "metadata": {},
   "outputs": [],
   "source": [
    "# 4.4.3"
   ]
  },
  {
   "cell_type": "code",
   "execution_count": 38,
   "id": "e9621d29-7d1b-4558-8f95-bdf102fb88bc",
   "metadata": {},
   "outputs": [],
   "source": [
    "import json\n",
    "\n",
    "club1 = {\"name\": \"FC Byern Munchen\", \"country\": \"Germany\", \"founded\": 1900,\n",
    "         \"trainer\": \"Julian Nagelsmann\", \"goalkeeper\": \"M. Neuer\", \"league_position\": 1}\n",
    "\n",
    "club2 = {\"name\": \"FC Barcelona\", \"country\": \"Spain\", \"founded\": 1899,\n",
    "         \"trainer\": \"Xavier Creus\", \"goalkeeper\": \"M. Ter Stegen\", \"league_position\": 7}\n",
    "\n",
    "club3 = {\"name\": \"FC Manchester United\", \"country\": \"England\", \"founded\": 1878,\n",
    "         \"trainer\": \"Michael Carrick\", \"goalkeeper\": \"D. De Gea\", \"league_position\": 8}\n",
    "\n",
    "with open('data.json', 'w') as file:\n",
    "    json.dump([club1, club2, club3], file, indent=3)"
   ]
  },
  {
   "cell_type": "code",
   "execution_count": 41,
   "id": "e2be3b27-832b-407d-985f-86d24e063502",
   "metadata": {},
   "outputs": [],
   "source": [
    "# 4.4.4"
   ]
  },
  {
   "cell_type": "code",
   "execution_count": 43,
   "id": "10f8f26f-69f7-4f28-a9b7-9bb09f4220a2",
   "metadata": {},
   "outputs": [
    {
     "name": "stdout",
     "output_type": "stream",
     "text": [
      "{\n",
      "   \"Модель\": \"AMD Ryzen 5 5600G\",\n",
      "   \"Год релиза\": 2021,\n",
      "   \"Сокет\": \"AM4\",\n",
      "   \"Техпроцесс\": \"7 нм\",\n",
      "   \"Ядро\": \"Cezanne\",\n",
      "   \"Объем кэша L2\": \"3 МБ\",\n",
      "   \"Объем кэша L3\": \"16 МБ\",\n",
      "   \"Базовая частота\": \"3900 МГц\"\n",
      "}\n"
     ]
    }
   ],
   "source": [
    "import json\n",
    "\n",
    "specs = {\n",
    "         'Модель': 'AMD Ryzen 5 5600G',\n",
    "         'Год релиза': 2021,\n",
    "         'Сокет': 'AM4',\n",
    "         'Техпроцесс': '7 нм',\n",
    "         'Ядро': 'Cezanne',\n",
    "         'Объем кэша L2': '3 МБ',\n",
    "         'Объем кэша L3': '16 МБ',\n",
    "         'Базовая частота': '3900 МГц'\n",
    "        }\n",
    "\n",
    "specs_json = json.dumps(specs, ensure_ascii=False, indent=3)\n",
    "\n",
    "print(specs_json)"
   ]
  },
  {
   "cell_type": "code",
   "execution_count": null,
   "id": "89027c04-2d46-4f65-80c8-32399ca689de",
   "metadata": {},
   "outputs": [],
   "source": [
    "# 4.4.5"
   ]
  },
  {
   "cell_type": "code",
   "execution_count": null,
   "id": "79e72b16-ec84-4424-acb2-e14b570f7adf",
   "metadata": {},
   "outputs": [],
   "source": [
    "import json\n",
    "\n",
    "def is_correct_json(string):\n",
    "    try:\n",
    "        json.loads(string)\n",
    "        return True\n",
    "    except json.JSONDecodeError:\n",
    "        return False"
   ]
  },
  {
   "cell_type": "code",
   "execution_count": 1,
   "id": "660a83df-4294-4308-8c3e-206e1ac320ea",
   "metadata": {},
   "outputs": [],
   "source": [
    "# 4.4.6"
   ]
  },
  {
   "cell_type": "code",
   "execution_count": null,
   "id": "10c98605-f081-4201-8eab-e09c8bd88c23",
   "metadata": {},
   "outputs": [],
   "source": [
    "import sys\n",
    "import json\n",
    "\n",
    "data = json.loads(sys.stdin.read())\n",
    "\n",
    "for key, value in data.items():\n",
    "    if isinstance(value, list):\n",
    "        print(f'{key}: {\", \".join(map(str, value))}')\n",
    "    else:\n",
    "        print(f'{key}: {value}')"
   ]
  },
  {
   "cell_type": "code",
   "execution_count": 2,
   "id": "f416e41a-02e7-48d6-b9f7-bcf801c239ee",
   "metadata": {},
   "outputs": [],
   "source": [
    "# 4.4.7"
   ]
  },
  {
   "cell_type": "code",
   "execution_count": 4,
   "id": "232d446d-4188-4732-87af-4d303c024fb3",
   "metadata": {},
   "outputs": [],
   "source": [
    "import json\n",
    "\n",
    "opers = {'str': lambda x: x + '!', \n",
    "         'int': lambda x: x + 1, \n",
    "         'float': lambda x: x + 1, \n",
    "         'bool': lambda x: not x, \n",
    "         'list': lambda x: x * 2, \n",
    "         'dict': lambda x: x | {'newkey': None}}\n",
    "\n",
    "with open('data.json', encoding='utf8') as fi, open('updated_data.json', 'w', encoding='utf8') as fo:\n",
    "\tjson.dump([opers[type(i).__name__](i) for i in json.load(fi) if type(i).__name__ in opers], fo, indent=3)"
   ]
  },
  {
   "cell_type": "code",
   "execution_count": 3,
   "id": "7f1d0252-947f-49a5-bc57-0aabcc113ca5",
   "metadata": {},
   "outputs": [],
   "source": [
    "# 4.4.8"
   ]
  },
  {
   "cell_type": "code",
   "execution_count": null,
   "id": "d33dce92-0ac3-468b-ac62-378311a35a33",
   "metadata": {},
   "outputs": [],
   "source": [
    "import json\n",
    "data = []\n",
    "for i in [1, 2]:\n",
    "    with open(f\"data{i}.json\", \"r\", encoding=\"utf-8\") as file:\n",
    "        data.append(json.load(file))\n",
    "\n",
    "with open(\"data_merge.json\", \"w\", encoding=\"utf-8\") as file:\n",
    "    json.dump(data[0] | data[1], file, indent=3)"
   ]
  },
  {
   "cell_type": "code",
   "execution_count": 3,
   "id": "375d6bfd-3107-4ac8-bd6f-7a3a85e5644e",
   "metadata": {},
   "outputs": [],
   "source": [
    "# 4.4.8"
   ]
  },
  {
   "cell_type": "code",
   "execution_count": null,
   "id": "d44c7c12-a101-4757-b9c0-0a4b5c4310a7",
   "metadata": {},
   "outputs": [],
   "source": [
    "import json\n",
    "\n",
    "\n",
    "with open('people.json', encoding='utf-8') as js:\n",
    "    content = json.load(js)\n",
    "\n",
    "keys = set()\n",
    "for data in content:\n",
    "    keys |= data.keys()\n",
    "\n",
    "for data in content:\n",
    "    data |= dict.fromkeys(keys - data.keys())\n",
    "\n",
    "with open('updated_people.json', 'w') as js:\n",
    "    json.dump(content, js, indent=3)"
   ]
  },
  {
   "cell_type": "code",
   "execution_count": 4,
   "id": "1c5eed42-a3cd-4d98-801a-541f1ff0f665",
   "metadata": {},
   "outputs": [],
   "source": [
    "# 4.4.9"
   ]
  },
  {
   "cell_type": "code",
   "execution_count": null,
   "id": "28a3f1a3-2788-49ed-94cd-bdda7260c305",
   "metadata": {},
   "outputs": [],
   "source": [
    "import json\n",
    "\n",
    "with open(\"countries.json\") as file_in, open(\"religion.json\", \"w\") as file_out:\n",
    "\n",
    "    d = {}\n",
    "    datas = json.load(file_in)\n",
    "    for data in datas:\n",
    "        d[data['religion']] = d.get(data['religion'], []) + [data['country']]\n",
    "\n",
    "    json.dump(d, file_out)"
   ]
  },
  {
   "cell_type": "code",
   "execution_count": 4,
   "id": "c847d640-8c1c-457e-a69f-f5f908ca1553",
   "metadata": {},
   "outputs": [],
   "source": [
    "# 4.4.10"
   ]
  },
  {
   "cell_type": "code",
   "execution_count": null,
   "id": "2b508855-90d4-4237-91ea-98616ea500f8",
   "metadata": {},
   "outputs": [],
   "source": [
    "import csv\n",
    "import json\n",
    "\n",
    "with open('playgrounds.csv', encoding='utf8') as fi, open('addresses.json', 'w') as fo:\n",
    "    _, *playgrounds = csv.reader(fi, delimiter=';')\n",
    "    d = {}\n",
    "    [d.setdefault(i[1], {}).setdefault(i[2], []).append(i[3]) for i in playgrounds]\n",
    "    json.dump(d, fo, indent=3, ensure_ascii=False)"
   ]
  },
  {
   "cell_type": "code",
   "execution_count": 5,
   "id": "e1a342f0-4178-4b99-9ff4-c647aecd5526",
   "metadata": {},
   "outputs": [],
   "source": [
    "# 4.4.11"
   ]
  },
  {
   "cell_type": "code",
   "execution_count": null,
   "id": "3c424f6c-5352-4b9f-8bc9-f6d18cefc8ba",
   "metadata": {},
   "outputs": [],
   "source": [
    "import json\n",
    "import csv\n",
    "\n",
    "with open('students.json') as file:\n",
    "    students = json.load(file)\n",
    "    result = []\n",
    "    for student in data:\n",
    "        if student['age'] >= 18 and student['progress'] >= 75:\n",
    "            result.append([student['name'], student['phone']])\n",
    "    result.sort()\n",
    "        \n",
    "with open('data.csv', 'w', encoding='utf-8', newline='') as file:\n",
    "    writer = csv.writer(file)\n",
    "    writer.writerow(['name', 'phone'])\n",
    "    writer.writerows(result)"
   ]
  },
  {
   "cell_type": "code",
   "execution_count": 6,
   "id": "541f6f0e-3c51-4c9c-8b95-0b5bbcd6c98c",
   "metadata": {},
   "outputs": [],
   "source": [
    "# 4.4.12"
   ]
  },
  {
   "cell_type": "code",
   "execution_count": null,
   "id": "08cfaecd-1642-4f65-adb3-19254452741e",
   "metadata": {},
   "outputs": [],
   "source": [
    "import json\n",
    "\n",
    "def best_pool(data: dict):\n",
    "    monday_time = data[\"WorkingHoursSummer\"][\"Понедельник\"].split(\"-\")\n",
    "    start, finish = [int(time.split(\":\")[0]) for time in monday_time]\n",
    "    time = True if start <= 10 and finish >= 12 else False\n",
    "    dimensions = data[\"DimensionsSummer\"]\n",
    "\n",
    "    return (time, dimensions[\"Length\"], dimensions[\"Width\"])\n",
    "\n",
    "with open(\"pools.json\", \"r\", encoding=\"utf-8\") as input_file:\n",
    "    input_data = json.load(input_file)\n",
    "\n",
    "    choice = max(input_data, key=best_pool)\n",
    "    print(f'{choice[\"DimensionsSummer\"][\"Length\"]}x{choice[\"DimensionsSummer\"][\"Width\"]}')\n",
    "    print(choice[\"Address\"])"
   ]
  },
  {
   "cell_type": "code",
   "execution_count": 6,
   "id": "a953f71c-d8b5-450d-b8f9-fd5f3d91b46d",
   "metadata": {},
   "outputs": [],
   "source": [
    "# 4.4.13"
   ]
  },
  {
   "cell_type": "code",
   "execution_count": null,
   "id": "f5024380-65e6-465f-bf3e-981de623f272",
   "metadata": {},
   "outputs": [],
   "source": [
    "import csv\n",
    "import json\n",
    "\n",
    "result = {}\n",
    "with open('exam_results.csv', encoding='utf-8') as ex_r:\n",
    "    rows = csv.DictReader(ex_r)\n",
    "    for row in rows:\n",
    "        row['best_score'] = int(row.pop('score'))\n",
    "        r = result.get(row['email'], row)\n",
    "        best_row = max(r, row, key=lambda item: (item['best_score'], item['date_and_time']))\n",
    "        result[row['email']] = best_row \n",
    "\n",
    "with open('best_scores.json', 'w', encoding='utf-8') as bs:\n",
    "    out = sorted(result.values(), key=lambda item: item['email']) \n",
    "    json.dump(out, bs, indent=3)"
   ]
  },
  {
   "cell_type": "code",
   "execution_count": 7,
   "id": "5b632ae9-082f-47ae-aba8-4255092e1cd8",
   "metadata": {},
   "outputs": [],
   "source": [
    "# 4.4.14"
   ]
  },
  {
   "cell_type": "code",
   "execution_count": null,
   "id": "3e62f7ea-dff1-4b91-a786-f8f24244e7ec",
   "metadata": {},
   "outputs": [],
   "source": [
    "import json, csv\n",
    "from datetime import datetime\n",
    "\n",
    "with open('food_services.json', 'r', encoding='utf-8') as file:\n",
    "    l = list(json.load(file))\n",
    "d1, d2 = {}, {} #d1 для районов, d2 для сети\n",
    "for i in l:\n",
    "    d1[i['District']] = d1.get(i['District'], 0)+1\n",
    "    if i['OperatingCompany']:\n",
    "        d2[i['OperatingCompany']] = d2.get(i['OperatingCompany'], 0)+1\n",
    "\n",
    "x1 = max(d1.items(), key=lambda x: x[1])\n",
    "x2 = max(d2.items(), key=lambda x: x[1])\n",
    "\n",
    "print(f'{x1[0]}: {x1[1]}')\n",
    "print(f'{x2[0]}: {x2[1]}')"
   ]
  },
  {
   "cell_type": "code",
   "execution_count": 8,
   "id": "c8bf7f40-158c-4a35-a49a-ddcdb126cffb",
   "metadata": {},
   "outputs": [],
   "source": [
    "# 4.4.15"
   ]
  },
  {
   "cell_type": "code",
   "execution_count": null,
   "id": "407cb86f-63f0-4999-ae55-8c608d674282",
   "metadata": {},
   "outputs": [],
   "source": [
    "import json\n",
    "\n",
    "with open('food_services.json', 'r', encoding='utf-8') as f1:\n",
    "    data = json.load(f1)\n",
    "    d = {i['TypeObject']: f\"{i['Name']}, {i['SeatsCount']}\" for i\n",
    "         in sorted(data, key=lambda x:(x['TypeObject'], x['SeatsCount']))}\n",
    "    for item in d.items():\n",
    "        print(f'{item[0]}: {item[1]}')"
   ]
  }
 ],
 "metadata": {
  "kernelspec": {
   "display_name": "Python 3 (ipykernel)",
   "language": "python",
   "name": "python3"
  },
  "language_info": {
   "codemirror_mode": {
    "name": "ipython",
    "version": 3
   },
   "file_extension": ".py",
   "mimetype": "text/x-python",
   "name": "python",
   "nbconvert_exporter": "python",
   "pygments_lexer": "ipython3",
   "version": "3.11.6"
  }
 },
 "nbformat": 4,
 "nbformat_minor": 5
}
