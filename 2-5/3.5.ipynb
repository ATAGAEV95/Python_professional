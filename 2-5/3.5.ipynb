{
 "cells": [
  {
   "cell_type": "code",
   "execution_count": 1,
   "id": "596f9677-608a-4739-b8df-3fb3ce359846",
   "metadata": {},
   "outputs": [],
   "source": [
    "# 3.5.1"
   ]
  },
  {
   "cell_type": "code",
   "execution_count": 17,
   "id": "eb4d498a-5453-4fc2-83f3-4514d4a8ca60",
   "metadata": {},
   "outputs": [
    {
     "name": "stdout",
     "output_type": "stream",
     "text": [
      "545\n"
     ]
    }
   ],
   "source": [
    "from datetime import date, time, datetime, timedelta\n",
    "\n",
    "data = [('07:14', '08:46'), ('09:01', '09:37'), ('10:00', '11:43'), ('12:13', '13:49'),\n",
    "        ('15:00', '15:19'), ('15:58', '17:24'), ('17:57', '19:21'), ('19:30', '19:59')]\n",
    "\n",
    "lst = sum(list(map(lambda x: (datetime.strptime(x[1], '%H:%M') - datetime.strptime(x[0], '%H:%M'))\n",
    "                   .total_seconds() / 60, data)))\n",
    "print(int(lst))"
   ]
  },
  {
   "cell_type": "code",
   "execution_count": 18,
   "id": "91450760-b1d5-48c3-9d89-db082ea92cd9",
   "metadata": {},
   "outputs": [],
   "source": [
    "# 3.5.2"
   ]
  },
  {
   "cell_type": "code",
   "execution_count": 25,
   "id": "6e4ae888-eebf-42a0-923d-2a9aad210c80",
   "metadata": {},
   "outputs": [
    {
     "name": "stdout",
     "output_type": "stream",
     "text": [
      "17123\n",
      "17124\n",
      "17173\n",
      "17097\n",
      "17199\n",
      "17099\n",
      "17173\n"
     ]
    }
   ],
   "source": [
    "from datetime import date\n",
    "\n",
    "def count_fridays_13():\n",
    "    count = [0] * 7  \n",
    "    for year in range(1, 10000):\n",
    "        for month in range(1, 13):\n",
    "            day_of_week = date(year, month, 13).weekday()\n",
    "            count[day_of_week] += 1 \n",
    "    return count\n",
    "\n",
    "result = count_fridays_13()\n",
    "print(*result, sep='\\n')"
   ]
  },
  {
   "cell_type": "code",
   "execution_count": 26,
   "id": "78f08194-4da7-456b-b225-40850e0d7e51",
   "metadata": {},
   "outputs": [],
   "source": [
    "# 3.5.3"
   ]
  },
  {
   "cell_type": "code",
   "execution_count": 75,
   "id": "4ecc79c9-232b-4936-b426-04e89a11e8c7",
   "metadata": {},
   "outputs": [
    {
     "name": "stdin",
     "output_type": "stream",
     "text": [
      " 01.11.2021 20:45\n"
     ]
    },
    {
     "name": "stdout",
     "output_type": "stream",
     "text": [
      "15\n"
     ]
    }
   ],
   "source": [
    "from datetime import date, time, datetime, timedelta\n",
    "\n",
    "dt = datetime.strptime(input(), '%d.%m.%Y %H:%M')\n",
    "if dt.weekday() in [5, 6]:\n",
    "    s = (timedelta(hours=18, minutes=0) - timedelta(hours=dt.hour, minutes=dt.minute)).total_seconds()\n",
    "else:\n",
    "    s = (timedelta(hours=21, minutes=0) - timedelta(hours=dt.hour, minutes=dt.minute)).total_seconds()\n",
    "\n",
    "if (s > 0 and (s / 60) <= 480 and dt.weekday() in [5, 6]) or (s > 0 and (s / 60) <= 720):\n",
    "    print(int(s / 60))\n",
    "else:\n",
    "    print('Магазин не работает')"
   ]
  },
  {
   "cell_type": "code",
   "execution_count": 76,
   "id": "7dc59f31-1f1b-48e1-bae0-a136503416ce",
   "metadata": {},
   "outputs": [],
   "source": [
    "# 3.5.4"
   ]
  },
  {
   "cell_type": "code",
   "execution_count": 29,
   "id": "416bd347-4f5d-4c9f-a70b-bca96ac9d130",
   "metadata": {
    "scrolled": true
   },
   "outputs": [
    {
     "name": "stdout",
     "output_type": "stream",
     "text": [
      "02.11.2021\n",
      "05.11.2021\n"
     ]
    }
   ],
   "source": [
    "from datetime import date, time, datetime, timedelta\n",
    "\n",
    "start, end = datetime.strptime(input(), '%d.%m.%Y').date(), datetime.strptime(input(), '%d.%m.%Y').date()\n",
    "\n",
    "while (start.day + start.month) % 2 == 0:\n",
    "    start += timedelta(days=1)\n",
    "\n",
    "while start <= end:\n",
    "    if start.weekday() not in [0, 3]:\n",
    "        print(start.strftime('%d.%m.%Y'))\n",
    "    start += timedelta(days=3)"
   ]
  },
  {
   "cell_type": "code",
   "execution_count": 30,
   "id": "14872d2b-81c4-4bc0-aca5-9e3ca9c2ce29",
   "metadata": {},
   "outputs": [],
   "source": [
    "# 3.5.5"
   ]
  },
  {
   "cell_type": "code",
   "execution_count": 31,
   "id": "cb7b31d7-3407-4305-997e-279660c830c1",
   "metadata": {},
   "outputs": [
    {
     "name": "stdin",
     "output_type": "stream",
     "text": [
      " Иван Петров 01.05.1995\n"
     ]
    }
   ],
   "source": [
    "from datetime import  datetime\n",
    " \n",
    "lst = [input().split()  for _ in range(int(input()))]\n",
    "dt =  sorted(lst ,key= lambda x: datetime.strptime(x[2],'%d.%m.%Y'))\n",
    "cnt = len(list( filter(lambda x: x[2] == dt[0][2], dt )))\n",
    "print(dt[0][2], dt[0][0], dt[0][1]) if cnt == 1 else print(dt[0][2], cnt)"
   ]
  },
  {
   "cell_type": "code",
   "execution_count": 32,
   "id": "32640506-1c5d-41ea-b5b0-07e63a9db8ef",
   "metadata": {},
   "outputs": [],
   "source": [
    "# 3.5.6"
   ]
  },
  {
   "cell_type": "code",
   "execution_count": null,
   "id": "7973c4c1-0329-4eec-a4b8-07a8360e899d",
   "metadata": {},
   "outputs": [],
   "source": [
    "from datetime import datetime\n",
    "\n",
    "lst = [input() for _ in range(int(input()))]\n",
    "\n",
    "dct = {}\n",
    "for i in lst:\n",
    "    name, dt = i.rsplit(' ', 1)\n",
    "    dct[dt] = dct.get(dt, 0) + 1\n",
    "\n",
    "max_val = max(dct.values())\n",
    "result = [key for key, value in dct.items() if value == max_val]\n",
    "result.sort(key=lambda date_str: datetime.strptime(date_str, '%d.%m.%Y'))\n",
    "\n",
    "print(*result, sep='\\n')"
   ]
  },
  {
   "cell_type": "code",
   "execution_count": null,
   "id": "166bda76-d3d9-4b81-bf96-5d7665c734e7",
   "metadata": {},
   "outputs": [],
   "source": [
    "# 3.5.7"
   ]
  },
  {
   "cell_type": "code",
   "execution_count": null,
   "id": "bbf4da43-030b-4158-a106-f8fb5596f766",
   "metadata": {},
   "outputs": [],
   "source": [
    "from datetime import datetime,date, time, timedelta\n",
    "\n",
    "\n",
    "p = '%d.%m.%Y'\n",
    "d = datetime.strptime(input(), p)\n",
    "\n",
    "dic = {k: datetime.strptime(v, p)  for k, v in [input().rsplit(' ',1) for _ in range(int(input()))]}\n",
    "print(dic)\n",
    "\n",
    "rez = {k: v  for i in range(1, 8) for k, v in dic.items() if d + timedelta(days = i) == v.replace(year = d.year) \n",
    "     or d + timedelta(days = i) == v.replace(year = d.year + 1)}\n",
    "print(rez)\n",
    "print(sorted(rez.items(), key=lambda s: s[1], reverse=True)[0][0] if len(rez) > 0 else 'Дни рождения не планируются')"
   ]
  },
  {
   "cell_type": "code",
   "execution_count": null,
   "id": "3b95e75f-4446-4175-8b65-ca0a23ac9c25",
   "metadata": {},
   "outputs": [],
   "source": [
    "# 3.5.8"
   ]
  },
  {
   "cell_type": "code",
   "execution_count": 48,
   "id": "c4b38bd1-e8a3-4521-8bc3-51451557ed39",
   "metadata": {},
   "outputs": [
    {
     "name": "stdout",
     "output_type": "stream",
     "text": [
      "До выхода курса осталось: 357 дней и 5 часов\n"
     ]
    }
   ],
   "source": [
    "from datetime import datetime\n",
    "\n",
    "def choose_plural(amount, singular, plural_2_4, plural_5_0):\n",
    "    if 11 <= amount % 100 <= 19:\n",
    "        return plural_5_0\n",
    "    elif amount % 10 == 1:\n",
    "        return singular\n",
    "    elif 2 <= amount % 10 <= 4:\n",
    "        return plural_2_4\n",
    "    else:\n",
    "        return plural_5_0\n",
    "\n",
    "def time_until_course_release(current_datetime_str):\n",
    "    release_datetime = datetime.strptime(\"08.11.2022 12:00\", \"%d.%m.%Y %H:%M\")\n",
    "    current_datetime = datetime.strptime(current_datetime_str, \"%d.%m.%Y %H:%M\")\n",
    "    delta = release_datetime - current_datetime\n",
    "    if delta.total_seconds() <= 0:\n",
    "        return \"Курс уже вышел!\"\n",
    "    days = delta.days\n",
    "    hours, remainder = divmod(delta.seconds, 3600)\n",
    "    minutes = remainder // 60\n",
    "    result = \"До выхода курса осталось: \"\n",
    "    \n",
    "    if days > 0:\n",
    "        result += f\"{days} {choose_plural(days, 'день', 'дня', 'дней')}\"\n",
    "        if hours > 0:\n",
    "            result += f\" и {hours} {choose_plural(hours, 'час', 'часа', 'часов')}\"\n",
    "    elif hours > 0:\n",
    "        result += f\"{hours} {choose_plural(hours, 'час', 'часа', 'часов')}\"\n",
    "        if minutes > 0:\n",
    "            result += f\" и {minutes} {choose_plural(minutes, 'минута', 'минуты', 'минут')}\"\n",
    "    else:\n",
    "        result += f\"{minutes} {choose_plural(minutes, 'минута', 'минуты', 'минут')}\"\n",
    "    \n",
    "    return result\n",
    "\n",
    "print(time_until_course_release(\"16.11.2021 06:30\"))"
   ]
  },
  {
   "cell_type": "code",
   "execution_count": null,
   "id": "5e90f3bd-420a-4c38-a389-29aba26d64de",
   "metadata": {},
   "outputs": [],
   "source": []
  }
 ],
 "metadata": {
  "kernelspec": {
   "display_name": "Python 3 (ipykernel)",
   "language": "python",
   "name": "python3"
  },
  "language_info": {
   "codemirror_mode": {
    "name": "ipython",
    "version": 3
   },
   "file_extension": ".py",
   "mimetype": "text/x-python",
   "name": "python",
   "nbconvert_exporter": "python",
   "pygments_lexer": "ipython3",
   "version": "3.11.6"
  }
 },
 "nbformat": 4,
 "nbformat_minor": 5
}
