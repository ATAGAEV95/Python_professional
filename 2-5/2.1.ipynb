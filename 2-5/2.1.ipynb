{
 "cells": [
  {
   "cell_type": "code",
   "execution_count": 2,
   "id": "e12059c6-2589-45c3-a060-7fd54e8080c2",
   "metadata": {},
   "outputs": [],
   "source": [
    "# 2.1.6"
   ]
  },
  {
   "cell_type": "code",
   "execution_count": 4,
   "id": "650d9d2e-94a8-415a-8bdd-b3141cd23d84",
   "metadata": {},
   "outputs": [
    {
     "name": "stdout",
     "output_type": "stream",
     "text": [
      "[]\n",
      "[6, 0, 10, -20]\n"
     ]
    }
   ],
   "source": [
    "def same_parity(lst):\n",
    "    s = list(filter(lambda x: x % 2 == lst[0] % 2, lst))\n",
    "    return s\n",
    "\n",
    "print(same_parity([]))\n",
    "print(same_parity([6, 0, 67, -7, 10, -20]))"
   ]
  },
  {
   "cell_type": "code",
   "execution_count": 5,
   "id": "3e6d7a22-542e-48ad-b1dc-28017ac80cf6",
   "metadata": {},
   "outputs": [],
   "source": [
    "# 2.1.7"
   ]
  },
  {
   "cell_type": "code",
   "execution_count": 26,
   "id": "c3b03d59-84ee-43ce-9707-5288ed53c438",
   "metadata": {},
   "outputs": [
    {
     "name": "stdout",
     "output_type": "stream",
     "text": [
      "False\n",
      "False\n",
      "False\n",
      "False\n"
     ]
    }
   ],
   "source": [
    "def is_valid(string):\n",
    "    if len(string) < 4 or len(string) > 7:\n",
    "        return False\n",
    "    return all(map(lambda x: x.isdigit(), string))\n",
    "\n",
    "print(is_valid('433'))\n",
    "print(is_valid('89abc1'))\n",
    "print(is_valid('49 83'))\n",
    "print(is_valid('4323423424467'))"
   ]
  },
  {
   "cell_type": "code",
   "execution_count": 27,
   "id": "8b87d07b-8345-40f0-8efc-b8b3fb9ace3a",
   "metadata": {},
   "outputs": [],
   "source": [
    "# 2.1.8"
   ]
  },
  {
   "cell_type": "code",
   "execution_count": 34,
   "id": "33a127b0-f442-4c49-bd9d-86bfeac66be5",
   "metadata": {},
   "outputs": [
    {
     "name": "stdout",
     "output_type": "stream",
     "text": [
      "a 1 <class 'int'>\n",
      "b 2 <class 'int'>\n",
      "c 3 <class 'int'>\n",
      "d 4 <class 'int'>\n"
     ]
    }
   ],
   "source": [
    "def print_given(*args, **kwargs):\n",
    "    for arg in args:\n",
    "        print(arg, type(arg))\n",
    "    for key, value in sorted(kwargs.items()):\n",
    "        print(key, value, type(value))\n",
    "\n",
    "\n",
    "print_given(b=2, d=4, c=3, a=1)"
   ]
  },
  {
   "cell_type": "code",
   "execution_count": 35,
   "id": "0465505e-0df7-4430-9726-85f12efaac94",
   "metadata": {},
   "outputs": [],
   "source": [
    "# 2.1.9"
   ]
  },
  {
   "cell_type": "code",
   "execution_count": 68,
   "id": "4547ff86-e432-4dfa-8934-7e4957f83da9",
   "metadata": {},
   "outputs": [
    {
     "name": "stdout",
     "output_type": "stream",
     "text": [
      "beegeek\n",
      "PYTHON\n",
      "pi31415!\n"
     ]
    }
   ],
   "source": [
    "def convert(string):\n",
    "    low = sum(1 for c in string if c.islower())\n",
    "    up = sum(1 for c in string if c.isupper())\n",
    "    return string.lower() if low >= up else string.upper()\n",
    "    \n",
    "print(convert('BEEgeek'))\n",
    "print(convert('pyTHON'))\n",
    "print(convert('pi31415!'))"
   ]
  },
  {
   "cell_type": "code",
   "execution_count": 49,
   "id": "75d7730a-4aa0-4ba9-b0d8-67568f207602",
   "metadata": {},
   "outputs": [],
   "source": [
    "# 2.1.10"
   ]
  },
  {
   "cell_type": "code",
   "execution_count": 1,
   "id": "0774c0ed-ba9f-42fe-b338-a9eab846bd85",
   "metadata": {},
   "outputs": [
    {
     "name": "stdout",
     "output_type": "stream",
     "text": [
      "['сеточка', 'стоечка', 'тесачок', 'чесотка']\n",
      "['iamlordvoldemort']\n",
      "[]\n"
     ]
    }
   ],
   "source": [
    "def filter_anagrams(word, anagrams):\n",
    "    return list(filter(lambda x: sorted(x) == sorted(word), anagrams))\n",
    "\n",
    "print(filter_anagrams('отсечка', ['сеточка', 'стоечка', 'тесачок', 'чесотка']))\n",
    "print(filter_anagrams('tommarvoloriddle', ['iamlordvoldemort', 'iamdevolremort', 'mortmortmortmort', 'remortvolremort']))\n",
    "print(filter_anagrams('стекло', []))"
   ]
  },
  {
   "cell_type": "code",
   "execution_count": 72,
   "id": "d592ae76-4a8a-4288-ae7e-5d4bce3daeb5",
   "metadata": {},
   "outputs": [],
   "source": [
    "# 2.1.11"
   ]
  },
  {
   "cell_type": "code",
   "execution_count": 83,
   "id": "edf5589b-8c27-44c5-891c-2e69de09a2ff",
   "metadata": {},
   "outputs": [
    {
     "name": "stdout",
     "output_type": "stream",
     "text": [
      "Никто не оценил данную запись\n",
      "Тимур оценил(а) данную запись\n",
      "Тимур и Артур оценили данную запись\n",
      "Тимур, Артур и Руслан оценили данную запись\n",
      "Тимур, Артур и 2 других оценили данную запись\n",
      "Тимур, Артур и 3 других оценили данную запись\n",
      "Тимур, Артур и 6 других оценили данную запись\n"
     ]
    }
   ],
   "source": [
    "def likes(users):\n",
    "    templates = [\n",
    "        \"'Никто не оценил данную запись'\",\n",
    "        \"f'{s[0]} оценил(а) данную запись'\",\n",
    "        \"f'{s[0]} и {s[1]} оценили данную запись'\",\n",
    "        \"f'{s[0]}, {s[1]} и {s[2]} оценили данную запись'\",\n",
    "        \"f'{s[0]}, {s[1]} и {len(s) - 2} других оценили данную запись'\"]\n",
    "    if not users:\n",
    "        return eval(templates[0])\n",
    "    s = users\n",
    "    index = min(len(s), len(templates) - 1)\n",
    "    return eval(templates[index])\n",
    "    \n",
    "\n",
    "print(likes([]))\n",
    "print(likes(['Тимур']))\n",
    "print(likes(['Тимур', 'Артур']))\n",
    "print(likes(['Тимур', 'Артур', 'Руслан']))\n",
    "print(likes(['Тимур', 'Артур', 'Руслан', 'Анри']))\n",
    "print(likes(['Тимур', 'Артур', 'Руслан', 'Анри', 'Дима']))\n",
    "print(likes(['Тимур', 'Артур', 'Руслан', 'Анри', 'Дима', 'Рома', 'Гвидо', 'Марк']))"
   ]
  },
  {
   "cell_type": "code",
   "execution_count": 85,
   "id": "6c66e097-ed3e-49bf-8fbb-43957b801612",
   "metadata": {},
   "outputs": [],
   "source": [
    "# 2.1.12"
   ]
  },
  {
   "cell_type": "code",
   "execution_count": 103,
   "id": "92bc21b0-c7fc-44f5-af91-259b16913c36",
   "metadata": {},
   "outputs": [
    {
     "name": "stdout",
     "output_type": "stream",
     "text": [
      "-1\n",
      "2\n",
      "1\n",
      "2\n"
     ]
    }
   ],
   "source": [
    "def index_of_nearest(lst, num):\n",
    "    return -1 if len(lst) == 0 else lst.index(min(lst, key=lambda i: abs(num - i)))\n",
    "\n",
    "print(index_of_nearest([], 17))\n",
    "print(index_of_nearest([7, 13, 3, 5, 18], 0))\n",
    "print(index_of_nearest([9, 5, 3, 2, 11], 4))\n",
    "print(index_of_nearest([7, 5, 4, 4, 3], 4))"
   ]
  },
  {
   "cell_type": "code",
   "execution_count": 104,
   "id": "77647066-b4bd-4b96-9a2c-550e70b7e1b2",
   "metadata": {},
   "outputs": [],
   "source": [
    "# 2.1.13"
   ]
  },
  {
   "cell_type": "code",
   "execution_count": 138,
   "id": "bc94ddb3-2872-4b18-81e6-ea37fbf68fb2",
   "metadata": {},
   "outputs": [
    {
     "name": "stdout",
     "output_type": "stream",
     "text": [
      "{'а': 9, 'к': 5, 'р': 7, 'у': 10}\n",
      "{'б': 8, 'и': 11, 'м': 10, 'х': 5}\n",
      "{'f': 8}\n"
     ]
    }
   ],
   "source": [
    "def spell(*words):\n",
    "    return dict(sorted(list(map(lambda x: (x.lower()[0], len(x)), words))))\n",
    "\n",
    "words = ['Россия', 'Австрия', 'Австралия', 'РумыниЯ', 'Украина', 'КИТай', 'УЗБЕКИСТАН']\n",
    "print(spell(*words))\n",
    "print(spell('Математика', 'История', 'химия', 'биология', 'Информатика'))\n",
    "words = ['fruit', 'football', 'February', 'forest', 'Family']\n",
    "print(spell(*words))"
   ]
  },
  {
   "cell_type": "code",
   "execution_count": 1,
   "id": "34e3eea8-67d7-44e0-a259-ffefffe74c3a",
   "metadata": {},
   "outputs": [],
   "source": [
    "# 2.1.14"
   ]
  },
  {
   "cell_type": "code",
   "execution_count": 21,
   "id": "8daab6fa-a37c-4da8-bb56-8149ce44b2a7",
   "metadata": {},
   "outputs": [
    {
     "name": "stdout",
     "output_type": "stream",
     "text": [
      "21 пример\n",
      "92 гвоздя\n",
      "8 яблок\n",
      "512312 центов\n",
      "11 стульев\n"
     ]
    }
   ],
   "source": [
    "def choose_plural(num, args):\n",
    "    if num % 10 == 1 and num % 100 != 11:\n",
    "        return f'{num} {args[0]}'\n",
    "    elif num % 10 in [2, 3, 4] and num % 100 not in [12, 13, 14]:\n",
    "        return f'{num} {args[1]}'\n",
    "    else:\n",
    "        return f'{num} {args[2]}'\n",
    "\n",
    "print(choose_plural(21, ('пример', 'примера', 'примеров')))\n",
    "print(choose_plural(92, ('гвоздь', 'гвоздя', 'гвоздей')))\n",
    "print(choose_plural(8, ('яблоко', 'яблока', 'яблок')))\n",
    "print(choose_plural(512312, ('цент', 'цента', 'центов')))\n",
    "print(choose_plural(11, ('стул', 'стула', 'стульев')))"
   ]
  },
  {
   "cell_type": "code",
   "execution_count": 23,
   "id": "6c686034-a4d9-4fd8-b4a0-ba6d31e7249d",
   "metadata": {},
   "outputs": [],
   "source": [
    "# 2.1.15"
   ]
  },
  {
   "cell_type": "code",
   "execution_count": 57,
   "id": "047e665d-89d8-443f-aa65-c7ace8a750cb",
   "metadata": {},
   "outputs": [
    {
     "name": "stdout",
     "output_type": "stream",
     "text": [
      "321\n",
      "961322811\n",
      "77271\n",
      "-1\n"
     ]
    }
   ],
   "source": [
    "def get_biggest(numbers):\n",
    "    if numbers:\n",
    "        numbers = list(map(str, numbers))\n",
    "        return int(''.join(sorted(numbers, key=lambda x: x * len(max(numbers, key=lambda i: len(i))), reverse=True)))\n",
    "    return -1\n",
    "\n",
    "print(get_biggest([1, 2, 3]))\n",
    "print(get_biggest([61, 228, 9, 3, 11]))\n",
    "print(get_biggest([7, 71, 72]))\n",
    "print(get_biggest([]))"
   ]
  },
  {
   "cell_type": "code",
   "execution_count": null,
   "id": "ebab48bb-052f-4461-98ef-eae54003107c",
   "metadata": {},
   "outputs": [],
   "source": []
  }
 ],
 "metadata": {
  "kernelspec": {
   "display_name": "Python 3 (ipykernel)",
   "language": "python",
   "name": "python3"
  },
  "language_info": {
   "codemirror_mode": {
    "name": "ipython",
    "version": 3
   },
   "file_extension": ".py",
   "mimetype": "text/x-python",
   "name": "python",
   "nbconvert_exporter": "python",
   "pygments_lexer": "ipython3",
   "version": "3.11.6"
  }
 },
 "nbformat": 4,
 "nbformat_minor": 5
}
