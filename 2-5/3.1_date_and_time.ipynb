{
 "cells": [
  {
   "cell_type": "code",
   "execution_count": null,
   "id": "34279a41-3cad-45b7-906b-a25ecc94ed73",
   "metadata": {},
   "outputs": [],
   "source": [
    "# 3.1.19"
   ]
  },
  {
   "cell_type": "code",
   "execution_count": 13,
   "id": "3cd0d31c-6677-4f25-8ad4-e92e461e5806",
   "metadata": {},
   "outputs": [],
   "source": [
    "from datetime import date\n",
    "\n",
    "dates = [date(2010, 9, 28), date(2017, 1, 13), date(2009, 12, 25), date(2010, 2, 27), date(2021, 10, 11), date(2020, 3, 13), date(2000, 7, 7), date(1999, 4, 14), date(1789, 11, 19), date(2013, 8, 21), date(1666, 6, 6), date(1968, 5, 26)]\n",
    "quaters = {1:'Q1', 2:'Q1', 3:'Q1', 4:'Q2', 5:'Q2', 6:'Q2', 7:'Q3', 8:'Q3', 9:'Q3', 10:'Q4', 11:'Q4', 12:'Q4'}\n",
    "\n",
    "for i in dates:\n",
    "    print(f'{i.year}-{quaters.get(i.month)}')"
   ]
  },
  {
   "cell_type": "code",
   "execution_count": 26,
   "id": "5f34956a-c2b2-4009-b19c-d422d7ca2a3b",
   "metadata": {},
   "outputs": [],
   "source": [
    "# 3.1.20"
   ]
  },
  {
   "cell_type": "code",
   "execution_count": 34,
   "id": "e98a9750-b59b-44f0-845f-371f5b7c39b3",
   "metadata": {},
   "outputs": [
    {
     "name": "stdout",
     "output_type": "stream",
     "text": [
      "(datetime.date(1992, 6, 10), datetime.date(2021, 10, 5))\n",
      "()\n"
     ]
    }
   ],
   "source": [
    "def get_min_max(dates):\n",
    "    if not dates:\n",
    "        return ()\n",
    "    return min(dates), max(dates)\n",
    "\n",
    "dates = [date(2021, 10, 5), date(1992, 6, 10), date(2012, 2, 23), date(1995, 10, 12)]\n",
    "print(get_min_max(dates))\n",
    "print(get_min_max([]))"
   ]
  },
  {
   "cell_type": "code",
   "execution_count": 35,
   "id": "989d4101-21f3-4c2f-a46d-175fee908e11",
   "metadata": {},
   "outputs": [],
   "source": [
    "# 3.1.21"
   ]
  },
  {
   "cell_type": "code",
   "execution_count": 44,
   "id": "56ea2802-024a-498d-aace-86d760cfde7c",
   "metadata": {},
   "outputs": [
    {
     "name": "stdout",
     "output_type": "stream",
     "text": [
      "2021-10-01\n",
      "2021-10-02\n",
      "2021-10-03\n",
      "2021-10-04\n",
      "2021-10-05\n"
     ]
    }
   ],
   "source": [
    "def get_date_range(start, end):\n",
    "    lst = []\n",
    "    while start <= end:\n",
    "        lst.append(start)\n",
    "        start += timedelta(days=1)\n",
    "    return lst\n",
    "        \n",
    "date1 = date(2021, 10, 1)\n",
    "date2 = date(2021, 10, 5)\n",
    "print(*get_date_range(date1, date2), sep='\\n')"
   ]
  },
  {
   "cell_type": "code",
   "execution_count": 43,
   "id": "afd20a50-2c32-4bdb-b03f-3a0143cf6b26",
   "metadata": {},
   "outputs": [],
   "source": [
    "# 3.1.22"
   ]
  },
  {
   "cell_type": "code",
   "execution_count": 57,
   "id": "f209e143-1c04-4ed1-ae75-5c21ac555d86",
   "metadata": {},
   "outputs": [
    {
     "name": "stdout",
     "output_type": "stream",
     "text": [
      "3\n",
      "4\n",
      "0\n"
     ]
    }
   ],
   "source": [
    "def saturdays_between_two_dates(start, end):\n",
    "    lst = []\n",
    "    start, end = (end, start) if start > end else (start, end)\n",
    "    while start <= end:\n",
    "        lst.append(start.weekday())\n",
    "        start += timedelta(days=1)\n",
    "    return sum((map(lambda x: 1 if x == 5 else 0, lst)))\n",
    "\n",
    "date1 = date(2021, 11, 1)\n",
    "date2 = date(2021, 11, 22)\n",
    "print(saturdays_between_two_dates(date1, date2))\n",
    "date1 = date(2020, 7, 26)\n",
    "date2 = date(2020, 7, 2)\n",
    "print(saturdays_between_two_dates(date1, date2))\n",
    "date1 = date(2018, 7, 13)\n",
    "date2 = date(2018, 7, 13)\n",
    "print(saturdays_between_two_dates(date1, date2))"
   ]
  },
  {
   "cell_type": "code",
   "execution_count": null,
   "id": "366b297b-3a9a-43e8-80eb-c610f1481b27",
   "metadata": {},
   "outputs": [],
   "source": []
  }
 ],
 "metadata": {
  "kernelspec": {
   "display_name": "Python 3 (ipykernel)",
   "language": "python",
   "name": "python3"
  },
  "language_info": {
   "codemirror_mode": {
    "name": "ipython",
    "version": 3
   },
   "file_extension": ".py",
   "mimetype": "text/x-python",
   "name": "python",
   "nbconvert_exporter": "python",
   "pygments_lexer": "ipython3",
   "version": "3.11.6"
  }
 },
 "nbformat": 4,
 "nbformat_minor": 5
}
