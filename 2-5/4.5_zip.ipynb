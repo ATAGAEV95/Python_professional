{
 "cells": [
  {
   "cell_type": "code",
   "execution_count": 8,
   "id": "1d0193f6-5b36-4399-b2bd-d421aa74fefb",
   "metadata": {},
   "outputs": [],
   "source": [
    "# 4.5.14"
   ]
  },
  {
   "cell_type": "code",
   "execution_count": 16,
   "id": "9b8edd1e-812e-4082-8b20-b0b0f2db6f31",
   "metadata": {},
   "outputs": [
    {
     "name": "stdout",
     "output_type": "stream",
     "text": [
      "18\n"
     ]
    }
   ],
   "source": [
    "from zipfile import ZipFile\n",
    "\n",
    "with ZipFile('workbook.zip') as zip_file:\n",
    "    info = zip_file.infolist()\n",
    "    file_count = sum(1 for item in info if not item.is_dir())\n",
    "    print(file_count)"
   ]
  },
  {
   "cell_type": "code",
   "execution_count": null,
   "id": "fcf26777-e70b-4166-867e-e7b9f6bbe964",
   "metadata": {},
   "outputs": [],
   "source": [
    "# 4.5.15"
   ]
  },
  {
   "cell_type": "code",
   "execution_count": 29,
   "id": "de552b1b-196a-4781-96a1-82d4669abe0f",
   "metadata": {},
   "outputs": [
    {
     "name": "stdout",
     "output_type": "stream",
     "text": [
      "Объем исходных файлов: 17118701 байт(а)\n",
      "Объем сжатых файлов: 15693720 байт(а)\n"
     ]
    }
   ],
   "source": [
    "from zipfile import ZipFile\n",
    "\n",
    "with ZipFile('workbook.zip') as zip_file:\n",
    "    info = zip_file.infolist()\n",
    "    f = sum([file.file_size for file in info if not file.is_dir()])\n",
    "    c = sum([file.compress_size for file in info if not file.is_dir()])\n",
    "    print(f'Объем исходных файлов: {f} байт(а)')\n",
    "    print(f'Объем сжатых файлов: {c} байт(а)')"
   ]
  },
  {
   "cell_type": "code",
   "execution_count": 30,
   "id": "25ef8218-66b3-4b78-a93a-2958f1e1a12f",
   "metadata": {},
   "outputs": [],
   "source": [
    "# 4.5.16"
   ]
  },
  {
   "cell_type": "code",
   "execution_count": 51,
   "id": "e22509c3-30c8-4a5c-812a-27c9c5372346",
   "metadata": {},
   "outputs": [
    {
     "name": "stdout",
     "output_type": "stream",
     "text": [
      "fontlist-v330.json\n"
     ]
    }
   ],
   "source": [
    "from zipfile import ZipFile\n",
    "\n",
    "with ZipFile('workbook.zip') as zip_file:\n",
    "    info = zip_file.infolist()\n",
    "    dst = {file.filename.split(\"/\")[-1]: [file.compress_size / file.file_size * 100]  for file in info if not file.is_dir()}\n",
    "    \n",
    "print(min(dst, key=dst.get))"
   ]
  },
  {
   "cell_type": "code",
   "execution_count": 52,
   "id": "f0b1cb68-e97b-4322-aa29-fd47b97e6114",
   "metadata": {},
   "outputs": [],
   "source": [
    "# 4.5.17"
   ]
  },
  {
   "cell_type": "code",
   "execution_count": null,
   "id": "4eca4c59-bc88-442f-82c4-b63928befd2d",
   "metadata": {},
   "outputs": [],
   "source": [
    "from zipfile import ZipFile\n",
    "\n",
    "with ZipFile('workbook.zip') as zip_file:\n",
    "    files = []\n",
    "    for obj in zip_file.infolist():\n",
    "        if not obj.is_dir() and obj.date_time > (2021, 11, 30, 14, 22, 00):\n",
    "            files.append(obj.filename.split('/')[-1])\n",
    "\n",
    "print(*sorted(files), sep='\\n')"
   ]
  },
  {
   "cell_type": "code",
   "execution_count": 52,
   "id": "413463a0-327c-4415-b810-f56c1f1f293b",
   "metadata": {},
   "outputs": [],
   "source": [
    "# 4.5.18"
   ]
  },
  {
   "cell_type": "code",
   "execution_count": null,
   "id": "eb796a5c-a807-4856-9686-862c7d25c9f0",
   "metadata": {},
   "outputs": [],
   "source": [
    "from zipfile import ZipFile, ZipInfo\n",
    "from datetime import datetime\n",
    "\n",
    "def about_file(file: ZipInfo):\n",
    "    return \"\\n\".join((\n",
    "        f\"{file.filename.split('/')[-1]}\",\n",
    "        f\"  Дата модификации файла: {datetime(*file.date_time)}\",\n",
    "        f\"  Объем исходного файла: {file.file_size} байт(а)\",\n",
    "        f\"  Объем сжатого файла: {file.compress_size} байт(а)\"\n",
    "    ))\n",
    "\n",
    "with ZipFile(\"workbook.zip\", \"r\") as zip_file:\n",
    "    data = [about_file(file) for file in zip_file.infolist() if not file.is_dir()]\n",
    "    print(*sorted(data), sep=\"\\n\\n\")"
   ]
  },
  {
   "cell_type": "code",
   "execution_count": 1,
   "id": "628aa6dc-670e-4d12-890a-31f093701480",
   "metadata": {},
   "outputs": [],
   "source": [
    "# 4.5.19"
   ]
  },
  {
   "cell_type": "code",
   "execution_count": null,
   "id": "8ace4f6f-baf7-474f-940f-dbc745794b24",
   "metadata": {},
   "outputs": [],
   "source": [
    "from zipfile import ZipFile\n",
    "\n",
    "file_names = ['how to prove.pdf', 'fipi_demo_2022.pdf', 'Hollow Knight Silksong.exe',\n",
    "              'code.jpeg', 'stepik.png', 'readme.txt', 'shopping_list.txt',\n",
    "              'Alexandra Savior – Crying All the Time.mp3', 'homework.py', 'test.py']\n",
    "\n",
    "with ZipFile('files.zip', 'w') as archive:\n",
    "    for file in file_names:\n",
    "        archive.write(file)"
   ]
  },
  {
   "cell_type": "code",
   "execution_count": 2,
   "id": "5f122e9e-6dc5-4e8a-90b1-11d17a100d02",
   "metadata": {},
   "outputs": [],
   "source": [
    "# 4.5.20"
   ]
  },
  {
   "cell_type": "code",
   "execution_count": null,
   "id": "4a66c8a1-eebb-4af2-b23e-72da61f52cc4",
   "metadata": {},
   "outputs": [],
   "source": [
    "from zipfile import ZipFile\n",
    "\n",
    "file_names = ['how to prove.pdf', 'fipi_demo_2022.pdf', 'Hollow Knight Silksong.exe',\n",
    "              'code.jpeg', 'stepik.png', 'readme.txt', 'shopping_list.txt',\n",
    "              'Alexandra Savior – Crying All the Time.mp3', 'homework.py','test.py']\n",
    "\n",
    "with ZipFile(\"files.zip\", \"a\") as zip_file:\n",
    "    for filename in file_names:\n",
    "        with open(filename, \"rb\") as file:\n",
    "            if len(file.read()) <= 100:\n",
    "                zip_file.write(filename)"
   ]
  },
  {
   "cell_type": "code",
   "execution_count": 3,
   "id": "e99e48ca-7dcd-4b91-8ec7-a96a50680088",
   "metadata": {},
   "outputs": [],
   "source": [
    "# 4.5.21"
   ]
  },
  {
   "cell_type": "code",
   "execution_count": null,
   "id": "6f05efff-33f5-40f7-a7fa-4ebf4d6d4a95",
   "metadata": {},
   "outputs": [],
   "source": [
    "from zipfile import ZipFile\n",
    "\n",
    "def extract_this(zip_name, *args):\n",
    "    with ZipFile(zip_name) as zip_file:\n",
    "        if args:\n",
    "            return [zip_file.extract(agr) for agr in args]\n",
    "        return zip_file.extractall()"
   ]
  },
  {
   "cell_type": "code",
   "execution_count": 4,
   "id": "7947bd87-2a78-4b96-be7d-6ee8b3ffbedc",
   "metadata": {},
   "outputs": [],
   "source": [
    "# 4.5.22"
   ]
  },
  {
   "cell_type": "code",
   "execution_count": null,
   "id": "b5a8e88d-4beb-4c76-91e3-bb083c97d6cf",
   "metadata": {},
   "outputs": [],
   "source": [
    "from zipfile import ZipFile\n",
    "import json\n",
    "\n",
    "def is_correct_json(string: any) -> bool:\n",
    "    try:\n",
    "        json.loads(string.decode('utf-8'))\n",
    "        return True\n",
    "    except:\n",
    "        return False\n",
    "\n",
    "with ZipFile('data.zip') as zp:\n",
    "    arsenal_team = []\n",
    "    for name in zp.namelist():\n",
    "        with zp.open(name) as f:\n",
    "            json_in = f.read()\n",
    "            if is_correct_json(json_in):\n",
    "                football_teams = json.loads(json_in)\n",
    "                if football_teams['team'] == 'Arsenal':\n",
    "                    arsenal_team.append(f\"{football_teams['first_name']} {football_teams['last_name']}\")\n",
    "    print(*sorted(arsenal_team), sep='\\n')"
   ]
  },
  {
   "cell_type": "code",
   "execution_count": 4,
   "id": "601b4616-a29c-4071-a841-c4b560d3cdeb",
   "metadata": {},
   "outputs": [],
   "source": [
    "# 4.5.23"
   ]
  },
  {
   "cell_type": "code",
   "execution_count": null,
   "id": "70e3ce62-0b8e-4b16-b8df-85dafeb7ea27",
   "metadata": {},
   "outputs": [],
   "source": [
    "def size(byt: int):\n",
    "    d = {1024 ** 3: 'GB', 1024 ** 2: 'MB', 1024: 'KB', 1: 'B'}\n",
    "    for key, val in d.items():\n",
    "        if byt > key:\n",
    "            return round(byt / key), val\n",
    "\n",
    "with __import__('zipfile').ZipFile('desktop.zip') as zip_file:\n",
    "    for i in zip_file.infolist():\n",
    "        p = i.filename.rstrip('/').split('/')\n",
    "        print(f\"{'  ' * (len(p) - 1)}{p[-1]}\", *size(i.file_size) or '')"
   ]
  }
 ],
 "metadata": {
  "kernelspec": {
   "display_name": "Python 3 (ipykernel)",
   "language": "python",
   "name": "python3"
  },
  "language_info": {
   "codemirror_mode": {
    "name": "ipython",
    "version": 3
   },
   "file_extension": ".py",
   "mimetype": "text/x-python",
   "name": "python",
   "nbconvert_exporter": "python",
   "pygments_lexer": "ipython3",
   "version": "3.11.6"
  }
 },
 "nbformat": 4,
 "nbformat_minor": 5
}
