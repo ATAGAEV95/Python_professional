{
 "cells": [
  {
   "cell_type": "code",
   "execution_count": 5,
   "id": "46bd5a10-9fd3-4da0-932c-742a42d99f14",
   "metadata": {},
   "outputs": [],
   "source": [
    "# 8.3.6"
   ]
  },
  {
   "cell_type": "code",
   "execution_count": 8,
   "id": "66687e44-a042-438d-9b8c-a8fef2832be4",
   "metadata": {},
   "outputs": [
    {
     "name": "stdin",
     "output_type": "stream",
     "text": [
      " 55\n"
     ]
    },
    {
     "name": "stdout",
     "output_type": "stream",
     "text": [
      "2\n"
     ]
    }
   ],
   "source": [
    "def count_digits(number):\n",
    "    if number < 10:\n",
    "        return 1\n",
    "    return 1 + count_digits(number // 10)\n",
    "\n",
    "number = int(input())\n",
    "print(count_digits(number))"
   ]
  },
  {
   "cell_type": "code",
   "execution_count": 6,
   "id": "d11c2c0d-5f22-4de3-b8ed-1846308454fd",
   "metadata": {},
   "outputs": [],
   "source": [
    "# 8.3.7"
   ]
  },
  {
   "cell_type": "code",
   "execution_count": 18,
   "id": "902cde9f-3f74-4e45-852c-f551ecdeef2c",
   "metadata": {},
   "outputs": [
    {
     "name": "stdin",
     "output_type": "stream",
     "text": [
      " 25\n"
     ]
    },
    {
     "name": "stdout",
     "output_type": "stream",
     "text": [
      "7\n"
     ]
    }
   ],
   "source": [
    "def sum_digits(number):\n",
    "    if number < 10:\n",
    "        return number\n",
    "    return number % 10 + sum_digits(number // 10)\n",
    "\n",
    "num = 25\n",
    "print(sum_digits(int(input())))"
   ]
  },
  {
   "cell_type": "code",
   "execution_count": 19,
   "id": "974acbf2-014a-4534-8732-5743b960f81d",
   "metadata": {},
   "outputs": [],
   "source": [
    "# 8.3.8"
   ]
  },
  {
   "cell_type": "code",
   "execution_count": 53,
   "id": "e015631c-2dc5-4b24-ac01-99bf82e6843c",
   "metadata": {},
   "outputs": [],
   "source": [
    "def number_of_frogs(year):\n",
    "    if year == 1:\n",
    "        return 77\n",
    "    return 3 * (number_of_frogs(year - 1) - 30)"
   ]
  },
  {
   "cell_type": "code",
   "execution_count": 23,
   "id": "3a219d38-b73e-41a0-8a45-24a1cadd61ba",
   "metadata": {},
   "outputs": [],
   "source": [
    "# 8.3.9"
   ]
  },
  {
   "cell_type": "code",
   "execution_count": 48,
   "id": "0939a61c-05c0-48cc-af44-fa8d00cd3ba1",
   "metadata": {},
   "outputs": [],
   "source": [
    "def range_sum(numbers, start, end):\n",
    "    if start > end:\n",
    "        return 0\n",
    "    return numbers[start] + range_sum(numbers, start+1, end)"
   ]
  },
  {
   "cell_type": "code",
   "execution_count": 52,
   "id": "62708663-fa13-48f1-91a7-52dfe1ba0c6c",
   "metadata": {},
   "outputs": [],
   "source": [
    "# 8.3.10"
   ]
  },
  {
   "cell_type": "code",
   "execution_count": 63,
   "id": "4bbf2d85-b79c-4069-b3e6-30ddf5491344",
   "metadata": {},
   "outputs": [],
   "source": [
    "def get_pow(a, n):\n",
    "    if n == 0:\n",
    "        return 1\n",
    "    return a * get_pow(a, n-1)"
   ]
  },
  {
   "cell_type": "code",
   "execution_count": 64,
   "id": "7466c27b-77ec-4e55-bf6f-a2d2a5c6b1b5",
   "metadata": {},
   "outputs": [],
   "source": [
    "# 8.3.11"
   ]
  },
  {
   "cell_type": "code",
   "execution_count": 77,
   "id": "00bbce63-70c2-4025-a0e8-f1cf0f2be4b6",
   "metadata": {},
   "outputs": [],
   "source": [
    "def get_fast_pow(a, n):\n",
    "    if n == 0:\n",
    "        return 1\n",
    "    elif n % 2 == 0:\n",
    "        return get_fast_pow(a * a, n // 2)\n",
    "    return a * get_fast_pow(a, n-1)"
   ]
  },
  {
   "cell_type": "code",
   "execution_count": 79,
   "id": "4f7a7714-ab2a-4364-ba31-9a9a4f83d730",
   "metadata": {},
   "outputs": [],
   "source": [
    "# 8.3.12"
   ]
  },
  {
   "cell_type": "code",
   "execution_count": 102,
   "id": "738b6f9e-5027-47dd-bb1f-02e324596f23",
   "metadata": {},
   "outputs": [],
   "source": [
    "def recursive_sum(a, b):\n",
    "    if b == 0:\n",
    "        return a\n",
    "    return recursive_sum(a + 1, b - 1)"
   ]
  },
  {
   "cell_type": "code",
   "execution_count": 106,
   "id": "63ae77d5-9627-47c8-93f5-3a84b69c6b1e",
   "metadata": {},
   "outputs": [],
   "source": [
    "# 8.3.13"
   ]
  },
  {
   "cell_type": "code",
   "execution_count": 115,
   "id": "909d88c1-cefc-46c3-8c20-b55f5900b6ff",
   "metadata": {},
   "outputs": [],
   "source": [
    "def is_power(number):\n",
    "    if number == 1:\n",
    "        return True\n",
    "    elif number % 2 == 0:\n",
    "        return is_power(number / 2)\n",
    "    else:\n",
    "        return False"
   ]
  },
  {
   "cell_type": "code",
   "execution_count": 119,
   "id": "9be621a8-a037-442e-b45a-4cee03d7aeb2",
   "metadata": {},
   "outputs": [],
   "source": [
    "# 8.3.14"
   ]
  },
  {
   "cell_type": "code",
   "execution_count": 120,
   "id": "c7b69b01-da6b-46b1-a40b-720bdd0872a8",
   "metadata": {},
   "outputs": [],
   "source": [
    "def tribonacci(n, memo={1: 1, 2: 1, 3: 1}):\n",
    "    if n in memo:\n",
    "        return memo[n]\n",
    "    memo[n] = tribonacci(n - 1, memo) + tribonacci(n - 2, memo) + tribonacci(n - 3, memo)\n",
    "    return memo[n]"
   ]
  },
  {
   "cell_type": "code",
   "execution_count": 124,
   "id": "fc2974ed-bb1a-4448-afc6-4abfebc213c3",
   "metadata": {},
   "outputs": [],
   "source": [
    "# 8.3.15"
   ]
  },
  {
   "cell_type": "code",
   "execution_count": 129,
   "id": "2c567250-b2a8-47f8-a690-68752d164a63",
   "metadata": {},
   "outputs": [],
   "source": [
    "def is_palindrome(string):\n",
    "    if len(string) <= 1:\n",
    "        return True\n",
    "    if string[0] != string[-1]:\n",
    "        return False\n",
    "    return is_palindrome(string[1:-1])"
   ]
  },
  {
   "cell_type": "code",
   "execution_count": 133,
   "id": "5c83f056-9692-4c3f-9967-9c76db2ac577",
   "metadata": {},
   "outputs": [],
   "source": [
    "# 8.3.16"
   ]
  },
  {
   "cell_type": "code",
   "execution_count": 138,
   "id": "5b45fb47-1e2b-4aab-9365-0e7830819913",
   "metadata": {},
   "outputs": [],
   "source": [
    "def to_binary(number):\n",
    "    if number == 0:\n",
    "        return '0'\n",
    "    if number == 1:\n",
    "        return '1'\n",
    "    return to_binary(number // 2) + str(number % 2)"
   ]
  },
  {
   "cell_type": "code",
   "execution_count": 142,
   "id": "bd7f1014-d4df-4f07-aaf3-22af379055c1",
   "metadata": {},
   "outputs": [],
   "source": [
    "# 8.3.17"
   ]
  },
  {
   "cell_type": "code",
   "execution_count": 147,
   "id": "48f95a5d-cf58-4f47-8093-59ace6f63957",
   "metadata": {},
   "outputs": [
    {
     "name": "stdin",
     "output_type": "stream",
     "text": [
      " 16\n"
     ]
    },
    {
     "name": "stdout",
     "output_type": "stream",
     "text": [
      "16\n",
      "11\n",
      "6\n",
      "1\n",
      "-4\n",
      "1\n",
      "6\n",
      "11\n",
      "16\n"
     ]
    }
   ],
   "source": [
    "def plus_minus_five(number):\n",
    "    print(number)\n",
    "    if number > 0:\n",
    "        plus_minus_five(number - 5)\n",
    "        print(number)\n",
    "        \n",
    "plus_minus_five(int(input()))"
   ]
  }
 ],
 "metadata": {
  "kernelspec": {
   "display_name": "Python 3 (ipykernel)",
   "language": "python",
   "name": "python3"
  },
  "language_info": {
   "codemirror_mode": {
    "name": "ipython",
    "version": 3
   },
   "file_extension": ".py",
   "mimetype": "text/x-python",
   "name": "python",
   "nbconvert_exporter": "python",
   "pygments_lexer": "ipython3",
   "version": "3.11.6"
  }
 },
 "nbformat": 4,
 "nbformat_minor": 5
}
