{
 "cells": [
  {
   "cell_type": "code",
   "execution_count": 4,
   "id": "07b85c61-9c58-4d9c-b655-ea0257d71fef",
   "metadata": {},
   "outputs": [],
   "source": [
    "# 8.4.4"
   ]
  },
  {
   "cell_type": "code",
   "execution_count": 28,
   "id": "c5894fd9-9869-44ff-a6af-c4a0ac40afc0",
   "metadata": {},
   "outputs": [],
   "source": [
    "def recursive_sum(lst):\n",
    "    total = 0\n",
    "    if isinstance(lst, int):\n",
    "        return total + lst\n",
    "    if isinstance(lst, list):\n",
    "        for i in lst:\n",
    "            total += recursive_sum(i)\n",
    "    return total"
   ]
  },
  {
   "cell_type": "code",
   "execution_count": 31,
   "id": "3d11bfa6-be55-4f4d-b74f-0f917f4789fb",
   "metadata": {},
   "outputs": [],
   "source": [
    "# 8.4.5"
   ]
  },
  {
   "cell_type": "code",
   "execution_count": 56,
   "id": "fca89ac5-9289-4273-96d8-1e21fbe272d3",
   "metadata": {},
   "outputs": [],
   "source": [
    "def linear(my_list):\n",
    "    lst = []\n",
    "    if isinstance(my_list, int):\n",
    "        lst.append(my_list)\n",
    "    elif isinstance(my_list, list):\n",
    "        for i in my_list:\n",
    "            lst.extend(linear(i))\n",
    "    return lst"
   ]
  },
  {
   "cell_type": "code",
   "execution_count": 60,
   "id": "d325cb66-2904-4239-8f9e-ef8604757492",
   "metadata": {},
   "outputs": [],
   "source": [
    "# 8.4.6"
   ]
  },
  {
   "cell_type": "code",
   "execution_count": 68,
   "id": "c7121860-0e4e-40c2-8502-6fc6e6385291",
   "metadata": {},
   "outputs": [],
   "source": [
    "def get_value(dct, key):\n",
    "    if key in dct:\n",
    "        return dct[key]\n",
    "    for v in dct.values():\n",
    "        if type(v) == dict:\n",
    "            value = get_value(v, key)\n",
    "            if value is not None:\n",
    "                return value"
   ]
  },
  {
   "cell_type": "code",
   "execution_count": 71,
   "id": "c5d1a9bb-e2ff-47cd-b2a1-876c09296c5c",
   "metadata": {},
   "outputs": [],
   "source": [
    "# 8.4.7"
   ]
  },
  {
   "cell_type": "code",
   "execution_count": 79,
   "id": "78d234f4-e38f-4764-9948-523974f68211",
   "metadata": {},
   "outputs": [],
   "source": [
    "def get_all_values(nested_dicts, key):\n",
    "    values = set()\n",
    "    def recursive_search(d):\n",
    "        if isinstance(d, dict):\n",
    "            for k, v in d.items():\n",
    "                if k == key:\n",
    "                    values.add(v)\n",
    "                recursive_search(v)\n",
    "    recursive_search(nested_dicts)\n",
    "    return values"
   ]
  },
  {
   "cell_type": "code",
   "execution_count": 83,
   "id": "e7efc8f7-1b14-4690-94af-1efce693eb81",
   "metadata": {},
   "outputs": [],
   "source": [
    "# 8.4.8"
   ]
  },
  {
   "cell_type": "code",
   "execution_count": 99,
   "id": "55b48120-c31b-4c6a-bb77-1ae01da187f7",
   "metadata": {},
   "outputs": [],
   "source": [
    "def dict_travel(data, parent_key=''):\n",
    "    for key, value in sorted(data.items()):\n",
    "        key = f'{parent_key}.{key}' if parent_key else key\n",
    "        if isinstance(value, dict):\n",
    "            dict_travel(value, key)\n",
    "        else:\n",
    "            print(f'{key}: {value}')"
   ]
  },
  {
   "cell_type": "code",
   "execution_count": null,
   "id": "820cbc00-6f66-41ca-bce6-5ef7b69e60d6",
   "metadata": {},
   "outputs": [],
   "source": []
  }
 ],
 "metadata": {
  "kernelspec": {
   "display_name": "Python 3 (ipykernel)",
   "language": "python",
   "name": "python3"
  },
  "language_info": {
   "codemirror_mode": {
    "name": "ipython",
    "version": 3
   },
   "file_extension": ".py",
   "mimetype": "text/x-python",
   "name": "python",
   "nbconvert_exporter": "python",
   "pygments_lexer": "ipython3",
   "version": "3.11.6"
  }
 },
 "nbformat": 4,
 "nbformat_minor": 5
}
