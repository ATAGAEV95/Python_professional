{
 "cells": [
  {
   "cell_type": "code",
   "execution_count": 9,
   "id": "81933d8b-3090-47d0-ac5e-7dbd2d74a5a3",
   "metadata": {},
   "outputs": [],
   "source": [
    "# 6.10.13"
   ]
  },
  {
   "cell_type": "code",
   "execution_count": 19,
   "id": "1677f139-c68e-489f-b03a-54926193ef3b",
   "metadata": {},
   "outputs": [],
   "source": [
    "from collections import ChainMap\n",
    "\n",
    "def get_all_values(chainmap, key):\n",
    "    return {d[key] for d in chainmap.maps if key in d}"
   ]
  },
  {
   "cell_type": "code",
   "execution_count": 22,
   "id": "f697428f-b8d8-4643-aea4-c3f8ac2bb64c",
   "metadata": {},
   "outputs": [],
   "source": [
    "# 6.10.14"
   ]
  },
  {
   "cell_type": "code",
   "execution_count": 42,
   "id": "cec3c6c1-591c-4be6-b128-f5475590684b",
   "metadata": {},
   "outputs": [],
   "source": [
    "from collections import ChainMap\n",
    "\n",
    "def deep_update(chainmap, key, value):\n",
    "    key_found = False\n",
    "    for dct in chainmap.maps:\n",
    "        if key in dct:\n",
    "            dct[key] = value\n",
    "            key_found = True\n",
    "    if not key_found:\n",
    "        chainmap.maps[0][key] = value"
   ]
  },
  {
   "cell_type": "code",
   "execution_count": 48,
   "id": "0b80a43a-1845-4b08-82f4-27e969c3c00c",
   "metadata": {},
   "outputs": [],
   "source": [
    "# 6.10.15"
   ]
  },
  {
   "cell_type": "code",
   "execution_count": null,
   "id": "b6d51324-875b-4506-adef-1b839e225920",
   "metadata": {},
   "outputs": [],
   "source": [
    "from collections import ChainMap\n",
    "\n",
    "def get_value(chainmap, key, from_left=True):\n",
    "    if not from_left:\n",
    "        chainmap.maps.reverse()\n",
    "    return chainmap.get(key)"
   ]
  }
 ],
 "metadata": {
  "kernelspec": {
   "display_name": "Python 3 (ipykernel)",
   "language": "python",
   "name": "python3"
  },
  "language_info": {
   "codemirror_mode": {
    "name": "ipython",
    "version": 3
   },
   "file_extension": ".py",
   "mimetype": "text/x-python",
   "name": "python",
   "nbconvert_exporter": "python",
   "pygments_lexer": "ipython3",
   "version": "3.11.6"
  }
 },
 "nbformat": 4,
 "nbformat_minor": 5
}
