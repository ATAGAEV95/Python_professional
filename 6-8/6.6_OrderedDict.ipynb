{
 "cells": [
  {
   "cell_type": "code",
   "execution_count": 20,
   "id": "1c0f803d-16a9-4dbd-860e-bc6ecbca57ac",
   "metadata": {},
   "outputs": [],
   "source": [
    "# 6.6.17"
   ]
  },
  {
   "cell_type": "code",
   "execution_count": 36,
   "id": "6a07da78-05a8-4165-bcfd-529676a9ae63",
   "metadata": {},
   "outputs": [
    {
     "name": "stdout",
     "output_type": "stream",
     "text": [
      "OrderedDict([('SeatsCount', '10'), ('Address', 'город Москва, переулок Сивцев Вражек, дом 6/2'), ('District', 'район Арбат'), ('AdmArea', 'Центральный административный округ'), ('TypeObject', 'кафе'), ('OperatingCompany', 'Брусника'), ('IsNetObject', 'да'), ('Name', 'Брусника')])\n"
     ]
    }
   ],
   "source": [
    "from collections import OrderedDict\n",
    "\n",
    "data = OrderedDict({'Name': 'Брусника', 'IsNetObject': 'да', 'OperatingCompany': 'Брусника', 'TypeObject': 'кафе', 'AdmArea': 'Центральный административный округ', 'District': 'район Арбат', 'Address': 'город Москва, переулок Сивцев Вражек, дом 6/2', 'SeatsCount': '10'})\n",
    "\n",
    "reversed_data = OrderedDict(reversed(data.items()))\n",
    "\n",
    "print(reversed_data)"
   ]
  },
  {
   "cell_type": "code",
   "execution_count": 37,
   "id": "dfa1e4fb-aeee-493b-b53a-db5cb985413c",
   "metadata": {},
   "outputs": [],
   "source": [
    "# 6.6.18"
   ]
  },
  {
   "cell_type": "code",
   "execution_count": 67,
   "id": "8376e96f-a8b2-44e0-92b4-7ecfb8d5b3d8",
   "metadata": {},
   "outputs": [
    {
     "name": "stdout",
     "output_type": "stream",
     "text": [
      "OrderedDict([('Name', 'Брусника'), ('SeatsCount', '10'), ('IsNetObject', 'да'), ('Address', 'город Москва, переулок Сивцев Вражек, дом 6/2'), ('OperatingCompany', 'Брусника'), ('District', 'район Арбат'), ('TypeObject', 'кафе'), ('AdmArea', 'Центральный административный округ')])\n"
     ]
    }
   ],
   "source": [
    "from collections import OrderedDict\n",
    "\n",
    "data = OrderedDict({'Name': 'Брусника', 'IsNetObject': 'да', 'OperatingCompany': 'Брусника', 'TypeObject': 'кафе', 'AdmArea': 'Центральный административный округ', 'District': 'район Арбат', 'Address': 'город Москва, переулок Сивцев Вражек, дом 6/2', 'SeatsCount': '10'})\n",
    "\n",
    "new_data = OrderedDict()\n",
    "\n",
    "for rule in [False if i % 2 == 0 else True for i in range(len(data))]:\n",
    "    name, grade = data.popitem(last=rule)\n",
    "    new_data[name] = grade\n",
    "    \n",
    "print(new_data)"
   ]
  },
  {
   "cell_type": "code",
   "execution_count": 68,
   "id": "cff7db95-bbf3-46ea-a284-b97a3d5c6799",
   "metadata": {},
   "outputs": [],
   "source": [
    "# 6.6.19"
   ]
  },
  {
   "cell_type": "code",
   "execution_count": 70,
   "id": "112a615d-0144-4f20-a462-e5fb87e09ae3",
   "metadata": {},
   "outputs": [],
   "source": [
    "from collections import OrderedDict\n",
    "\n",
    "def custom_sort(ordered_dict, by_values=False):\n",
    "    sorted_items = sorted(ordered_dict.items(), key=lambda x: x[1] if by_values else x[0])\n",
    "    ordered_dict.clear()\n",
    "    ordered_dict.update(sorted_items)"
   ]
  },
  {
   "cell_type": "code",
   "execution_count": null,
   "id": "f801670d-84e1-4263-88e7-0b3a14995614",
   "metadata": {},
   "outputs": [],
   "source": []
  }
 ],
 "metadata": {
  "kernelspec": {
   "display_name": "Python 3 (ipykernel)",
   "language": "python",
   "name": "python3"
  },
  "language_info": {
   "codemirror_mode": {
    "name": "ipython",
    "version": 3
   },
   "file_extension": ".py",
   "mimetype": "text/x-python",
   "name": "python",
   "nbconvert_exporter": "python",
   "pygments_lexer": "ipython3",
   "version": "3.11.6"
  }
 },
 "nbformat": 4,
 "nbformat_minor": 5
}
