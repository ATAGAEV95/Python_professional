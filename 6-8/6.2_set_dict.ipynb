{
 "cells": [
  {
   "cell_type": "code",
   "execution_count": 16,
   "id": "3ff10747-5392-4591-9257-c76d2f91942f",
   "metadata": {},
   "outputs": [],
   "source": [
    "# 6.2.17"
   ]
  },
  {
   "cell_type": "code",
   "execution_count": null,
   "id": "9aecaa48-d713-4d8d-a7d4-e26209419575",
   "metadata": {},
   "outputs": [],
   "source": [
    "from string import ascii_letters\n",
    "\n",
    "translator = str.maketrans(ascii_letters, input() * 2)\n",
    "print(input().translate(translator))"
   ]
  },
  {
   "cell_type": "code",
   "execution_count": null,
   "id": "00d9a88b-27c8-47e3-989a-a194fb0693b9",
   "metadata": {},
   "outputs": [],
   "source": []
  }
 ],
 "metadata": {
  "kernelspec": {
   "display_name": "Python 3 (ipykernel)",
   "language": "python",
   "name": "python3"
  },
  "language_info": {
   "codemirror_mode": {
    "name": "ipython",
    "version": 3
   },
   "file_extension": ".py",
   "mimetype": "text/x-python",
   "name": "python",
   "nbconvert_exporter": "python",
   "pygments_lexer": "ipython3",
   "version": "3.11.6"
  }
 },
 "nbformat": 4,
 "nbformat_minor": 5
}
