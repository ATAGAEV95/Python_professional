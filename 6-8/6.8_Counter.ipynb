{
 "cells": [
  {
   "cell_type": "code",
   "execution_count": 19,
   "id": "3a55a609-e96c-489a-9858-68b0bb7f0202",
   "metadata": {},
   "outputs": [],
   "source": [
    "# 6.8.12"
   ]
  },
  {
   "cell_type": "code",
   "execution_count": 39,
   "id": "01679429-92a5-4cd7-95c5-5b441941b8c8",
   "metadata": {},
   "outputs": [
    {
     "name": "stdout",
     "output_type": "stream",
     "text": [
      "малина\n"
     ]
    }
   ],
   "source": [
    "from collections import Counter\n",
    "\n",
    "print(Counter(input().lower().split()).most_common()[0][0])"
   ]
  },
  {
   "cell_type": "code",
   "execution_count": 40,
   "id": "8248ef1a-8ae4-4177-9eb9-55c593306831",
   "metadata": {},
   "outputs": [],
   "source": [
    "# 6.8.13"
   ]
  },
  {
   "cell_type": "code",
   "execution_count": 77,
   "id": "07f89ffe-5602-4ba7-a33a-b648c7fd8031",
   "metadata": {},
   "outputs": [
    {
     "name": "stdin",
     "output_type": "stream",
     "text": [
      " Арбуз Малина Малина Арбуз Клубника арбуз банан малина вишня черешня вишня арбуЗ\n"
     ]
    },
    {
     "name": "stdout",
     "output_type": "stream",
     "text": [
      "банан, клубника, черешня\n"
     ]
    }
   ],
   "source": [
    "from collections import Counter\n",
    "\n",
    "res = Counter(input().lower().split()).most_common()\n",
    "min_value = sorted(filter(lambda x: x[1] == res[-1][1], res))\n",
    "\n",
    "print(*dict(min_value).keys(), sep=', ')"
   ]
  },
  {
   "cell_type": "code",
   "execution_count": 78,
   "id": "1f6c367b-3887-4133-aa31-390cab70852f",
   "metadata": {},
   "outputs": [],
   "source": [
    "# 6.8.14"
   ]
  },
  {
   "cell_type": "code",
   "execution_count": null,
   "id": "cd41a37e-895a-487a-bfae-402af053393c",
   "metadata": {},
   "outputs": [],
   "source": [
    "from collections import Counter\n",
    "\n",
    "res = Counter(input().lower().split()).most_common()\n",
    "max_value = filter(lambda x: x[1] == res[0][1], res)\n",
    "most_common_word = max(max_value, key=lambda x: x[0])\n",
    "\n",
    "print(most_common_word[0])"
   ]
  },
  {
   "cell_type": "code",
   "execution_count": 116,
   "id": "e5ca3c0e-5868-4b74-8577-ec7012f6aa36",
   "metadata": {},
   "outputs": [],
   "source": [
    "# 6.8.15"
   ]
  },
  {
   "cell_type": "code",
   "execution_count": null,
   "id": "da443b13-c065-4857-975f-f23fbaaec69c",
   "metadata": {},
   "outputs": [],
   "source": [
    "from collections import Counter\n",
    "\n",
    "static = Counter([len(char) for char in input().split()]).most_common()\n",
    "stat = sorted(static, key=lambda x: x[1])\n",
    "\n",
    "for key, count in stat:\n",
    "    print(f'Слов длины {key}: {count}')"
   ]
  },
  {
   "cell_type": "code",
   "execution_count": 145,
   "id": "b9c9e958-d97d-4115-a3e4-de4c8f6f293d",
   "metadata": {},
   "outputs": [],
   "source": [
    "# 6.8.16"
   ]
  },
  {
   "cell_type": "code",
   "execution_count": null,
   "id": "cd4a6c5f-c27e-4c4c-b5f1-c30fd2c66f5a",
   "metadata": {},
   "outputs": [],
   "source": [
    "import sys\n",
    "from collections import Counter\n",
    "\n",
    "lst = [tuple(s.strip().split()) for s in sys.stdin]\n",
    "dct = {key: int(value) for key, value in lst}\n",
    "\n",
    "print(Counter(dct).most_common()[-2][0])"
   ]
  },
  {
   "cell_type": "code",
   "execution_count": 163,
   "id": "6f6dcf1a-9779-4a1c-97e9-5000871b6104",
   "metadata": {},
   "outputs": [],
   "source": [
    "# 6.8.17"
   ]
  },
  {
   "cell_type": "code",
   "execution_count": 164,
   "id": "49914373-f955-459d-80c1-58416c1113aa",
   "metadata": {},
   "outputs": [],
   "source": [
    "from collections import Counter\n",
    "\n",
    "data = Counter('aksjaskfjsklfjdslkfjajfopewtoieqpwdpqworiiqjskanvmcxbmpewrqopkqwlmdzczmxvmvlnjpjqpkqzxvmbowiqeorewi')\n",
    "\n",
    "data.min_values = lambda: list(filter(lambda x: x[-1] == min(data.values()), data.items()))\n",
    "data.max_values = lambda: list(filter(lambda x: x[-1] == max(data.values()), data.items()))"
   ]
  },
  {
   "cell_type": "code",
   "execution_count": 165,
   "id": "c97bc282-9f55-4a54-b5a9-891c6a4f5275",
   "metadata": {},
   "outputs": [],
   "source": [
    "# 6.8.18"
   ]
  },
  {
   "cell_type": "code",
   "execution_count": null,
   "id": "58977ff6-a1eb-4aa9-bba9-5fe18f9f7868",
   "metadata": {},
   "outputs": [],
   "source": [
    "from collections import Counter\n",
    "import csv\n",
    "\n",
    "with open('name_log.csv', 'r', encoding = 'utf-8') as file:\n",
    "    data = csv.DictReader(file)\n",
    "    emails = [i['email'] for i in data]\n",
    "    counter = Counter(emails)\n",
    "    for key, value in sorted(counter.items(), key = lambda x: x[0]):\n",
    "        print(f'{key}: {value}')"
   ]
  },
  {
   "cell_type": "code",
   "execution_count": 198,
   "id": "671f1aa4-139b-4ca5-8be5-68c2c4e6d687",
   "metadata": {},
   "outputs": [],
   "source": [
    "# 6.8.19"
   ]
  },
  {
   "cell_type": "code",
   "execution_count": 257,
   "id": "c84c2779-27a6-4426-9e19-41397b863479",
   "metadata": {},
   "outputs": [],
   "source": [
    "from collections import Counter\n",
    "\n",
    "def scrabble(symbols, word):\n",
    "    return True if not Counter(word.lower()) - Counter(symbols.lower()) else False"
   ]
  },
  {
   "cell_type": "code",
   "execution_count": 260,
   "id": "dc0627f6-e9d0-4f9b-aaba-ff4dc49e6ba9",
   "metadata": {},
   "outputs": [],
   "source": [
    "# 6.8.20"
   ]
  },
  {
   "cell_type": "code",
   "execution_count": 274,
   "id": "b2ed260e-23e5-454c-b0ae-bc96389bf286",
   "metadata": {},
   "outputs": [],
   "source": [
    "def print_bar_chart(data, mark):\n",
    "    count = Counter(data)\n",
    "    mx = max(map(len, count.keys()))\n",
    "    for el in count.most_common():\n",
    "        print(f\"{el[0].ljust(mx, ' ')} |{mark * el[1]}\")"
   ]
  },
  {
   "cell_type": "code",
   "execution_count": null,
   "id": "ec61fa8f-ca96-480d-b3ec-8e55effdf65e",
   "metadata": {},
   "outputs": [],
   "source": [
    "# 6.8.21"
   ]
  },
  {
   "cell_type": "code",
   "execution_count": null,
   "id": "db0c508c-3f01-4496-8d35-f55b58793419",
   "metadata": {},
   "outputs": [],
   "source": [
    "from collections import Counter\n",
    "import csv, json\n",
    "\n",
    "\n",
    "profit = 0\n",
    "products_sold_kg = Counter()\n",
    "\n",
    "for i in range(1, 5):\n",
    "    with open(f\"quarter{i}.csv\", encoding=\"utf-8\") as file:\n",
    "        for product in csv.DictReader(file):\n",
    "            name, *sold_kg = product.values()\n",
    "            products_sold_kg[name] += sum(map(int, sold_kg))\n",
    "\n",
    "with open(\"prices.json\", encoding=\"utf-8\") as file:\n",
    "    for name, price in json.load(file).items():\n",
    "        profit += products_sold_kg[name] * price\n",
    "\n",
    "print(profit)"
   ]
  },
  {
   "cell_type": "code",
   "execution_count": 276,
   "id": "ce2cee79-3b69-4179-8f22-01ef5bb395a3",
   "metadata": {},
   "outputs": [],
   "source": [
    "# 6.8.22"
   ]
  },
  {
   "cell_type": "code",
   "execution_count": null,
   "id": "b7e307a9-f11a-40fb-85f3-d384f53658f2",
   "metadata": {},
   "outputs": [],
   "source": [
    "from collections import Counter\n",
    "\n",
    "cnt = Counter(map(int, input().split()))\n",
    "res = 0\n",
    "\n",
    "for _ in range(int(input())):\n",
    "    k, v = map(int, input().split())\n",
    "    if cnt[k]: cnt[k] -= 1; res += v\n",
    "\n",
    "print(res)"
   ]
  },
  {
   "cell_type": "code",
   "execution_count": null,
   "id": "5544255a-c539-48bc-bcf3-0f3af4e99205",
   "metadata": {},
   "outputs": [],
   "source": []
  }
 ],
 "metadata": {
  "kernelspec": {
   "display_name": "Python 3 (ipykernel)",
   "language": "python",
   "name": "python3"
  },
  "language_info": {
   "codemirror_mode": {
    "name": "ipython",
    "version": 3
   },
   "file_extension": ".py",
   "mimetype": "text/x-python",
   "name": "python",
   "nbconvert_exporter": "python",
   "pygments_lexer": "ipython3",
   "version": "3.11.6"
  }
 },
 "nbformat": 4,
 "nbformat_minor": 5
}
