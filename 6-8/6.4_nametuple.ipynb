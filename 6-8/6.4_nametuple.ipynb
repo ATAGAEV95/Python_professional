{
 "cells": [
  {
   "cell_type": "code",
   "execution_count": 9,
   "id": "cb873e7d-a960-44e9-8b1c-b84953e77fab",
   "metadata": {},
   "outputs": [],
   "source": [
    "# 6.4.8"
   ]
  },
  {
   "cell_type": "code",
   "execution_count": null,
   "id": "c116fd35-21ef-4c23-a56f-f9e4794627c3",
   "metadata": {},
   "outputs": [],
   "source": [
    "from collections import namedtuple\n",
    "\n",
    "Fruit = namedtuple('Fruit', 'name, color, vitamins')"
   ]
  },
  {
   "cell_type": "code",
   "execution_count": 10,
   "id": "5320a4f9-e8b5-44c2-b68c-eb8454ac83f0",
   "metadata": {},
   "outputs": [],
   "source": [
    "# 6.4.9"
   ]
  },
  {
   "cell_type": "code",
   "execution_count": null,
   "id": "b161d6ee-1938-4a09-a36c-79e5f3f94f62",
   "metadata": {},
   "outputs": [],
   "source": [
    "from collections import namedtuple\n",
    "\n",
    "Game = namedtuple('Game', 'name developer publisher')\n",
    "\n",
    "ExtendedGame = namedtuple('ExtendedGame', [*Game._fields, 'release_date', 'price'])"
   ]
  },
  {
   "cell_type": "code",
   "execution_count": null,
   "id": "152e2153-bb9c-4395-a722-ba3805b021f7",
   "metadata": {},
   "outputs": [],
   "source": [
    "# 6.4.10"
   ]
  },
  {
   "cell_type": "code",
   "execution_count": null,
   "id": "7b65ac33-2a20-4dc0-977a-3af36f624796",
   "metadata": {},
   "outputs": [],
   "source": [
    "from collections import namedtuple\n",
    "import pickle\n",
    "\n",
    "Animal = namedtuple('Animal', ['name', 'family', 'sex', 'color'])\n",
    "\n",
    "with open('data.pkl', 'rb') as file:\n",
    "    for c in pickle.load(file):\n",
    "        print('\\n'.join(f'{field}: {value}' for field, value in zip(Animal._fields, c)), end='\\n\\n')"
   ]
  },
  {
   "cell_type": "code",
   "execution_count": 34,
   "id": "365aec05-5e5b-4a92-8b65-daea19f4b9af",
   "metadata": {},
   "outputs": [],
   "source": [
    "# 6.4.11"
   ]
  },
  {
   "cell_type": "code",
   "execution_count": 35,
   "id": "0e0c41ca-2ae0-4b1d-a051-dea3527c04c7",
   "metadata": {},
   "outputs": [],
   "source": [
    "from collections import namedtuple\n",
    "\n",
    "User = namedtuple('User', ['name', 'surname', 'email', 'plan'])\n",
    "\n",
    "users = [User('Mary', 'Griffin', 'sonnen@yahoo.com', 'Basic'),\n",
    "         User('Brenda', 'Young', 'retoh@outlook.com', 'Silver'),\n",
    "         User('Kathleen', 'Lyons', 'balchen@att.net', 'Gold'),\n",
    "         User('Pamela', 'Hicks', 'corrada@sbcglobal.net', 'Silver'),\n",
    "         User('William', 'Townsend', 'kosact@verizon.net', 'Gold'),\n",
    "         User('Clayton', 'Morris', 'berserk@yahoo.com', 'Silver'),\n",
    "         User('Dorothy', 'Dennis', 'sequin@live.com', 'Gold'),\n",
    "         User('Tyler', 'Walker', 'noahb@comcast.net', 'Basic'),\n",
    "         User('Joseph', 'Moore', 'ylchang@sbcglobal.net', 'Silver'),\n",
    "         User('Kenneth', 'Richardson', 'tbusch@me.com', 'Bronze'),\n",
    "         User('Stephanie', 'Bush', 'neuffer@live.com', 'Gold'),\n",
    "         User('Gregory', 'Hughes', 'juliano@att.net', 'Basic'),\n",
    "         User('Tracy', 'Wallace', 'sblack@me.com', 'Silver'),\n",
    "         User('Russell', 'Smith', 'isaacson@comcast.net', 'Bronze'),\n",
    "         User('Megan', 'Patterson', 'hoangle@outlook.com', 'Basic')]\n",
    "\n",
    "plan_order = {'Gold': 1, 'Silver': 2, 'Bronze': 3, 'Basic': 4}\n",
    "\n",
    "sorted_users = sorted(users, key=lambda user: (plan_order[user.plan], user.email))\n",
    "\n",
    "for user in sorted_users:\n",
    "    print(f\"{user.name} {user.surname}\")\n",
    "    print(f\"  Email: {user.email}\")\n",
    "    print(f\"  Plan: {user.plan}\\n\")"
   ]
  },
  {
   "cell_type": "code",
   "execution_count": 38,
   "id": "dc1ff2df-c014-4d2a-9aa1-93f6be7e4338",
   "metadata": {},
   "outputs": [],
   "source": [
    "# 6.4.12"
   ]
  },
  {
   "cell_type": "code",
   "execution_count": 60,
   "id": "5a0d2550-f56b-45e4-8200-e95f04fdee19",
   "metadata": {},
   "outputs": [],
   "source": [
    "from collections import namedtuple\n",
    "import csv\n",
    "from datetime import datetime\n",
    "\n",
    "with open('meetings.csv', encoding='utf-8') as csv_file:\n",
    "    rows = list(csv.reader(csv_file))[1:]\n",
    "    \n",
    "Person = namedtuple('Person', 'surname, name, meeting_date, meeting_time')\n",
    "people = [Person._make(row) for row in rows]\n",
    "\n",
    "sorted_people = sorted(people, key=lambda x: (datetime.strptime(x.meeting_date, '%d.%m.%Y'), \n",
    "                                              datetime.strptime(x.meeting_time, '%H:%M')))\n",
    "\n",
    "for i in sorted_people:\n",
    "    print(i[0], i[1])"
   ]
  },
  {
   "cell_type": "code",
   "execution_count": null,
   "id": "b7e4043b-dc2f-4b53-9b62-3103040a76c5",
   "metadata": {},
   "outputs": [],
   "source": []
  }
 ],
 "metadata": {
  "kernelspec": {
   "display_name": "Python 3 (ipykernel)",
   "language": "python",
   "name": "python3"
  },
  "language_info": {
   "codemirror_mode": {
    "name": "ipython",
    "version": 3
   },
   "file_extension": ".py",
   "mimetype": "text/x-python",
   "name": "python",
   "nbconvert_exporter": "python",
   "pygments_lexer": "ipython3",
   "version": "3.11.6"
  }
 },
 "nbformat": 4,
 "nbformat_minor": 5
}
