{
 "cells": [
  {
   "cell_type": "code",
   "execution_count": 21,
   "id": "7359999e-b20a-4cd0-ac9c-1306a1bd572a",
   "metadata": {},
   "outputs": [],
   "source": [
    "# 7.4.18"
   ]
  },
  {
   "cell_type": "code",
   "execution_count": 59,
   "id": "e51e9e71-0a41-4538-9601-473d7f2dc8ab",
   "metadata": {},
   "outputs": [],
   "source": [
    "import calendar, locale\n",
    "locale.setlocale(locale.LC_ALL, 'ru_RU.UTF-8')\n",
    "\n",
    "\n",
    "def get_weekday(number):\n",
    "    if not isinstance(number, int):\n",
    "        raise TypeError('Аргумент не является целым числом')\n",
    "    if number < 1 or number > 7:\n",
    "        raise ValueError('Аргумент не принадлежит требуемому диапазону')\n",
    "    else:\n",
    "        return calendar.day_name[number-1]"
   ]
  },
  {
   "cell_type": "code",
   "execution_count": 63,
   "id": "9e8be19a-83d5-42fa-828e-bccce074302b",
   "metadata": {},
   "outputs": [],
   "source": [
    "# 7.4.19"
   ]
  },
  {
   "cell_type": "code",
   "execution_count": 103,
   "id": "b313fde2-3ab7-4ed4-aa16-81a8377428ec",
   "metadata": {},
   "outputs": [],
   "source": [
    "def get_id(names, name):\n",
    "    if not isinstance(name, str):\n",
    "        raise TypeError('Имя не является строкой')\n",
    "    elif name.istitle() and name.isalpha():\n",
    "        names.append(name)\n",
    "        return len(names)\n",
    "    raise ValueError ('Имя не является корректным')"
   ]
  },
  {
   "cell_type": "code",
   "execution_count": 107,
   "id": "cb3f60e3-c15a-4e77-a595-cb6043fcb16a",
   "metadata": {},
   "outputs": [],
   "source": [
    "# 7.4.20"
   ]
  },
  {
   "cell_type": "code",
   "execution_count": null,
   "id": "8859d52f-066f-4605-a2ba-bd156df8cc07",
   "metadata": {},
   "outputs": [],
   "source": [
    "import json\n",
    "\n",
    "try:\n",
    "    with open(input(), 'r', encoding='utf-8') as file:\n",
    "        print(json.load(file))\n",
    "except FileNotFoundError:\n",
    "    print(\"Файл не найден\")\n",
    "except:\n",
    "    print(\"Ошибка при десериализации\")"
   ]
  }
 ],
 "metadata": {
  "kernelspec": {
   "display_name": "Python 3 (ipykernel)",
   "language": "python",
   "name": "python3"
  },
  "language_info": {
   "codemirror_mode": {
    "name": "ipython",
    "version": 3
   },
   "file_extension": ".py",
   "mimetype": "text/x-python",
   "name": "python",
   "nbconvert_exporter": "python",
   "pygments_lexer": "ipython3",
   "version": "3.11.6"
  }
 },
 "nbformat": 4,
 "nbformat_minor": 5
}
