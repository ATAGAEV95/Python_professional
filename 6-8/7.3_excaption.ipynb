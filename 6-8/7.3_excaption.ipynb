{
 "cells": [
  {
   "cell_type": "code",
   "execution_count": 5,
   "id": "1ad683cb-d7c9-4b0a-915e-e4fc4620fcde",
   "metadata": {},
   "outputs": [],
   "source": [
    "# 7.3.20"
   ]
  },
  {
   "cell_type": "code",
   "execution_count": 20,
   "id": "73d2a968-ea96-4e2b-ae71-ccd61c303133",
   "metadata": {},
   "outputs": [
    {
     "name": "stdin",
     "output_type": "stream",
     "text": [
      " -10\n"
     ]
    },
    {
     "name": "stdout",
     "output_type": "stream",
     "text": [
      "Введено число из недопустимого диапазона\n"
     ]
    }
   ],
   "source": [
    "import calendar\n",
    "\n",
    "try:\n",
    "    month = int(input())\n",
    "    if 0 < month < 13:\n",
    "        print(calendar.month_name[month])\n",
    "    else:\n",
    "        print('Введено число из недопустимого диапазона')\n",
    "except ValueError:\n",
    "    print('Введено некорректное значение')"
   ]
  },
  {
   "cell_type": "code",
   "execution_count": 21,
   "id": "7bf944f5-ef9f-4444-80d4-1e8f70466b18",
   "metadata": {},
   "outputs": [],
   "source": [
    "# 7.3.21"
   ]
  },
  {
   "cell_type": "code",
   "execution_count": 28,
   "id": "37fbe4ac-e8fa-4cc2-8b45-7eb84a2bbc41",
   "metadata": {},
   "outputs": [],
   "source": [
    "def add_to_list_in_dict(data, key, element):\n",
    "    try:\n",
    "        data[key].append(element)\n",
    "    except KeyError:\n",
    "        data[key] = [element]"
   ]
  },
  {
   "cell_type": "code",
   "execution_count": null,
   "id": "8f74b0b7-fe68-448d-a3e6-756dbc4ff57a",
   "metadata": {},
   "outputs": [],
   "source": [
    "def add_to_list_in_dict(data, key, element):\n",
    "    try:\n",
    "        data[key].append(element)\n",
    "    except KeyError:\n",
    "        data[key] = data.get(key, []) + [element]"
   ]
  },
  {
   "cell_type": "code",
   "execution_count": 31,
   "id": "25b3a007-028f-460a-becb-d74241a9603f",
   "metadata": {},
   "outputs": [],
   "source": [
    "# 7.3.22"
   ]
  },
  {
   "cell_type": "code",
   "execution_count": null,
   "id": "14285e17-ad90-4a85-913c-b711dd58acfa",
   "metadata": {},
   "outputs": [],
   "source": [
    "try:\n",
    "    file = open(input(), encoding='utf-8')\n",
    "    try:\n",
    "        text = file.read()\n",
    "        print(text)\n",
    "    finally:\n",
    "        file.close()\n",
    "except FileNotFoundError:\n",
    "    print('Файл не найден')"
   ]
  }
 ],
 "metadata": {
  "kernelspec": {
   "display_name": "Python 3 (ipykernel)",
   "language": "python",
   "name": "python3"
  },
  "language_info": {
   "codemirror_mode": {
    "name": "ipython",
    "version": 3
   },
   "file_extension": ".py",
   "mimetype": "text/x-python",
   "name": "python",
   "nbconvert_exporter": "python",
   "pygments_lexer": "ipython3",
   "version": "3.11.6"
  }
 },
 "nbformat": 4,
 "nbformat_minor": 5
}
