{
 "cells": [
  {
   "cell_type": "code",
   "execution_count": 13,
   "id": "9e542d3b-60eb-423f-8a53-c9eac901ad86",
   "metadata": {},
   "outputs": [],
   "source": [
    "# 6.9.22"
   ]
  },
  {
   "cell_type": "code",
   "execution_count": 41,
   "id": "7e3121c4-a670-4835-abdc-9cb5e1bc9815",
   "metadata": {},
   "outputs": [
    {
     "name": "stdout",
     "output_type": "stream",
     "text": [
      "443\n"
     ]
    }
   ],
   "source": [
    "from collections import ChainMap\n",
    "import json\n",
    "\n",
    "with open('zoo.json') as file:\n",
    "    data = json.load(file)\n",
    "    zoopark = ChainMap(*data)\n",
    "    total_sum = sum(int(value) for value in zoopark.values())\n",
    "    print(total_sum)"
   ]
  },
  {
   "cell_type": "code",
   "execution_count": 42,
   "id": "7fb52335-0c32-4648-9c4c-cd91737cba6a",
   "metadata": {},
   "outputs": [],
   "source": [
    "# 6.9.23"
   ]
  },
  {
   "cell_type": "code",
   "execution_count": 43,
   "id": "3ac8d7f0-2c74-4519-8b59-5a48992fce66",
   "metadata": {},
   "outputs": [],
   "source": [
    "from collections import ChainMap, Counter\n",
    "\n",
    "bread = {'булочка с кунжутом': 15, 'обычная булочка': 10, 'ржаная булочка': 15}\n",
    "meat = {'куриный бифштекс': 50, 'говяжий бифштекс': 70, 'рыбный бифштекс': 40}\n",
    "sauce = {'сливочно-чесночный': 15, 'кетчуп': 10, 'горчица': 10, 'барбекю': 15, 'чили': 15}\n",
    "vegetables = {'лук': 10, 'салат': 15, 'помидор': 15, 'огурцы': 10}\n",
    "toppings = {'сыр': 25, 'яйцо': 15, 'бекон': 30}\n",
    "\n",
    "ings = ChainMap(bread, meat, sauce, vegetables, toppings)\n",
    "c = Counter(input().split(','))\n",
    "lines = [f'{i.ljust(len(max(c, key=len)))} x {j}' for i, j in sorted(c.items())]\n",
    "total = sum(ings[i] * j for i, j in c.items())\n",
    "\n",
    "print(*lines, '-' * len(max(lines, key=len)), f'ИТОГ: {total}р', sep='\\n')"
   ]
  },
  {
   "cell_type": "code",
   "execution_count": null,
   "id": "50863f29-ea9c-4338-b137-6f405ec0dde6",
   "metadata": {},
   "outputs": [],
   "source": []
  }
 ],
 "metadata": {
  "kernelspec": {
   "display_name": "Python 3 (ipykernel)",
   "language": "python",
   "name": "python3"
  },
  "language_info": {
   "codemirror_mode": {
    "name": "ipython",
    "version": 3
   },
   "file_extension": ".py",
   "mimetype": "text/x-python",
   "name": "python",
   "nbconvert_exporter": "python",
   "pygments_lexer": "ipython3",
   "version": "3.11.6"
  }
 },
 "nbformat": 4,
 "nbformat_minor": 5
}
