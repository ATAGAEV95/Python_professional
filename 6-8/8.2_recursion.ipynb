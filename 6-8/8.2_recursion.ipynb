{
 "cells": [
  {
   "cell_type": "code",
   "execution_count": 4,
   "id": "759eb3c7-b451-4136-8f96-2f679c21cb09",
   "metadata": {},
   "outputs": [],
   "source": [
    "# 8.2.5"
   ]
  },
  {
   "cell_type": "code",
   "execution_count": 15,
   "id": "b62b848a-fe96-478c-bc1d-3c8e923844dc",
   "metadata": {},
   "outputs": [],
   "source": [
    "def traffic(num):\n",
    "    if num > 0:\n",
    "        print('Не парковаться')\n",
    "        traffic(num - 1)"
   ]
  },
  {
   "cell_type": "code",
   "execution_count": 18,
   "id": "5d362b34-26fd-45b7-ad3d-4a804b17fbd9",
   "metadata": {},
   "outputs": [],
   "source": [
    "# 8.2.6"
   ]
  },
  {
   "cell_type": "code",
   "execution_count": null,
   "id": "f4503e42-fe98-4d4e-bc20-71b818cf69ca",
   "metadata": {},
   "outputs": [],
   "source": [
    "def numbers(start):\n",
    "    if start <= 100:\n",
    "        print(start)\n",
    "        numbers(start + 1)\n",
    "    \n",
    "numbers(1)"
   ]
  },
  {
   "cell_type": "code",
   "execution_count": 19,
   "id": "ed5c4c44-588b-4f8e-b4cb-396bb67beab9",
   "metadata": {},
   "outputs": [],
   "source": [
    "# 8.2.7"
   ]
  },
  {
   "cell_type": "code",
   "execution_count": 23,
   "id": "c7a94ef7-fe0a-4007-8947-ea924f19a8d6",
   "metadata": {},
   "outputs": [],
   "source": [
    "numbers = [243, -279, 395, 130, 89, 269, 861, 669, 939, 367, -46, 710, 841, -280, -244, 274, -132, 273, 418, 432, -341, 437, 360, 960, 195, 792, 106, 461, -35, 980, -80, 540, -358, 69, -26, -416, 597, 96, 533, 232, 755, 894, 331, 323, -383, -386, 231, 436, 553, 967, 166, -151, 772, 434, 325, 301, 275, 431, 556, 728, 558, 702, 463, 127, 984, 212, 876, -287, -16, -177, 577, 604, 116, 500, 653, 669, 916, 802, 817, 762, -210, -353, 144, -351, 777, 805, 692, 22, -303, 249, 190, 411, 236, -274, 174, 380, 71, 124, -85, 430]\n",
    "\n",
    "def recursion(lst, num):\n",
    "    if num < len(lst):\n",
    "        print(f'Элемент {num}: {lst[num]}')\n",
    "        recursion(lst, num+1)\n",
    "\n",
    "recursion(numbers, 0)"
   ]
  },
  {
   "cell_type": "code",
   "execution_count": 25,
   "id": "380c4390-75ad-4dc4-8a80-50b4c4e482c0",
   "metadata": {},
   "outputs": [],
   "source": [
    "# 8.2.8"
   ]
  },
  {
   "cell_type": "code",
   "execution_count": null,
   "id": "bddbe406-2f95-485f-9f84-b113fb44432c",
   "metadata": {},
   "outputs": [],
   "source": [
    "def recursion():\n",
    "    num = int(input())\n",
    "    if num == 0:\n",
    "        print(0)\n",
    "        return\n",
    "    recursion()\n",
    "    print(num)\n",
    "\n",
    "recursion()"
   ]
  },
  {
   "cell_type": "code",
   "execution_count": 26,
   "id": "8890141e-1d57-46c7-9978-78e1ce6adc52",
   "metadata": {},
   "outputs": [],
   "source": [
    "# 8.2.9"
   ]
  },
  {
   "cell_type": "code",
   "execution_count": 29,
   "id": "58bf30cb-4b05-4628-86df-fcad22b13c99",
   "metadata": {},
   "outputs": [],
   "source": [
    "def triangle(num):\n",
    "    if num > 0:\n",
    "        print('*' * num)\n",
    "        triangle(num-1)"
   ]
  },
  {
   "cell_type": "code",
   "execution_count": 32,
   "id": "522f93a6-764c-4c58-8608-0b94ab657a0a",
   "metadata": {},
   "outputs": [],
   "source": [
    "# 8.2.10"
   ]
  },
  {
   "cell_type": "code",
   "execution_count": 33,
   "id": "f0b874ef-22fb-4b74-b60b-39f51566c1da",
   "metadata": {},
   "outputs": [],
   "source": [
    "def triangle(num):\n",
    "    if num > 0:\n",
    "        triangle(num-1)\n",
    "        print('*' * num)"
   ]
  },
  {
   "cell_type": "code",
   "execution_count": 36,
   "id": "dcd08ddf-f7b0-4b15-93c0-c94f05476ec0",
   "metadata": {},
   "outputs": [],
   "source": [
    "# 8.2.10"
   ]
  },
  {
   "cell_type": "code",
   "execution_count": 53,
   "id": "3ad9ff4d-75f3-41be-ad14-8b7f31692df2",
   "metadata": {},
   "outputs": [
    {
     "name": "stdout",
     "output_type": "stream",
     "text": [
      "1111111111111111\n",
      "  222222222222  \n",
      "    33333333    \n",
      "      4444      \n",
      "    33333333    \n",
      "  222222222222  \n",
      "1111111111111111\n"
     ]
    }
   ],
   "source": [
    "def watch(x=16, y=1):\n",
    "    if x != y:\n",
    "        print((f'{y}' * x).center(16))\n",
    "        watch(x - 4, y + 1)\n",
    "    print((f'{y}' * x).center(16))\n",
    "    \n",
    "watch()"
   ]
  },
  {
   "cell_type": "code",
   "execution_count": 54,
   "id": "0a37f55d-2b68-4702-b1e9-ad2e6cdabbfd",
   "metadata": {},
   "outputs": [],
   "source": [
    "# 8.2.11"
   ]
  },
  {
   "cell_type": "code",
   "execution_count": 63,
   "id": "29d9a425-a9bd-4ef4-a699-84cc0d865c8c",
   "metadata": {},
   "outputs": [],
   "source": [
    "def print_digits(number):\n",
    "    if number > 0:\n",
    "        print(number % 10)\n",
    "        print_digits(number // 10)"
   ]
  },
  {
   "cell_type": "code",
   "execution_count": 66,
   "id": "f76545ed-df76-4133-a960-d8ac3d8ba818",
   "metadata": {},
   "outputs": [],
   "source": [
    "# 8.2.12"
   ]
  },
  {
   "cell_type": "code",
   "execution_count": 71,
   "id": "bb1103f5-0885-4bd6-a825-bf0fdf68608e",
   "metadata": {},
   "outputs": [],
   "source": [
    "def print_digits(number):\n",
    "    if number > 0:\n",
    "        print_digits(number // 10)\n",
    "        print(number % 10)"
   ]
  },
  {
   "cell_type": "code",
   "execution_count": null,
   "id": "758345c6-01b0-4986-b0e1-aaa2dfd6bce8",
   "metadata": {},
   "outputs": [],
   "source": []
  }
 ],
 "metadata": {
  "kernelspec": {
   "display_name": "Python 3 (ipykernel)",
   "language": "python",
   "name": "python3"
  },
  "language_info": {
   "codemirror_mode": {
    "name": "ipython",
    "version": 3
   },
   "file_extension": ".py",
   "mimetype": "text/x-python",
   "name": "python",
   "nbconvert_exporter": "python",
   "pygments_lexer": "ipython3",
   "version": "3.11.6"
  }
 },
 "nbformat": 4,
 "nbformat_minor": 5
}
