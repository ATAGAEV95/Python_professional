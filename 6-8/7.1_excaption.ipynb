{
 "cells": [
  {
   "cell_type": "code",
   "execution_count": 2,
   "id": "2cc32d72-f278-4b74-9526-cc056ab95b1e",
   "metadata": {},
   "outputs": [],
   "source": [
    "# 7.1.20"
   ]
  },
  {
   "cell_type": "code",
   "execution_count": null,
   "id": "df8859e6-58fb-4572-a6d8-099c67fcac8c",
   "metadata": {},
   "outputs": [],
   "source": [
    "total = 0\n",
    "\n",
    "with open('data.txt', encoding='utf-8') as file:\n",
    "    for _ in file.readlines():\n",
    "        total = total + 1\n",
    "\n",
    "print(total)"
   ]
  },
  {
   "cell_type": "code",
   "execution_count": 3,
   "id": "5691a59d-fca8-4df0-bed3-93b92bfe3250",
   "metadata": {},
   "outputs": [],
   "source": [
    "# 7.1.21"
   ]
  },
  {
   "cell_type": "code",
   "execution_count": 20,
   "id": "8a5a2dcb-9735-4b39-9b9c-1a5846a986a5",
   "metadata": {},
   "outputs": [],
   "source": [
    "def swapcase_vowels(string):\n",
    "    vowels = 'aeiouy'\n",
    "    swapped_string = ''\n",
    "    for char in string:\n",
    "        if char in vowels:\n",
    "            char = char.upper()\n",
    "        swapped_string += char\n",
    "    return swapped_string"
   ]
  },
  {
   "cell_type": "code",
   "execution_count": 22,
   "id": "a085ff6a-36ab-4ba7-8be6-52aefa95e5cf",
   "metadata": {},
   "outputs": [],
   "source": [
    "# 7.1.22"
   ]
  },
  {
   "cell_type": "code",
   "execution_count": null,
   "id": "945e8a3c-4147-489d-9fc9-61855851a863",
   "metadata": {},
   "outputs": [],
   "source": [
    "a = int(input())\n",
    "b = int(input())\n",
    "numbers = []\n",
    "\n",
    "for i in range(a, b+1):\n",
    "    if i % 7 == 0:\n",
    "        numbers.append(i)\n",
    "\n",
    "print(numbers)"
   ]
  },
  {
   "cell_type": "code",
   "execution_count": 27,
   "id": "0dc20a4b-abe6-428c-99fa-3444a1803828",
   "metadata": {},
   "outputs": [],
   "source": [
    "# 7.1.23"
   ]
  },
  {
   "cell_type": "code",
   "execution_count": 36,
   "id": "7f867cdb-2bf9-477d-b486-45a9fd0f7bd4",
   "metadata": {},
   "outputs": [],
   "source": [
    "def get_max_index(numbers):\n",
    "    max_index = 0\n",
    "    max_value = 1 \n",
    "\n",
    "    for index, value in enumerate(numbers): \n",
    "        if value > max_value: \n",
    "            max_index = index\n",
    "            max_value = value\n",
    "\n",
    "    return max_index"
   ]
  },
  {
   "cell_type": "code",
   "execution_count": null,
   "id": "599b1764-fad1-4685-a5e4-84d4192cd6e1",
   "metadata": {},
   "outputs": [],
   "source": []
  }
 ],
 "metadata": {
  "kernelspec": {
   "display_name": "Python 3 (ipykernel)",
   "language": "python",
   "name": "python3"
  },
  "language_info": {
   "codemirror_mode": {
    "name": "ipython",
    "version": 3
   },
   "file_extension": ".py",
   "mimetype": "text/x-python",
   "name": "python",
   "nbconvert_exporter": "python",
   "pygments_lexer": "ipython3",
   "version": "3.11.6"
  }
 },
 "nbformat": 4,
 "nbformat_minor": 5
}
