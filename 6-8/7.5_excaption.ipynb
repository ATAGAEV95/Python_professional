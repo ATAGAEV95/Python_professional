{
 "cells": [
  {
   "cell_type": "code",
   "execution_count": 1,
   "id": "20b4492b-0455-4e97-be5b-dc55e9760ef1",
   "metadata": {},
   "outputs": [],
   "source": [
    "# 7.5.7"
   ]
  },
  {
   "cell_type": "code",
   "execution_count": 20,
   "id": "8f92ffad-8837-4f70-8333-7db699f7337f",
   "metadata": {},
   "outputs": [],
   "source": [
    "def is_good_password(string: str) -> bool:\n",
    "    if len(string) < 9:\n",
    "        return False\n",
    "    has_lower = any(c.islower() for c in string)\n",
    "    has_upper = any(c.isupper() for c in string)\n",
    "    has_digit = any(c.isdigit() for c in string)\n",
    "    return has_lower and has_upper and has_digit"
   ]
  },
  {
   "cell_type": "code",
   "execution_count": 24,
   "id": "cdcebb87-7a02-4c6d-a07d-e5eb40a1ab56",
   "metadata": {},
   "outputs": [],
   "source": [
    "# 7.5.8"
   ]
  },
  {
   "cell_type": "code",
   "execution_count": null,
   "id": "672cda98-e31f-4942-acad-e583c05805f8",
   "metadata": {},
   "outputs": [],
   "source": [
    "class PasswordError(Exception):\n",
    "    pass\n",
    "\n",
    "class LengthError(PasswordError):\n",
    "    pass\n",
    "\n",
    "class LetterError(PasswordError):\n",
    "    pass\n",
    "\n",
    "class DigitError(PasswordError):\n",
    "    pass\n",
    "\n",
    "def is_good_password(string):\n",
    "    if len(string) < 9:\n",
    "        raise LengthError\n",
    "    if not any(c.isalpha() for c in string) or (string.islower() or string.isupper()):\n",
    "        raise LetterError\n",
    "    if not any(c.isdigit() for c in string):\n",
    "        raise DigitError\n",
    "    return True"
   ]
  },
  {
   "cell_type": "code",
   "execution_count": 25,
   "id": "42055045-ed0b-407c-ae66-32f2655210d8",
   "metadata": {},
   "outputs": [],
   "source": [
    "# 7.5.9"
   ]
  },
  {
   "cell_type": "code",
   "execution_count": null,
   "id": "0bd49845-2f8c-4719-9d4a-4b1d7c650bb7",
   "metadata": {},
   "outputs": [],
   "source": [
    "import sys\n",
    "class PasswordError(Exception):\n",
    "    pass\n",
    "\n",
    "class LengthError(PasswordError):\n",
    "    pass\n",
    "\n",
    "class LetterError(PasswordError):\n",
    "    pass\n",
    "\n",
    "class DigitError(PasswordError):\n",
    "    pass\n",
    "\n",
    "def is_good_password(string):\n",
    "    if len(string) < 9:\n",
    "        raise LengthError('LengthError')\n",
    "    if not all((any([i.isupper() for i in string]), any([i.islower() for i in string]))):\n",
    "        raise LetterError('LetterError')\n",
    "    if not any([i in string for i in '0123456789']):\n",
    "        raise DigitError('DigitError')\n",
    "    return True\n",
    "\n",
    "for line in sys.stdin:\n",
    "    try:\n",
    "        if is_good_password(line.strip('\\n')):\n",
    "            print('Success!')\n",
    "            break\n",
    "    except Exception as e:\n",
    "        print(e)"
   ]
  }
 ],
 "metadata": {
  "kernelspec": {
   "display_name": "Python 3 (ipykernel)",
   "language": "python",
   "name": "python3"
  },
  "language_info": {
   "codemirror_mode": {
    "name": "ipython",
    "version": 3
   },
   "file_extension": ".py",
   "mimetype": "text/x-python",
   "name": "python",
   "nbconvert_exporter": "python",
   "pygments_lexer": "ipython3",
   "version": "3.11.6"
  }
 },
 "nbformat": 4,
 "nbformat_minor": 5
}
