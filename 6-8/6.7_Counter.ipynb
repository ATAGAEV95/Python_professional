{
 "cells": [
  {
   "cell_type": "code",
   "execution_count": 27,
   "id": "f5033bdb-5207-40d8-94f1-01496cc58667",
   "metadata": {},
   "outputs": [],
   "source": [
    "# 6.7.15"
   ]
  },
  {
   "cell_type": "code",
   "execution_count": null,
   "id": "62dc655f-8119-4ff0-8d1c-4b3c1d38dadd",
   "metadata": {},
   "outputs": [],
   "source": [
    "from collections import Counter\n",
    "\n",
    "files = ['emoji_smile.jpeg', 'city-of-the-sun.mp3', 'dhook_hw.json', 'sample.xml',\n",
    "         'teamspeak3.exe', 'project_module3.py', 'math_lesson3.mp4', 'old_memories.mp4',\n",
    "         'spiritfarer.exe', 'backups.json', 'python_for_beg1.mp4', 'emoji_angry.jpeg',\n",
    "         'exam_results.csv', 'project_main.py', 'classes.csv', 'plants.xml',\n",
    "         'cant-help-myself.mp3', 'microsoft_edge.exe', 'steam.exe', 'math_lesson4.mp4',\n",
    "         'city.jpeg', 'bad-disease.mp3', 'beauty.jpeg', 'hollow_knight_silksong.exe',\n",
    "         'whatsapp.exe', 'photoshop.exe', 'telegram.exe', 'yandex_browser.exe',\n",
    "         'math_lesson7.mp4', 'students.csv', 'emojis.zip', '7z.zip',\n",
    "         'bones.mp3', 'python3.zip', 'dhook_lsns.json', 'carl_backups.json',\n",
    "         'forest.jpeg', 'python_for_pro8.mp4', 'yandexdisc.exe', 'but-you.mp3',\n",
    "         'project_module1.py', 'nothing.xml', 'flowers.jpeg', 'grades.csv',\n",
    "         'nvidia_gf.exe', 'small_txt.zip', 'project_module2.py', 'tab.csv',\n",
    "         'note.xml', 'sony_vegas11.exe', 'friends.jpeg', 'data.pkl']\n",
    "\n",
    "lst = list(map(lambda x: x.split('.')[1], files))\n",
    "counter = Counter(lst)\n",
    "for key, value in sorted(counter.items()):\n",
    "    print(f'{key}: {value}')"
   ]
  },
  {
   "cell_type": "code",
   "execution_count": 36,
   "id": "99d12025-1bf5-4552-8b16-2dec7bc14f1c",
   "metadata": {},
   "outputs": [],
   "source": [
    "# 6.7.16"
   ]
  },
  {
   "cell_type": "code",
   "execution_count": 58,
   "id": "8c731fd2-d9c5-4f07-bb17-2b8146376321",
   "metadata": {},
   "outputs": [],
   "source": [
    "from collections import Counter\n",
    "\n",
    "def count_occurences(word, words):\n",
    "    word, words = word.lower(), words.lower()\n",
    "    counter = Counter(words.split())\n",
    "    return counter[word]"
   ]
  },
  {
   "cell_type": "code",
   "execution_count": 61,
   "id": "98e9d892-8928-4629-90f3-c32cc51dea63",
   "metadata": {},
   "outputs": [],
   "source": [
    "# 6.7.17"
   ]
  },
  {
   "cell_type": "code",
   "execution_count": 67,
   "id": "7b15fd1c-94a7-4998-b7d3-fbf9233616cd",
   "metadata": {},
   "outputs": [
    {
     "name": "stdout",
     "output_type": "stream",
     "text": [
      "банан: 2\n",
      "груша: 1\n",
      "киви: 4\n",
      "лимон: 3\n"
     ]
    }
   ],
   "source": [
    "from collections import Counter\n",
    "\n",
    "counter = Counter(input().split(','))\n",
    "\n",
    "for key, value in sorted(counter.items()):\n",
    "    print(f'{key}: {value}')"
   ]
  },
  {
   "cell_type": "code",
   "execution_count": 68,
   "id": "09d462d7-8440-4181-923d-b19cc6f7e174",
   "metadata": {},
   "outputs": [],
   "source": [
    "# 6.7.18"
   ]
  },
  {
   "cell_type": "code",
   "execution_count": 76,
   "id": "f5e2ced2-fa71-4dae-b7bc-88681197478c",
   "metadata": {},
   "outputs": [
    {
     "name": "stdin",
     "output_type": "stream",
     "text": [
      " рубашка,футболка,футболка,брюки,футболка,сырный соус,рубашка,носки,рубашка\n"
     ]
    },
    {
     "name": "stdout",
     "output_type": "stream",
     "text": [
      "брюки      : 5425 UC x 1 = 5425 UC\n",
      "носки      : 5422 UC x 1 = 5422 UC\n",
      "рубашка    : 7574 UC x 3 = 22722 UC\n",
      "сырный соус: 10896 UC x 1 = 10896 UC\n",
      "футболка   : 8669 UC x 3 = 26007 UC\n"
     ]
    }
   ],
   "source": [
    "from collections import Counter\n",
    "\n",
    "items = input().strip().split(',')\n",
    "\n",
    "item_counts = Counter(items)\n",
    "sorted_items = sorted(item_counts.items())\n",
    "max_length = max(len(item) for item in item_counts.keys())\n",
    "\n",
    "for item, count in sorted_items:\n",
    "    price_per_item = sum(ord(char) for char in item.replace(' ', ''))\n",
    "    total_price = price_per_item * count\n",
    "    print(f\"{item.ljust(max_length)}: {price_per_item} UC x {count} = {total_price} UC\")"
   ]
  },
  {
   "cell_type": "code",
   "execution_count": 77,
   "id": "1deae94d-4c9f-4f31-8696-06ef4439c745",
   "metadata": {},
   "outputs": [],
   "source": [
    "# 6.7.19"
   ]
  },
  {
   "cell_type": "code",
   "execution_count": 108,
   "id": "662490c5-12ed-4e65-95e3-c1bf0a56186e",
   "metadata": {},
   "outputs": [
    {
     "name": "stdout",
     "output_type": "stream",
     "text": [
      "a: 53\n",
      "b: 21\n",
      "c: 17\n",
      "d: 17\n",
      "e: 92\n",
      "f: 12\n",
      "g: 11\n",
      "h: 31\n",
      "i: 53\n",
      "k: 2\n",
      "l: 33\n",
      "m: 16\n",
      "n: 42\n",
      "o: 43\n",
      "p: 22\n",
      "r: 33\n",
      "s: 46\n",
      "t: 79\n",
      "u: 21\n",
      "v: 5\n",
      "w: 4\n",
      "x: 6\n",
      "y: 17\n",
      "z: 1\n"
     ]
    }
   ],
   "source": [
    "from collections import Counter\n",
    "\n",
    "with open('pythonzen.txt', 'r', encoding='utf-8') as file:\n",
    "    words = Counter([char.lower() for char in file.read() if char.isalpha()])\n",
    "    for key, value in sorted(words.items()):\n",
    "        print(f'{key}: {value}')"
   ]
  },
  {
   "cell_type": "code",
   "execution_count": null,
   "id": "cf1d36cb-e5ff-4adc-8421-29bdec21f77e",
   "metadata": {},
   "outputs": [],
   "source": []
  }
 ],
 "metadata": {
  "kernelspec": {
   "display_name": "Python 3 (ipykernel)",
   "language": "python",
   "name": "python3"
  },
  "language_info": {
   "codemirror_mode": {
    "name": "ipython",
    "version": 3
   },
   "file_extension": ".py",
   "mimetype": "text/x-python",
   "name": "python",
   "nbconvert_exporter": "python",
   "pygments_lexer": "ipython3",
   "version": "3.11.6"
  }
 },
 "nbformat": 4,
 "nbformat_minor": 5
}
