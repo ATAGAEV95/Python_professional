{
 "cells": [
  {
   "cell_type": "code",
   "execution_count": 6,
   "id": "a8a1bda3-ab1e-4e7e-b0ad-dfb83620a7f8",
   "metadata": {},
   "outputs": [],
   "source": [
    "# 7.2.20"
   ]
  },
  {
   "cell_type": "code",
   "execution_count": 10,
   "id": "ae54bb7b-e9a3-415f-aa90-08848cb9e546",
   "metadata": {},
   "outputs": [
    {
     "name": "stdout",
     "output_type": "stream",
     "text": [
      "84\n"
     ]
    }
   ],
   "source": [
    "blog_posts = [{'Photos': 3, 'Likes': 21, 'Comments': 2}, \n",
    "              {'Likes': 13, 'Comments': 2, 'Shares': 1}, \n",
    "              {'Photos': 5, 'Likes': 33, 'Comments': 8, 'Shares': 3}, \n",
    "              {'Comments': 4, 'Shares': 2}, \n",
    "              {'Photos': 8, 'Comments': 1, 'Shares': 1}, \n",
    "              {'Photos': 3, 'Likes': 19, 'Comments': 3}]\n",
    "\n",
    "total_likes = 0\n",
    "\n",
    "for post in blog_posts:\n",
    "    try:\n",
    "        total_likes += post['Likes']\n",
    "    except:\n",
    "        total_likes += -1\n",
    "\n",
    "print(total_likes)"
   ]
  },
  {
   "cell_type": "code",
   "execution_count": null,
   "id": "92be44da-923b-457c-a9d4-db6e401317ad",
   "metadata": {},
   "outputs": [],
   "source": [
    "# 7.2.21"
   ]
  },
  {
   "cell_type": "code",
   "execution_count": 12,
   "id": "612c7cc8-4867-487d-af4c-b26db8a786cb",
   "metadata": {},
   "outputs": [
    {
     "name": "stdout",
     "output_type": "stream",
     "text": [
      "['o', 'k', '_', 'w', '_', 't', '_', '_', 'n']\n"
     ]
    }
   ],
   "source": [
    "food = ['chocolate', 'chicken', 'corn', 'sandwich', 'soup', 'potatoes', 'beef', 'lox', 'lemonade']\n",
    "fifth = []\n",
    "\n",
    "for x in food:\n",
    "    try:\n",
    "        fifth.append(x[4])\n",
    "    except:\n",
    "        fifth.append('_')\n",
    "\n",
    "print(fifth)"
   ]
  },
  {
   "cell_type": "code",
   "execution_count": 13,
   "id": "3f5d6afb-4378-43fd-9f55-f531eea84bd6",
   "metadata": {},
   "outputs": [],
   "source": [
    "# 7.2.22"
   ]
  },
  {
   "cell_type": "code",
   "execution_count": 14,
   "id": "c9ab1f4f-1e65-42c6-9c78-11d5c3a4d5dc",
   "metadata": {},
   "outputs": [
    {
     "name": "stdout",
     "output_type": "stream",
     "text": [
      "[0, 0, 4, 0, 0, 0, 36, 36, 0, 13]\n"
     ]
    }
   ],
   "source": [
    "numbers = [6, 0, 36, 8, 2, 36, 0, 12, 60, 0, 45, 0, 3, 23]\n",
    "\n",
    "remainders = []\n",
    "\n",
    "for number in numbers:\n",
    "    try:\n",
    "        remainders.append(36 % number)\n",
    "    except:\n",
    "        continue\n",
    "\n",
    "print(remainders)"
   ]
  },
  {
   "cell_type": "code",
   "execution_count": 15,
   "id": "b01d93da-052d-4539-a661-1553ddc6a975",
   "metadata": {},
   "outputs": [],
   "source": [
    "# 7.2.23"
   ]
  },
  {
   "cell_type": "code",
   "execution_count": null,
   "id": "adfc1361-cdf7-436e-a633-a2e05b13476c",
   "metadata": {},
   "outputs": [],
   "source": [
    "import sys\n",
    "\n",
    "total, count = 0, 0\n",
    "for line in sys.stdin:\n",
    "    try:\n",
    "        total += float(line)\n",
    "    except:\n",
    "        count += 1\n",
    "\n",
    "print(int(total) if int(total) - total == 0 else total)\n",
    "print(count)"
   ]
  }
 ],
 "metadata": {
  "kernelspec": {
   "display_name": "Python 3 (ipykernel)",
   "language": "python",
   "name": "python3"
  },
  "language_info": {
   "codemirror_mode": {
    "name": "ipython",
    "version": 3
   },
   "file_extension": ".py",
   "mimetype": "text/x-python",
   "name": "python",
   "nbconvert_exporter": "python",
   "pygments_lexer": "ipython3",
   "version": "3.11.6"
  }
 },
 "nbformat": 4,
 "nbformat_minor": 5
}
