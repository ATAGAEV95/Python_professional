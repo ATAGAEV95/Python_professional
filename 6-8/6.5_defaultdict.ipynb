{
 "cells": [
  {
   "cell_type": "code",
   "execution_count": 23,
   "id": "d0972b18-ce67-4a20-b06f-d5c6cee00ed5",
   "metadata": {},
   "outputs": [],
   "source": [
    "# 6.5.19"
   ]
  },
  {
   "cell_type": "code",
   "execution_count": 30,
   "id": "78f08737-24e9-42a8-a0ce-cf1d8601f7ed",
   "metadata": {},
   "outputs": [
    {
     "name": "stdout",
     "output_type": "stream",
     "text": [
      "Books: $7969\n",
      "Courses: $2991\n",
      "Merch: $4083\n",
      "Tutorials: $3730\n"
     ]
    }
   ],
   "source": [
    "from collections import defaultdict\n",
    "\n",
    "data = [('Books', 1343), ('Books', 1166), ('Merch', 616), ('Courses', 966), ('Merch', 1145), ('Courses', 1061), ('Books', 848), ('Courses', 964), ('Tutorials', 832), ('Merch', 642), ('Books', 815), ('Tutorials', 1041), ('Books', 1218), ('Tutorials', 880), ('Books', 1003), ('Merch', 951), ('Books', 920), ('Merch', 729), ('Tutorials', 977), ('Books', 656)]\n",
    "\n",
    "profit = defaultdict(int)\n",
    "\n",
    "for key, value in data:\n",
    "    profit[key] += value\n",
    "\n",
    "sorted_profit = dict(sorted(profit.items()))\n",
    "\n",
    "for key, value in sorted_profit.items():\n",
    "    print(f'{key}: ${value}')"
   ]
  },
  {
   "cell_type": "code",
   "execution_count": 31,
   "id": "3717aa46-8f0c-420c-a93d-d0c6ddf0b5b1",
   "metadata": {},
   "outputs": [],
   "source": [
    "# 6.5.20"
   ]
  },
  {
   "cell_type": "code",
   "execution_count": 32,
   "id": "157a62d1-efff-4ad3-9255-220dcc470c42",
   "metadata": {},
   "outputs": [],
   "source": [
    "from collections import defaultdict\n",
    "\n",
    "staff = [('Sales', 'Robert Barnes'), ('Developing', 'Thomas Porter'), ('Accounting', 'James Wilkins'), ('Sales', 'Connie Reid'), ('Accounting', 'Brenda Davis'), ('Developing', 'Miguel Norris'), ('Accounting', 'Linda Hudson'), ('Developing', 'Deborah George'), ('Developing', 'Nicole Watts'), ('Marketing', 'Billy Lloyd'), ('Sales', 'Charlotte Cox'), ('Marketing', 'Bernice Ramos'), ('Sales', 'Jose Taylor'), ('Sales', 'Katie Warner'), ('Accounting', 'Steven Diaz'), ('Accounting', 'Kimberly Reynolds'), ('Accounting', 'John Watts'), ('Accounting', 'Dale Houston'), ('Developing', 'Arlene Gibson'), ('Marketing', 'Joyce Lawrence'), ('Accounting', 'Rosemary Garcia'), ('Marketing', 'Ralph Morgan'), ('Marketing', 'Sam Davis'), ('Marketing', 'Gail Hill'), ('Accounting', 'Michelle Wright'), ('Accounting', 'Casey Jenkins'), ('Sales', 'Evelyn Martin'), ('Accounting', 'Aaron Ferguson'), ('Marketing', 'Andrew Clark'), ('Marketing', 'John Gonzalez'), ('Developing', 'Wilma Woods'), ('Sales', 'Marie Cooper'), ('Accounting', 'Kay Scott'), ('Sales', 'Gladys Taylor'), ('Accounting', 'Ann Bell'), ('Accounting', 'Craig Wood'), ('Accounting', 'Gloria Higgins'), ('Marketing', 'Mario Reynolds'), ('Marketing', 'Helen Taylor'), ('Marketing', 'Mary King'), ('Accounting', 'Jane Jackson'), ('Marketing', 'Carol Peters'), ('Sales', 'Alicia Mendoza'), ('Accounting', 'Edna Cunningham'), ('Developing', 'Joyce Rivera'), ('Sales', 'Joseph Lee'), ('Sales', 'John White'), ('Marketing', 'Charles Bailey'), ('Sales', 'Chester Fernandez'), ('Sales', 'John Washington')]\n",
    "dep = defaultdict(int)\n",
    "\n",
    "for key, value in staff:\n",
    "    dep[key] += 1\n",
    "\n",
    "for char in sorted(dep.items()):\n",
    "    print(f'{char[0]}: {char[1]}')"
   ]
  },
  {
   "cell_type": "code",
   "execution_count": 38,
   "id": "7de9610e-c024-49a0-acf4-b8f80e9145a4",
   "metadata": {},
   "outputs": [],
   "source": [
    "# 6.5.21"
   ]
  },
  {
   "cell_type": "code",
   "execution_count": 67,
   "id": "8d66cfc9-cab9-4839-a944-90869c7d6c97",
   "metadata": {},
   "outputs": [
    {
     "name": "stdout",
     "output_type": "stream",
     "text": [
      "Accounting: Aaron Ferguson, Ann Bell, Brenda Davis, Casey Jenkins, Craig Wood, Dale Houston, Edna Cunningham, Gloria Higgins, James Wilkins, Jane Jackson, John Watts, Kay Scott, Kimberly Reynolds, Linda Hudson, Michelle Wright, Rosemary Garcia, Steven Diaz\n",
      "Developing: Arlene Gibson, Deborah George, Joyce Rivera, Miguel Norris, Nicole Watts, Thomas Porter, Wilma Woods\n",
      "Marketing: Andrew Clark, Bernice Ramos, Billy Lloyd, Carol Peters, Charles Bailey, Gail Hill, Helen Taylor, John Gonzalez, Joyce Lawrence, Mario Reynolds, Mary King, Ralph Morgan, Sam Davis\n",
      "Sales: Alicia Mendoza, Charlotte Cox, Chester Fernandez, Connie Reid, Evelyn Martin, Gladys Taylor, John Washington, John White, Jose Taylor, Joseph Lee, Katie Warner, Marie Cooper, Robert Barnes\n"
     ]
    }
   ],
   "source": [
    "from collections import defaultdict\n",
    "\n",
    "staff_broken = [('Developing', 'Miguel Norris'), ('Sales', 'Connie Reid'), ('Sales', 'Joseph Lee'), ('Marketing', 'Carol Peters'), ('Accounting', 'Linda Hudson'), ('Accounting', 'Ann Bell'), ('Marketing', 'Ralph Morgan'), ('Accounting', 'Gloria Higgins'), ('Developing', 'Wilma Woods'), ('Developing', 'Wilma Woods'), ('Marketing', 'Bernice Ramos'), ('Marketing', 'Joyce Lawrence'), ('Accounting', 'Craig Wood'), ('Developing', 'Nicole Watts'), ('Sales', 'Jose Taylor'), ('Accounting', 'Linda Hudson'), ('Accounting', 'Edna Cunningham'), ('Sales', 'Jose Taylor'), ('Marketing', 'Helen Taylor'), ('Accounting', 'Kimberly Reynolds'), ('Marketing', 'Mary King'), ('Sales', 'Joseph Lee'), ('Accounting', 'Gloria Higgins'), ('Marketing', 'Andrew Clark'), ('Accounting', 'John Watts'), ('Accounting', 'Rosemary Garcia'), ('Accounting', 'Steven Diaz'), ('Marketing', 'Mary King'), ('Sales', 'Gladys Taylor'), ('Developing', 'Thomas Porter'), ('Accounting', 'Brenda Davis'), ('Sales', 'Connie Reid'), ('Sales', 'Alicia Mendoza'), ('Marketing', 'Mario Reynolds'), ('Sales', 'John White'), ('Developing', 'Joyce Rivera'), ('Accounting', 'Steven Diaz'), ('Developing', 'Arlene Gibson'), ('Sales', 'Robert Barnes'), ('Sales', 'Charlotte Cox'), ('Accounting', 'Craig Wood'), ('Marketing', 'Carol Peters'), ('Marketing', 'Ralph Morgan'), ('Accounting', 'Kay Scott'), ('Sales', 'Evelyn Martin'), ('Marketing', 'Billy Lloyd'), ('Sales', 'Gladys Taylor'), ('Developing', 'Deborah George'), ('Sales', 'Charlotte Cox'), ('Marketing', 'Sam Davis'), ('Sales', 'John White'), ('Sales', 'Marie Cooper'), ('Marketing', 'John Gonzalez'), ('Sales', 'John Washington'), ('Sales', 'Chester Fernandez'), ('Sales', 'Alicia Mendoza'), ('Sales', 'Katie Warner'), ('Accounting', 'Jane Jackson'), ('Sales', 'Chester Fernandez'), ('Marketing', 'Charles Bailey'), ('Marketing', 'Gail Hill'), ('Accounting', 'Casey Jenkins'), ('Accounting', 'James Wilkins'), ('Accounting', 'Casey Jenkins'), ('Marketing', 'Mario Reynolds'), ('Accounting', 'Aaron Ferguson'), ('Accounting', 'Kimberly Reynolds'), ('Sales', 'Robert Barnes'), ('Accounting', 'Aaron Ferguson'), ('Accounting', 'Jane Jackson'), ('Developing', 'Deborah George'), ('Accounting', 'Michelle Wright'), ('Accounting', 'Dale Houston')]\n",
    "\n",
    "people = defaultdict(set)\n",
    "\n",
    "for key, value in staff_broken:\n",
    "    people[key].add(value)\n",
    "\n",
    "for key, value in sorted(people.items()):\n",
    "    sorted_names = sorted(value)\n",
    "    print(f\"{key}: {', '.join(sorted_names)}\")"
   ]
  },
  {
   "cell_type": "code",
   "execution_count": 68,
   "id": "d7b9008a-8595-4900-a3e5-1ad5ef9c48ca",
   "metadata": {},
   "outputs": [],
   "source": [
    "# 6.5.22"
   ]
  },
  {
   "cell_type": "code",
   "execution_count": 72,
   "id": "5d50ac93-0dcb-4c18-81f9-e96030b0c7ae",
   "metadata": {},
   "outputs": [],
   "source": [
    "from collections import defaultdict\n",
    "\n",
    "def wins(pairs):\n",
    "    winner = defaultdict(set)\n",
    "    for key, value in pairs:\n",
    "        winner[key].add(value)\n",
    "    return winner    "
   ]
  },
  {
   "cell_type": "code",
   "execution_count": 75,
   "id": "abfe66b4-aea3-40db-988e-02210be9f7de",
   "metadata": {},
   "outputs": [],
   "source": [
    "# 6.5.23"
   ]
  },
  {
   "cell_type": "code",
   "execution_count": 79,
   "id": "df35ac02-e65d-45c9-aadb-8cd046dc255d",
   "metadata": {},
   "outputs": [],
   "source": [
    "from collections import defaultdict\n",
    "\n",
    "def flip_dict(dct):\n",
    "    flip = defaultdict(list)\n",
    "    for key, value in dct.items():\n",
    "        for v in value:\n",
    "            flip[v].append(key)\n",
    "    return flip"
   ]
  },
  {
   "cell_type": "code",
   "execution_count": 83,
   "id": "d12922f6-7dd5-4599-a7e5-9ef4206d5af1",
   "metadata": {},
   "outputs": [],
   "source": [
    "# 6.5.24"
   ]
  },
  {
   "cell_type": "code",
   "execution_count": 96,
   "id": "365d3fd2-25e6-4965-9c43-2c0fde5dd2e9",
   "metadata": {},
   "outputs": [],
   "source": [
    "from collections import defaultdict\n",
    "\n",
    "def best_sender(messages, senders):\n",
    "    dct = defaultdict(int)\n",
    "    for message, sender in zip(messages, senders):\n",
    "        dct[sender] += len(message.split())\n",
    "    return max(dct.items(), key=lambda x: (x[1], len(x[0])))[0]"
   ]
  },
  {
   "cell_type": "code",
   "execution_count": null,
   "id": "ff09449e-01fe-44ac-850e-5c2620786335",
   "metadata": {},
   "outputs": [],
   "source": []
  }
 ],
 "metadata": {
  "kernelspec": {
   "display_name": "Python 3 (ipykernel)",
   "language": "python",
   "name": "python3"
  },
  "language_info": {
   "codemirror_mode": {
    "name": "ipython",
    "version": 3
   },
   "file_extension": ".py",
   "mimetype": "text/x-python",
   "name": "python",
   "nbconvert_exporter": "python",
   "pygments_lexer": "ipython3",
   "version": "3.11.6"
  }
 },
 "nbformat": 4,
 "nbformat_minor": 5
}
