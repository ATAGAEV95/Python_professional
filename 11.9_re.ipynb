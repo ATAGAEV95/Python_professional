{
 "cells": [
  {
   "cell_type": "code",
   "execution_count": 6,
   "id": "fd191aa3-aaf2-4e10-a21e-959854b0548f",
   "metadata": {},
   "outputs": [],
   "source": [
    "# 11.9.10"
   ]
  },
  {
   "cell_type": "code",
   "execution_count": null,
   "id": "7e602bfd-9247-44b4-8a8f-08c3323e5bd4",
   "metadata": {},
   "outputs": [],
   "source": [
    "import re\n",
    "\n",
    "match1 = re.split(r'\\s*[.,;]\\s*', input())\n",
    "\n",
    "print(*match1)"
   ]
  },
  {
   "cell_type": "code",
   "execution_count": 7,
   "id": "c75afb49-a822-4f57-a3d4-ee163be122ec",
   "metadata": {},
   "outputs": [],
   "source": [
    "# 11.9.11"
   ]
  },
  {
   "cell_type": "code",
   "execution_count": null,
   "id": "b6b288ad-99b4-4714-954f-3d32b2e2f833",
   "metadata": {},
   "outputs": [],
   "source": [
    "import re\n",
    "\n",
    "match1 = re.split(r'\\s*(?:and|or|&|\\|)\\s*', input())\n",
    "\n",
    "print(*match1, sep=', ')"
   ]
  },
  {
   "cell_type": "code",
   "execution_count": 9,
   "id": "bf59cc6e-9a1e-4510-8002-f0c84eb42b34",
   "metadata": {},
   "outputs": [],
   "source": [
    "# 11.9.12"
   ]
  },
  {
   "cell_type": "code",
   "execution_count": 45,
   "id": "ee27625c-3502-4155-bfad-80123264d4a9",
   "metadata": {},
   "outputs": [],
   "source": [
    "import re\n",
    "\n",
    "def multiple_split(string, delim):\n",
    "    delim = [re.escape(i) for i in delim]\n",
    "    delim = '|'.join(delim)\n",
    "    return re.split(fr'\\s*{delim}\\s*', string)"
   ]
  },
  {
   "cell_type": "code",
   "execution_count": null,
   "id": "e706689a-a2b2-4803-ad0c-a155eb299e95",
   "metadata": {},
   "outputs": [],
   "source": []
  },
  {
   "cell_type": "code",
   "execution_count": 49,
   "id": "304a9d72-ae00-4206-bfd3-88247d8ca256",
   "metadata": {},
   "outputs": [
    {
     "name": "stdout",
     "output_type": "stream",
     "text": [
      "['25', '2', '69']\n"
     ]
    }
   ],
   "source": [
    "import re\n",
    "\n",
    "regex_obj = re.compile('\\d+')\n",
    "text = 'ул. Часовая, дом № 25, корпус 2, квартира 69'\n",
    "result = re.findall(regex_obj, text)\n",
    "\n",
    "print(result)"
   ]
  },
  {
   "cell_type": "code",
   "execution_count": 50,
   "id": "491ca774-423b-4e00-bb50-4f1fa62c1869",
   "metadata": {},
   "outputs": [
    {
     "name": "stdout",
     "output_type": "stream",
     "text": [
      "['25', '2', '69']\n"
     ]
    }
   ],
   "source": [
    "import re\n",
    "\n",
    "regex_obj = re.compile('\\d+')\n",
    "text = 'ул. Часовая, дом № 25, корпус 2, квартира 69'\n",
    "result = regex_obj.findall(text)\n",
    "\n",
    "print(result)"
   ]
  },
  {
   "cell_type": "code",
   "execution_count": 51,
   "id": "2945cd04-2dd8-4f47-a50c-5f3062075fdc",
   "metadata": {},
   "outputs": [
    {
     "name": "stdout",
     "output_type": "stream",
     "text": [
      "<re.Match object; span=(3, 6), match='BAR'>\n",
      "<re.Match object; span=(3, 6), match='BAR'>\n",
      "<re.Match object; span=(3, 6), match='BAR'>\n"
     ]
    }
   ],
   "source": [
    "import re\n",
    "\n",
    "regex_obj = re.compile('ba[rz]', flags=re.I)\n",
    "\n",
    "result1 = re.search('ba[rz]', 'FOOBARBAZ', flags=re.I)\n",
    "result2 = re.search(regex_obj, 'FOOBARBAZ')\n",
    "result3 = regex_obj.search('FOOBARBAZ')\n",
    "\n",
    "print(result1)\n",
    "print(result2)\n",
    "print(result3)"
   ]
  },
  {
   "cell_type": "code",
   "execution_count": 52,
   "id": "b684b0b6-5e09-479a-81ea-a7bf10ada20a",
   "metadata": {},
   "outputs": [
    {
     "name": "stdout",
     "output_type": "stream",
     "text": [
      "None\n",
      "<re.Match object; span=(3, 6), match='123'>\n",
      "<re.Match object; span=(3, 5), match='99'>\n",
      "None\n"
     ]
    }
   ],
   "source": [
    "import re\n",
    "\n",
    "s1, s2, s3, s4 = 'foo.bar', 'foo123bar', 'baz99', 'qux & grault'\n",
    "\n",
    "regex_obj = re.compile('\\d+')\n",
    "\n",
    "print(regex_obj.search(s1))\n",
    "print(regex_obj.search(s2))\n",
    "print(regex_obj.search(s3))\n",
    "print(regex_obj.search(s4))"
   ]
  },
  {
   "cell_type": "code",
   "execution_count": 53,
   "id": "6dd74453-af08-42a2-ad3b-69a91b42031f",
   "metadata": {},
   "outputs": [
    {
     "name": "stdout",
     "output_type": "stream",
     "text": [
      "<re.Match object; span=(3, 8), match='12345'>\n",
      "<re.Match object; span=(4, 8), match='2345'>\n",
      "<re.Match object; span=(3, 7), match='1234'>\n",
      "<re.Match object; span=(4, 7), match='234'>\n"
     ]
    }
   ],
   "source": [
    "import re\n",
    "\n",
    "regex_obj = re.compile('\\d+')\n",
    "text = 'foo12345barbaz'\n",
    "\n",
    "print(regex_obj.search(text))\n",
    "print(regex_obj.search(text, pos=4))\n",
    "print(regex_obj.search(text, endpos=7))\n",
    "print(regex_obj.search(text, pos=4, endpos=7))"
   ]
  },
  {
   "cell_type": "code",
   "execution_count": 54,
   "id": "a5a0f34c-5eac-42f9-954e-22b984ce5bca",
   "metadata": {},
   "outputs": [],
   "source": [
    "# 11.9.19"
   ]
  },
  {
   "cell_type": "code",
   "execution_count": null,
   "id": "869eff0f-9d2a-451f-a5fa-41b913d30104",
   "metadata": {},
   "outputs": [],
   "source": [
    "import re\n",
    "\n",
    "a, b = list(map(int, input().split()))\n",
    "text = input()\n",
    "\n",
    "regex_obj = re.compile(r'\\d+')\n",
    "match1 = regex_obj.findall(text, pos=a, endpos=b)\n",
    "\n",
    "print(sum(map(int, match1)))"
   ]
  }
 ],
 "metadata": {
  "kernelspec": {
   "display_name": "Python 3 (ipykernel)",
   "language": "python",
   "name": "python3"
  },
  "language_info": {
   "codemirror_mode": {
    "name": "ipython",
    "version": 3
   },
   "file_extension": ".py",
   "mimetype": "text/x-python",
   "name": "python",
   "nbconvert_exporter": "python",
   "pygments_lexer": "ipython3",
   "version": "3.11.6"
  }
 },
 "nbformat": 4,
 "nbformat_minor": 5
}
