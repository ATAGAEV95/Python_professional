{
 "cells": [
  {
   "cell_type": "code",
   "execution_count": 1,
   "id": "2dcdccf6-cd93-4346-ba98-948182ba748e",
   "metadata": {},
   "outputs": [],
   "source": [
    "# 11.2.14"
   ]
  },
  {
   "cell_type": "code",
   "execution_count": null,
   "id": "bbd3a4c9-cc9f-4250-9ab1-0b6ff57835d1",
   "metadata": {},
   "outputs": [],
   "source": [
    "regex = r'ca[rtb]'"
   ]
  },
  {
   "cell_type": "code",
   "execution_count": 2,
   "id": "213a9319-8a4b-4b51-8a24-9bc94abfee5c",
   "metadata": {},
   "outputs": [],
   "source": [
    "# 11.2.15"
   ]
  },
  {
   "cell_type": "code",
   "execution_count": null,
   "id": "039e6d72-229c-436a-a9b7-0e201bb44b44",
   "metadata": {},
   "outputs": [],
   "source": [
    "regex = r'[0-9A-F]'"
   ]
  },
  {
   "cell_type": "code",
   "execution_count": 3,
   "id": "880ad60d-6fed-4768-96bf-a800286572b8",
   "metadata": {},
   "outputs": [],
   "source": [
    "# 11.2.16"
   ]
  },
  {
   "cell_type": "code",
   "execution_count": null,
   "id": "7e3450fa-8422-473a-9542-15b87868566a",
   "metadata": {},
   "outputs": [],
   "source": [
    "regex = r'[A-Za-z]\\d{4}'"
   ]
  },
  {
   "cell_type": "code",
   "execution_count": 3,
   "id": "af86918f-6fa6-443a-b22a-c9780c585ef7",
   "metadata": {},
   "outputs": [],
   "source": [
    "# 11.2.17"
   ]
  },
  {
   "cell_type": "code",
   "execution_count": null,
   "id": "3a3ec707-6ffb-42bd-8818-ae2ac0d401ac",
   "metadata": {},
   "outputs": [],
   "source": [
    "regex = r'[a-z]\\d[a-z][A-Z]{2}'"
   ]
  },
  {
   "cell_type": "code",
   "execution_count": 4,
   "id": "1bc2b905-1926-4e12-9e4d-bf00b73d937b",
   "metadata": {},
   "outputs": [],
   "source": [
    "# 11.2.18"
   ]
  },
  {
   "cell_type": "code",
   "execution_count": null,
   "id": "91d8d0d3-6b50-4dd5-8bf2-d6b909ac9e7a",
   "metadata": {},
   "outputs": [],
   "source": [
    "regex = r'\\d[aeiouy][^bcDF]\\S[^AEIOUY][^.,]'"
   ]
  },
  {
   "cell_type": "code",
   "execution_count": 5,
   "id": "2feba7b5-8dd2-4bf5-be5e-0cc3df1b9f6d",
   "metadata": {},
   "outputs": [],
   "source": [
    "# 11.2.19"
   ]
  },
  {
   "cell_type": "code",
   "execution_count": null,
   "id": "687157d5-6254-47cd-ac9c-6ca1ce221748",
   "metadata": {},
   "outputs": [],
   "source": [
    "regex = r'[1-3][0-2][12x][03aA][xsu][.,]'"
   ]
  },
  {
   "cell_type": "code",
   "execution_count": 6,
   "id": "da39ead0-2195-498a-96c7-7ce3cd650dab",
   "metadata": {},
   "outputs": [],
   "source": [
    "# 11.2.20"
   ]
  },
  {
   "cell_type": "code",
   "execution_count": null,
   "id": "96c54bf8-a5d8-4f25-8532-3d068c9eec68",
   "metadata": {},
   "outputs": [],
   "source": [
    "regex = r'\\+7\\d{10}|\\+7\\(\\d{3}\\)\\d{7}|\\+7\\(\\d{3}\\)-\\d{3}-\\d{2}-\\d{2}|\\+7\\s\\d{3}\\s\\d{3}\\s\\d{2}\\s\\d{2}'"
   ]
  },
  {
   "cell_type": "code",
   "execution_count": 7,
   "id": "c9adadc4-a8d1-4045-a996-5314bf720a0f",
   "metadata": {},
   "outputs": [],
   "source": [
    "# 11.2.21"
   ]
  },
  {
   "cell_type": "code",
   "execution_count": null,
   "id": "c8b4b9f1-019e-470f-a152-7c71c73e984e",
   "metadata": {},
   "outputs": [],
   "source": [
    "regex = r'\\d\\d\\.\\d\\d\\.\\d{4}|\\d\\d/\\d\\d/\\d{4}|\\d{4}\\.\\d\\d\\.\\d\\d|\\d{4}/\\d\\d/\\d\\d'"
   ]
  },
  {
   "cell_type": "code",
   "execution_count": 8,
   "id": "465ba1cf-39b3-438b-9df9-834ef9f62a51",
   "metadata": {},
   "outputs": [],
   "source": [
    "# 11.2.22"
   ]
  },
  {
   "cell_type": "code",
   "execution_count": null,
   "id": "17fdd739-2ea1-443b-851a-b79f46e8bcc8",
   "metadata": {},
   "outputs": [],
   "source": [
    "regex = r'([01]\\d|2[0-3]):[0-5]\\d'"
   ]
  }
 ],
 "metadata": {
  "kernelspec": {
   "display_name": "Python 3 (ipykernel)",
   "language": "python",
   "name": "python3"
  },
  "language_info": {
   "codemirror_mode": {
    "name": "ipython",
    "version": 3
   },
   "file_extension": ".py",
   "mimetype": "text/x-python",
   "name": "python",
   "nbconvert_exporter": "python",
   "pygments_lexer": "ipython3",
   "version": "3.11.6"
  }
 },
 "nbformat": 4,
 "nbformat_minor": 5
}
