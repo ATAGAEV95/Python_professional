{
 "cells": [
  {
   "cell_type": "code",
   "execution_count": 2,
   "id": "6b6bb9b2-c0ce-458f-a43f-1446e54b5e7c",
   "metadata": {},
   "outputs": [],
   "source": [
    "# 11.1.6"
   ]
  },
  {
   "cell_type": "code",
   "execution_count": null,
   "id": "ac32b01e-192c-4869-8a38-516d14a1bbde",
   "metadata": {},
   "outputs": [],
   "source": [
    "import re\n",
    "\n",
    "regex = r'(7-\\d{3}-\\d{3}-\\d{2}-\\d{2}|8-\\d{3}-\\d{4}-\\d{4})'\n",
    "matches = re.findall(regex, input())\n",
    "\n",
    "for match in matches:\n",
    "    print(match)"
   ]
  },
  {
   "cell_type": "code",
   "execution_count": 2,
   "id": "161a9b42-b5bb-4ec1-aef1-30d8ac095e46",
   "metadata": {},
   "outputs": [],
   "source": [
    "# 11.1.21"
   ]
  },
  {
   "cell_type": "code",
   "execution_count": null,
   "id": "274f2bf4-aa23-4d75-a6fc-59da2b16adf1",
   "metadata": {},
   "outputs": [],
   "source": [
    "regex = r'beegeek'"
   ]
  },
  {
   "cell_type": "code",
   "execution_count": 2,
   "id": "c21acb60-07eb-4702-834a-f5c1ccaa381a",
   "metadata": {},
   "outputs": [],
   "source": [
    "# 11.1.22"
   ]
  },
  {
   "cell_type": "code",
   "execution_count": null,
   "id": "481a48d1-54d5-4713-a706-35297453a781",
   "metadata": {},
   "outputs": [],
   "source": [
    "regex = r'...\\....'"
   ]
  },
  {
   "cell_type": "code",
   "execution_count": 14,
   "id": "47d6ce47-459c-4c73-af5f-c8aaa6b26b3e",
   "metadata": {},
   "outputs": [],
   "source": [
    "# 11.1.23"
   ]
  },
  {
   "cell_type": "code",
   "execution_count": null,
   "id": "e081afc8-cb02-4c64-8008-59c6fef32bb2",
   "metadata": {},
   "outputs": [],
   "source": [
    "regex = r'1\\d\\d'"
   ]
  },
  {
   "cell_type": "code",
   "execution_count": 15,
   "id": "7131dbe1-cd13-424e-9784-a40c4f2054ce",
   "metadata": {},
   "outputs": [],
   "source": [
    "# 11.1.24"
   ]
  },
  {
   "cell_type": "code",
   "execution_count": null,
   "id": "2dd4da36-852a-403e-9a78-ac4414d83249",
   "metadata": {},
   "outputs": [],
   "source": [
    "regex = r'\\d{3}-\\d{3}-\\d{4}'"
   ]
  }
 ],
 "metadata": {
  "kernelspec": {
   "display_name": "Python 3 (ipykernel)",
   "language": "python",
   "name": "python3"
  },
  "language_info": {
   "codemirror_mode": {
    "name": "ipython",
    "version": 3
   },
   "file_extension": ".py",
   "mimetype": "text/x-python",
   "name": "python",
   "nbconvert_exporter": "python",
   "pygments_lexer": "ipython3",
   "version": "3.11.6"
  }
 },
 "nbformat": 4,
 "nbformat_minor": 5
}
