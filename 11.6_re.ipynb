{
 "cells": [
  {
   "cell_type": "code",
   "execution_count": 18,
   "id": "eeef1fa2-8a37-4cb5-b096-2658bc30f91c",
   "metadata": {},
   "outputs": [],
   "source": [
    "# 11.6.9"
   ]
  },
  {
   "cell_type": "code",
   "execution_count": null,
   "id": "32d18c08-2cf8-4d88-ac6d-ba8312d428d4",
   "metadata": {},
   "outputs": [],
   "source": [
    "import re, sys\n",
    "\n",
    "for line in [line.strip() for line in sys.stdin]:\n",
    "    match1 = re.search(r'(\\d{1,3})[- ](\\d{1,3})[- ](\\d{4,10})', line)\n",
    "    print(f\"Код страны: {match1.group(1)}, Код города: {match1.group(2)}, Номер: {match1.group(3)}\")"
   ]
  },
  {
   "cell_type": "code",
   "execution_count": 18,
   "id": "61353d99-32c1-49b9-b8d1-71b6741afaa1",
   "metadata": {},
   "outputs": [],
   "source": [
    "# 11.6.10"
   ]
  },
  {
   "cell_type": "code",
   "execution_count": null,
   "id": "fceafb1e-19b3-42b8-9ef4-07dcca498925",
   "metadata": {},
   "outputs": [],
   "source": [
    "import re, sys\n",
    "\n",
    "for line in sys.stdin:\n",
    "    match1 = re.fullmatch(r'_\\d{1,}[A-Za-z]*_?', line.strip())\n",
    "    print(bool(match1))"
   ]
  },
  {
   "cell_type": "code",
   "execution_count": 19,
   "id": "987a2554-594f-40ec-8c4a-a1d909a96716",
   "metadata": {},
   "outputs": [],
   "source": [
    "# 11.6.11"
   ]
  },
  {
   "cell_type": "code",
   "execution_count": null,
   "id": "bfd54ecb-a2b7-42cb-b35f-dc32d716b280",
   "metadata": {},
   "outputs": [],
   "source": [
    "import re, sys\n",
    "\n",
    "for line in sys.stdin:\n",
    "    match1 = re.fullmatch(r'(\\w+)\\1', line.strip())\n",
    "    if match1:\n",
    "        print(match1.group()) "
   ]
  },
  {
   "cell_type": "code",
   "execution_count": 21,
   "id": "f885a91f-9ee0-4e68-9a12-ebfb39a46aa3",
   "metadata": {},
   "outputs": [],
   "source": [
    "# 11.6.12"
   ]
  },
  {
   "cell_type": "code",
   "execution_count": null,
   "id": "c7953153-b322-480b-9abb-e327c5d2962a",
   "metadata": {},
   "outputs": [],
   "source": [
    "import re, sys\n",
    "\n",
    "bee, geek = 0, 0\n",
    "\n",
    "for line in sys.stdin:\n",
    "    match1 = re.search(r'bee.*bee', line.strip())\n",
    "    match2 = re.search(r'\\bgeek\\b', line.strip())\n",
    "    if match1:\n",
    "        bee += 1\n",
    "    if match2:\n",
    "        geek += 1\n",
    "        \n",
    "print(bee, geek, sep='\\n')"
   ]
  },
  {
   "cell_type": "code",
   "execution_count": null,
   "id": "5cb4f698-a307-433f-9761-92f4bf1e39e1",
   "metadata": {},
   "outputs": [],
   "source": [
    "import re, sys\n",
    "\n",
    "l = [i.strip() for i in sys.stdin]\n",
    "print(sum(1 for i in l if re.search(r'.*(bee).*\\1.*', i.strip())))\n",
    "print(sum(1 for i in l if re.search(r'\\w*\\bgeek\\b\\w*', i.strip())))"
   ]
  },
  {
   "cell_type": "code",
   "execution_count": 22,
   "id": "9257e8f7-da63-4809-b039-897ba9f617f9",
   "metadata": {},
   "outputs": [],
   "source": [
    "# 11.6.13"
   ]
  },
  {
   "cell_type": "code",
   "execution_count": null,
   "id": "6d4e2c1d-8aca-4d05-b5b0-001105d61aff",
   "metadata": {},
   "outputs": [],
   "source": [
    "import re, sys\n",
    "\n",
    "points = 0\n",
    "\n",
    "lst = [line.strip() for line in sys.stdin]\n",
    "for text in lst:\n",
    "    if re.fullmatch(r'beegeek.*beegeek', text):\n",
    "        points += 3\n",
    "    elif re.fullmatch(r'^beegeek.*|.*beegeek$', text):\n",
    "        points += 2\n",
    "    elif re.fullmatch(r'.+beegeek.+', text):\n",
    "        points += 1\n",
    "        \n",
    "print(points)"
   ]
  },
  {
   "cell_type": "code",
   "execution_count": 2,
   "id": "e32936b9-4778-414a-9306-3491fcd7b376",
   "metadata": {},
   "outputs": [],
   "source": [
    "# 11.6.19"
   ]
  },
  {
   "cell_type": "code",
   "execution_count": 18,
   "id": "368a4536-eb77-42c1-884f-6ed082373528",
   "metadata": {},
   "outputs": [
    {
     "name": "stdout",
     "output_type": "stream",
     "text": [
      "True\n"
     ]
    }
   ],
   "source": [
    "import re\n",
    "\n",
    "string = input()\n",
    "patt = r'здравствуйте|доброе утро|добрый день|добрый вечер'\n",
    "match1 = re.match(patt, string, re.I)\n",
    "\n",
    "print(True if match1 else False)"
   ]
  },
  {
   "cell_type": "code",
   "execution_count": 19,
   "id": "6b8259fa-8082-43d2-a3b5-2acc46825ec9",
   "metadata": {},
   "outputs": [],
   "source": [
    "# 11.6.20"
   ]
  },
  {
   "cell_type": "code",
   "execution_count": null,
   "id": "f4311bb8-a99a-4a88-bf62-de3367835969",
   "metadata": {},
   "outputs": [],
   "source": [
    "import sys, re\n",
    "\n",
    "lst = [line.strip() for line in sys.stdin]\n",
    "print(sum(1 for item in lst if re.search(r'beegeek', item, re.I)))"
   ]
  }
 ],
 "metadata": {
  "kernelspec": {
   "display_name": "Python 3 (ipykernel)",
   "language": "python",
   "name": "python3"
  },
  "language_info": {
   "codemirror_mode": {
    "name": "ipython",
    "version": 3
   },
   "file_extension": ".py",
   "mimetype": "text/x-python",
   "name": "python",
   "nbconvert_exporter": "python",
   "pygments_lexer": "ipython3",
   "version": "3.11.6"
  }
 },
 "nbformat": 4,
 "nbformat_minor": 5
}
