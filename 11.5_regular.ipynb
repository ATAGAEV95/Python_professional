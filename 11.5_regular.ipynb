{
 "cells": [
  {
   "cell_type": "code",
   "execution_count": 1,
   "id": "b25ec471-676c-42c0-80ce-e86e47c07d69",
   "metadata": {},
   "outputs": [],
   "source": [
    "# 10.5.5"
   ]
  },
  {
   "cell_type": "code",
   "execution_count": null,
   "id": "ad27c5f0-80fc-452e-8175-b2de4cb9d52d",
   "metadata": {},
   "outputs": [],
   "source": [
    "regex = r'\\d{5}(-\\d{4})?'"
   ]
  },
  {
   "cell_type": "code",
   "execution_count": 2,
   "id": "2b83efca-dd04-4d6b-a406-26f57118782d",
   "metadata": {},
   "outputs": [],
   "source": [
    "# 10.5.6"
   ]
  },
  {
   "cell_type": "code",
   "execution_count": null,
   "id": "c98e2b57-93db-49fc-8d99-8668ea6f848c",
   "metadata": {},
   "outputs": [],
   "source": [
    "regex = r'(\\([2-9]\\d{2}\\)|[2-9]\\d{2})(\\s|-)[2-9]\\d{2}-\\d{4}'"
   ]
  },
  {
   "cell_type": "code",
   "execution_count": 2,
   "id": "263c5c4f-5341-4634-8dc7-d8e7e3c09804",
   "metadata": {},
   "outputs": [],
   "source": [
    "# 10.5.7"
   ]
  },
  {
   "cell_type": "code",
   "execution_count": null,
   "id": "e11fe41d-cdc7-412e-bc62-8c8fd2919899",
   "metadata": {},
   "outputs": [],
   "source": [
    "regex = r'(bee(geek)+)+'"
   ]
  },
  {
   "cell_type": "code",
   "execution_count": 3,
   "id": "76d38b5f-dda0-4754-b185-09ff6779e618",
   "metadata": {},
   "outputs": [],
   "source": [
    "# 10.5.12"
   ]
  },
  {
   "cell_type": "code",
   "execution_count": null,
   "id": "3d4262dd-47ab-4975-8181-61e7a4ac2504",
   "metadata": {},
   "outputs": [],
   "source": [
    "regex = r'([a-z])(\\w)([A-Z])\\1\\2\\3'"
   ]
  },
  {
   "cell_type": "code",
   "execution_count": 3,
   "id": "18d80867-cc05-414a-a9bc-e2bf6f0b6fdd",
   "metadata": {},
   "outputs": [],
   "source": [
    "# 10.5.13"
   ]
  },
  {
   "cell_type": "code",
   "execution_count": null,
   "id": "17d71e83-d2ae-460d-a359-f841cc62757b",
   "metadata": {},
   "outputs": [],
   "source": [
    "regex = r'(ok)\\1\\1+'"
   ]
  },
  {
   "cell_type": "code",
   "execution_count": 4,
   "id": "975af013-1a29-4a8d-9c89-3c4f1abb7a7e",
   "metadata": {},
   "outputs": [],
   "source": [
    "# 10.5.14"
   ]
  },
  {
   "cell_type": "code",
   "execution_count": null,
   "id": "78143863-a2fc-47f7-a57d-cfb754771555",
   "metadata": {},
   "outputs": [],
   "source": [
    "regex = r'(.)(.)(.)(.).\\4\\3\\2\\1'"
   ]
  },
  {
   "cell_type": "code",
   "execution_count": 5,
   "id": "382bd071-1ff6-4cf9-bc84-da1216be83aa",
   "metadata": {},
   "outputs": [],
   "source": [
    "# 10.5.15"
   ]
  },
  {
   "cell_type": "code",
   "execution_count": null,
   "id": "bf72d818-18b2-46c9-8424-85cb9046d041",
   "metadata": {},
   "outputs": [],
   "source": [
    "regex = r'\\w*(\\w)\\w*\\1\\w*'"
   ]
  },
  {
   "cell_type": "code",
   "execution_count": 6,
   "id": "872fc08f-e5b4-4314-9cbf-c32d9dab25da",
   "metadata": {},
   "outputs": [],
   "source": [
    "# 10.5.16"
   ]
  },
  {
   "cell_type": "code",
   "execution_count": null,
   "id": "0cc86cb0-2433-42ae-92a7-089f3e4dfbc4",
   "metadata": {},
   "outputs": [],
   "source": [
    "regex = r'\\d\\d(-?)\\d\\d\\1\\d\\d\\1\\d\\d'"
   ]
  },
  {
   "cell_type": "code",
   "execution_count": 7,
   "id": "d087cff3-cc0f-4a76-927a-e94bfd354d43",
   "metadata": {},
   "outputs": [],
   "source": [
    "# 10.5.17"
   ]
  },
  {
   "cell_type": "code",
   "execution_count": null,
   "id": "a0a20a10-2d08-43f4-9871-817c2ebced24",
   "metadata": {},
   "outputs": [],
   "source": [
    "regex = r'\\d\\d(-|---|\\.?)\\d\\d\\1\\d\\d\\1\\d\\d'"
   ]
  },
  {
   "cell_type": "code",
   "execution_count": 8,
   "id": "ecbe8562-dec6-471b-942e-487f66cdb0b7",
   "metadata": {},
   "outputs": [],
   "source": [
    "# 10.5.18"
   ]
  },
  {
   "cell_type": "code",
   "execution_count": null,
   "id": "e2902ba9-aa0f-4f0f-b1fe-dad623687923",
   "metadata": {},
   "outputs": [],
   "source": [
    "regex = r'(\\b\\w+\\b)\\s+\\1\\b'"
   ]
  }
 ],
 "metadata": {
  "kernelspec": {
   "display_name": "Python 3 (ipykernel)",
   "language": "python",
   "name": "python3"
  },
  "language_info": {
   "codemirror_mode": {
    "name": "ipython",
    "version": 3
   },
   "file_extension": ".py",
   "mimetype": "text/x-python",
   "name": "python",
   "nbconvert_exporter": "python",
   "pygments_lexer": "ipython3",
   "version": "3.11.6"
  }
 },
 "nbformat": 4,
 "nbformat_minor": 5
}
