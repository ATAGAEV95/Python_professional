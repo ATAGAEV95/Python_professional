{
 "cells": [
  {
   "cell_type": "code",
   "execution_count": 18,
   "id": "d729dd41-8fe2-4261-a1dd-7593df2b4aec",
   "metadata": {},
   "outputs": [],
   "source": [
    "# 11.8.9"
   ]
  },
  {
   "cell_type": "code",
   "execution_count": 40,
   "id": "4bd829e6-1224-4f99-a964-9f9928568af7",
   "metadata": {},
   "outputs": [],
   "source": [
    "import re\n",
    "\n",
    "def normalize_jpeg(filename):\n",
    "    return re.sub(r'(jpe?g)$', r'jpg', filename, flags=re.I)"
   ]
  },
  {
   "cell_type": "code",
   "execution_count": 45,
   "id": "c29cae84-2b6f-45e9-8df0-31d1c91de184",
   "metadata": {},
   "outputs": [],
   "source": [
    "# 11.8.10"
   ]
  },
  {
   "cell_type": "code",
   "execution_count": 78,
   "id": "6456d078-5a07-4b5f-b9e7-99af1f64e0d0",
   "metadata": {},
   "outputs": [],
   "source": [
    "import re\n",
    "\n",
    "def normalize_whitespace(string):\n",
    "    return re.sub(r' +', r' ', string)"
   ]
  },
  {
   "cell_type": "code",
   "execution_count": 82,
   "id": "9bf9008d-1074-4197-adaa-9a16cf55facd",
   "metadata": {},
   "outputs": [],
   "source": [
    "# 11.8.11"
   ]
  },
  {
   "cell_type": "code",
   "execution_count": null,
   "id": "a560802b-cf2a-48e6-8106-da2b39db9c6e",
   "metadata": {},
   "outputs": [],
   "source": [
    "import re, keyword\n",
    "\n",
    "pattern = '|'.join(keyword.kwlist)\n",
    "print(re.sub(fr\"\\b({pattern})\\b\", r'<kw>', input(), flags = re.I))"
   ]
  },
  {
   "cell_type": "code",
   "execution_count": 84,
   "id": "77af1fb8-1c48-4ab9-8a08-28dfca35841c",
   "metadata": {},
   "outputs": [],
   "source": [
    "# 11.8.12"
   ]
  },
  {
   "cell_type": "code",
   "execution_count": null,
   "id": "0c4a7fbe-1b99-405a-a035-dc87305e3c6e",
   "metadata": {},
   "outputs": [],
   "source": [
    "import re\n",
    "\n",
    "print(re.sub(r'\\b(\\w)(\\w)', r'\\2\\1', input()))"
   ]
  },
  {
   "cell_type": "code",
   "execution_count": 85,
   "id": "bf317e06-3056-4a91-9753-3aacf5d17d77",
   "metadata": {},
   "outputs": [],
   "source": [
    "# 11.8.13"
   ]
  },
  {
   "cell_type": "code",
   "execution_count": null,
   "id": "2b2a8aa9-d6ec-43f4-a311-c0591fe88e9b",
   "metadata": {},
   "outputs": [],
   "source": [
    "import re\n",
    "\n",
    "def func(text):\n",
    "    num, text = text.groups()\n",
    "    return text * int(num)\n",
    "\n",
    "text = input()\n",
    "while \"(\" in text:\n",
    "    text = re.sub(r\"(\\d+)\\((\\w+)\\)\", func, text)\n",
    "print(text)"
   ]
  },
  {
   "cell_type": "code",
   "execution_count": 86,
   "id": "efa2b423-df4e-4209-beed-43af41a5962a",
   "metadata": {},
   "outputs": [],
   "source": [
    "# 11.8.14"
   ]
  },
  {
   "cell_type": "code",
   "execution_count": null,
   "id": "a16171af-e630-4023-b1ba-9f7d6c39c24e",
   "metadata": {},
   "outputs": [],
   "source": [
    "import re\n",
    "\n",
    "text = input()\n",
    "match1 = re.sub(r'(\\b\\w+\\b)(?:\\W+\\1\\b)+', r'\\1', text)\n",
    "\n",
    "print(match1)"
   ]
  },
  {
   "cell_type": "code",
   "execution_count": 95,
   "id": "6bdb1be0-c6fb-48fa-94d8-8a974c1910d6",
   "metadata": {},
   "outputs": [],
   "source": [
    "# 11.8.15"
   ]
  },
  {
   "cell_type": "code",
   "execution_count": null,
   "id": "484c6a8c-f440-467c-883e-04c3405f03a2",
   "metadata": {},
   "outputs": [],
   "source": [
    "import re, sys\n",
    "\n",
    "text = sys.stdin.read()\n",
    "match2 = re.sub(r'(\\s*\"\"\".*?\"\"\")|(\\n? *#.*?$)', '', text, flags=re.S | re.M)\n",
    "\n",
    "print(match2)"
   ]
  }
 ],
 "metadata": {
  "kernelspec": {
   "display_name": "Python 3 (ipykernel)",
   "language": "python",
   "name": "python3"
  },
  "language_info": {
   "codemirror_mode": {
    "name": "ipython",
    "version": 3
   },
   "file_extension": ".py",
   "mimetype": "text/x-python",
   "name": "python",
   "nbconvert_exporter": "python",
   "pygments_lexer": "ipython3",
   "version": "3.11.6"
  }
 },
 "nbformat": 4,
 "nbformat_minor": 5
}
