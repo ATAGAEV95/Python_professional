{
 "cells": [
  {
   "cell_type": "code",
   "execution_count": 1,
   "id": "3e91396b-6624-4d35-899e-6c18749f29b3",
   "metadata": {},
   "outputs": [],
   "source": [
    "# 11.3.17"
   ]
  },
  {
   "cell_type": "code",
   "execution_count": null,
   "id": "36071de7-590a-4965-aeac-8cdcb553b9b6",
   "metadata": {},
   "outputs": [],
   "source": [
    "regex = r'[A-Z]{5}\\d{4}[A-Z]'"
   ]
  },
  {
   "cell_type": "code",
   "execution_count": 2,
   "id": "823e7ec2-fdfd-42f5-b395-ea48e4967407",
   "metadata": {},
   "outputs": [],
   "source": [
    "# 11.3.18"
   ]
  },
  {
   "cell_type": "code",
   "execution_count": null,
   "id": "241be2e9-07f3-4887-9717-0726840007b4",
   "metadata": {},
   "outputs": [],
   "source": [
    "regex = r'<!--.*?-->'"
   ]
  },
  {
   "cell_type": "code",
   "execution_count": 3,
   "id": "c1bc29d7-e49b-4ef4-b19b-8fe71b287573",
   "metadata": {},
   "outputs": [],
   "source": [
    "# 11.3.19"
   ]
  },
  {
   "cell_type": "code",
   "execution_count": null,
   "id": "a3266834-fb2a-4792-adbf-c845f850a4f6",
   "metadata": {},
   "outputs": [],
   "source": [
    "regex = r'[a-z]{0,3}\\d{2,8}[A-Z]{3,}'"
   ]
  },
  {
   "cell_type": "code",
   "execution_count": 3,
   "id": "5bc71e11-9d9e-46ce-a028-713429994d9b",
   "metadata": {},
   "outputs": [],
   "source": [
    "# 11.3.20"
   ]
  },
  {
   "cell_type": "code",
   "execution_count": null,
   "id": "9b37bd49-db78-43b8-aa70-66b47b339c05",
   "metadata": {},
   "outputs": [],
   "source": [
    "regex = r'[A-Z]{1,2}\\d[0-9A-Z]?\\s\\d[ABD-HJLNP-UW-Z]{2}'"
   ]
  }
 ],
 "metadata": {
  "kernelspec": {
   "display_name": "Python 3 (ipykernel)",
   "language": "python",
   "name": "python3"
  },
  "language_info": {
   "codemirror_mode": {
    "name": "ipython",
    "version": 3
   },
   "file_extension": ".py",
   "mimetype": "text/x-python",
   "name": "python",
   "nbconvert_exporter": "python",
   "pygments_lexer": "ipython3",
   "version": "3.11.6"
  }
 },
 "nbformat": 4,
 "nbformat_minor": 5
}
