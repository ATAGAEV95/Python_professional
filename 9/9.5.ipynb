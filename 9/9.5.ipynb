{
 "cells": [
  {
   "cell_type": "code",
   "execution_count": 14,
   "id": "198c3017-d47f-45a0-a1b3-330e1e30c8f0",
   "metadata": {},
   "outputs": [],
   "source": [
    "# 9.5.16"
   ]
  },
  {
   "cell_type": "code",
   "execution_count": 35,
   "id": "05d56a57-00dd-46de-ada1-4dcc17c293f2",
   "metadata": {},
   "outputs": [],
   "source": [
    "def power(degree):\n",
    "    def square(x):\n",
    "        return x ** degree\n",
    "    return square "
   ]
  },
  {
   "cell_type": "code",
   "execution_count": 39,
   "id": "6a57465d-1f6c-4dd6-8a38-47622f51ca79",
   "metadata": {},
   "outputs": [],
   "source": [
    "# 9.5.17"
   ]
  },
  {
   "cell_type": "code",
   "execution_count": 40,
   "id": "9e188713-c827-40ee-95b7-7e625f01f152",
   "metadata": {},
   "outputs": [],
   "source": [
    "def generator_square_polynom(a, b, c):\n",
    "    def f(x):\n",
    "        return a * x ** 2 + b * x + c\n",
    "    return f"
   ]
  },
  {
   "cell_type": "code",
   "execution_count": 44,
   "id": "c8d34d9e-7b0f-4255-b6a5-74bd487509bc",
   "metadata": {},
   "outputs": [],
   "source": [
    "# 9.5.18"
   ]
  },
  {
   "cell_type": "code",
   "execution_count": null,
   "id": "28557965-8b92-4098-ab60-0ed70a17861b",
   "metadata": {},
   "outputs": [],
   "source": [
    "def sourcetemplate(url):\n",
    "    def generate_url(**kwargs):\n",
    "        if not kwargs:\n",
    "            return url\n",
    "        query_string = '&'.join(f\"{key}={value}\" for key, value in sorted(kwargs.items()))\n",
    "        return f\"{url}?{query_string}\"\n",
    "    return generate_url"
   ]
  },
  {
   "cell_type": "code",
   "execution_count": 45,
   "id": "2546cb52-1134-4eb0-9ae7-655433c75cc0",
   "metadata": {},
   "outputs": [],
   "source": [
    "# 9.5.19"
   ]
  },
  {
   "cell_type": "code",
   "execution_count": 46,
   "id": "ed24c9e0-fb8a-4b53-ae43-06ebcf878fa8",
   "metadata": {},
   "outputs": [],
   "source": [
    "from datetime import date\n",
    "\n",
    "def date_formatter(cc):\n",
    "    def date_country(dt):\n",
    "        loc = {'ru': '%d.%m.%Y', 'us': '%m-%d-%Y',\n",
    "                'ca': '%Y-%m-%d', 'br': '%d/%m/%Y',\n",
    "                'fr': '%d.%m.%Y', 'pt': '%d-%m-%Y'}\n",
    "        return dt.strftime(loc[cc])\n",
    "    return date_country"
   ]
  },
  {
   "cell_type": "code",
   "execution_count": 48,
   "id": "e34f47bb-7bea-49e3-9731-11cdc94c7bce",
   "metadata": {},
   "outputs": [],
   "source": [
    "# 9.5.20"
   ]
  },
  {
   "cell_type": "code",
   "execution_count": 49,
   "id": "34bf61b5-91d3-4f40-9a6a-8aaa01c8a4e9",
   "metadata": {},
   "outputs": [],
   "source": [
    "def sort_priority(values, group):\n",
    "    return values.sort(key=lambda x: (x not in group, x))"
   ]
  }
 ],
 "metadata": {
  "kernelspec": {
   "display_name": "Python 3 (ipykernel)",
   "language": "python",
   "name": "python3"
  },
  "language_info": {
   "codemirror_mode": {
    "name": "ipython",
    "version": 3
   },
   "file_extension": ".py",
   "mimetype": "text/x-python",
   "name": "python",
   "nbconvert_exporter": "python",
   "pygments_lexer": "ipython3",
   "version": "3.11.6"
  }
 },
 "nbformat": 4,
 "nbformat_minor": 5
}
