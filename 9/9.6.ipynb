{
 "cells": [
  {
   "cell_type": "code",
   "execution_count": 15,
   "id": "373a169d-52b0-456d-a463-94ac1e9ebfa5",
   "metadata": {},
   "outputs": [],
   "source": [
    "# 9.6.14"
   ]
  },
  {
   "cell_type": "code",
   "execution_count": 36,
   "id": "e54663b6-6236-425e-ba4d-412452e9c924",
   "metadata": {},
   "outputs": [],
   "source": [
    "def get_digits(number: int | float) -> list[int]:\n",
    "    return [int(i) for i in str(number) if i.isdigit()]"
   ]
  },
  {
   "cell_type": "code",
   "execution_count": 40,
   "id": "d8aff9b4-4529-4e27-8db8-f62865557415",
   "metadata": {},
   "outputs": [],
   "source": [
    "# 9.6.15"
   ]
  },
  {
   "cell_type": "code",
   "execution_count": 4,
   "id": "3e7feaa2-8a67-471e-85a1-85047591bdac",
   "metadata": {},
   "outputs": [],
   "source": [
    "def top_grade(grades: dict[str, str | list[int]]) -> dict[str, str | int]:\n",
    "    return {'name': grades['name'],\n",
    "            'top_grade': max(grades['grades'])}"
   ]
  },
  {
   "cell_type": "code",
   "execution_count": 49,
   "id": "0093fc06-657a-4263-8dbb-1b557f52d4ab",
   "metadata": {},
   "outputs": [],
   "source": [
    "# 9.6.16"
   ]
  },
  {
   "cell_type": "code",
   "execution_count": 75,
   "id": "80bc295c-2c27-4b77-98eb-b0ec4a21726d",
   "metadata": {},
   "outputs": [],
   "source": [
    "def cyclic_shift(numbers: list[int | float], step: int) -> None:\n",
    "    step %= len(numbers)\n",
    "    numbers[:] = numbers[-step:] + numbers[:-step]"
   ]
  },
  {
   "cell_type": "code",
   "execution_count": 6,
   "id": "2b3fbe07-2d9b-460c-8959-98484de0a736",
   "metadata": {},
   "outputs": [],
   "source": [
    "# 9.6.17"
   ]
  },
  {
   "cell_type": "code",
   "execution_count": 16,
   "id": "486a0921-6b70-4c2b-af1d-04c34ece4700",
   "metadata": {},
   "outputs": [],
   "source": [
    "def matrix_to_dict(matrix: list[list[int | float]]) -> dict[int, list[int | float]]:\n",
    "    return {key: value for key, value in enumerate(matrix, 1)}"
   ]
  }
 ],
 "metadata": {
  "kernelspec": {
   "display_name": "Python 3 (ipykernel)",
   "language": "python",
   "name": "python3"
  },
  "language_info": {
   "codemirror_mode": {
    "name": "ipython",
    "version": 3
   },
   "file_extension": ".py",
   "mimetype": "text/x-python",
   "name": "python",
   "nbconvert_exporter": "python",
   "pygments_lexer": "ipython3",
   "version": "3.11.6"
  }
 },
 "nbformat": 4,
 "nbformat_minor": 5
}
