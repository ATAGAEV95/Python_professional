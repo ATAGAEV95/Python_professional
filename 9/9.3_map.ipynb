{
 "cells": [
  {
   "cell_type": "code",
   "execution_count": 1,
   "id": "682106ce-3116-4f18-b95d-c0342cc480ff",
   "metadata": {},
   "outputs": [],
   "source": [
    "# 9.3.13"
   ]
  },
  {
   "cell_type": "code",
   "execution_count": 14,
   "id": "0d371ff1-f101-419c-b5ab-203a3cdd3fb2",
   "metadata": {},
   "outputs": [],
   "source": [
    "data = ['Timur', -16.648911695768902, 'six', -202, 883.0093275936454, -765, (3, 4), -105.10718000213546, 976, -308.96857946288094, 458, ['one', 'two'], 479.92207220345927, -87, -71, 'twelve', 112, -621, -715.0179551194733, 'seven', 229, 729, -358, [1, 2, 3], -974, 882, -894.4709033242768, '', 323.7720806756133, 'beegeek', -224, 431, 170.6353248658936, -343.0016746052049, 'number', 104.17133679352878, [], -353.5964777099863, 'zero', -113, 288, None, -708.3036176571618]\n",
    "\n",
    "print(*map(int, filter(lambda x: type(x) in [int, float], data)), sep='\\n')"
   ]
  },
  {
   "cell_type": "code",
   "execution_count": 15,
   "id": "44cc96e6-6165-475d-ba42-a8a3c8c23674",
   "metadata": {},
   "outputs": [],
   "source": [
    "# 9.3.14"
   ]
  },
  {
   "cell_type": "code",
   "execution_count": 30,
   "id": "a440ff6d-d366-4dce-8fce-5394905d731d",
   "metadata": {},
   "outputs": [
    {
     "name": "stdout",
     "output_type": "stream",
     "text": [
      "8100\n"
     ]
    }
   ],
   "source": [
    "numbers = [4754, -4895, -364, -4764, 4683, 1639, -43, 228, -2701, -1503, 1223, 4340, -1296, 3939, -345, 623, -3275, 1003, 4367, -1739, 550, -1217, -1334, 1526, -4359, -3028, -4663, 3356, 3887, 4297, -1982, 1013, 3299, 3556, -3324, 417, 3531, -3134, 1782, 4439, 1652, -985, 4327, 1517, 1225, -915, 2808, -3851, -1005, 3396, 2842, -3879, -3824, -3805, 1609, -4741, -3072, 3573, 4680, 588, -1430, 2378, -1095, -343, 4357, -2164, -3304, 4354, 4926, -352, -1187, -3313, 2741, 4786, -2689, 741, 4558, 1442, 62, -1099, -2201, -16, -3115, 1862, 2384, 4072, -90, 204, 1158, -3134, -2512, 756, 4148, 4370, 1756, 3609, -1148, -3909, 4123, -2906, 69, 96, 1111]\n",
    "\n",
    "print(sum(map(lambda x: x**2, filter(lambda x: x in range(-99, 100) and x % 9 == 0, numbers))))"
   ]
  },
  {
   "cell_type": "code",
   "execution_count": 31,
   "id": "dfeff16f-9807-491e-8840-c44f1f2fa07f",
   "metadata": {},
   "outputs": [],
   "source": [
    "# 9.3.15"
   ]
  },
  {
   "cell_type": "code",
   "execution_count": 48,
   "id": "d4ea746d-24a3-4453-b709-3c7f67731667",
   "metadata": {},
   "outputs": [
    {
     "name": "stdout",
     "output_type": "stream",
     "text": [
      "Аделина Айлин Александр Александра Алексей Алина Алиса Алёна Амелия Анастасия Андрей Арина Арсен Артемий Артём Мадина Максим Марат Маргарита Мария Матвей Милана Мирон Мирослава\n"
     ]
    }
   ],
   "source": [
    "names = ['ульяна', 'арина', 'Дмитрий', 'Сергей', 'Яна', 'мила', 'Ольга', 'софья', 'семён', 'Никита', 'маргарита', 'Василиса', 'Кирилл', 'александр', 'александра', 'Иван', 'андрей', 'Родион', 'максим', 'алиса', 'Артём', 'софия', 'владимир', 'дамир', 'Валерий', 'степан', 'Алексей', 'Марк', 'олег', 'ирина', 'Милана', 'мия', 'денис', 'Фёдор', 'Елизавета', 'айлин', 'Варвара', 'валерия', 'Алёна', 'Николь', 'юлия', 'Ксения', 'пётр', 'георгий', 'Мария', 'глеб', 'илья', 'Захар', 'Дарья', 'Евгения', 'матвей', 'Серафим', 'екатерина', 'Тимофей', 'виктор', 'Егор', 'Ника', 'анна', 'даниил', 'тихон', 'вера', 'кира', 'Эмилия', 'Виктория', 'Игорь', 'полина', 'алина', 'Давид', 'анастасия', 'Вероника', 'ярослав', 'Руслан', 'татьяна', 'Демид', 'амелия', 'Элина', 'Арсен', 'евгений', 'мадина', 'дарина', 'Савелий', 'Платон', 'Аделина', 'диана', 'Айша', 'павел', 'Стефания', 'Тимур', 'Ева', 'Елисей', 'Артемий', 'григорий', 'Мирон', 'Мирослава', 'Мира', 'Марат', 'Лилия', 'роман', 'владислав', 'Леонид']\n",
    "\n",
    "print(*sorted(map(lambda x: x.title(), filter(lambda x: x[0].upper() in ['А', 'М'] and len(x) > 4, names))))"
   ]
  },
  {
   "cell_type": "code",
   "execution_count": 49,
   "id": "fc9b9633-6c99-4481-8ae2-387a925aaef5",
   "metadata": {},
   "outputs": [],
   "source": [
    "# 9.3.16"
   ]
  },
  {
   "cell_type": "code",
   "execution_count": null,
   "id": "0ded2fc0-78c3-4019-b9ab-07d6a4fc73e2",
   "metadata": {},
   "outputs": [],
   "source": [
    "fib = lambda x: 1 if x <= 2 else fib(x-1) + fib(x-2)"
   ]
  },
  {
   "cell_type": "code",
   "execution_count": 50,
   "id": "b96286d8-a9a8-4c35-8283-799dab1ede25",
   "metadata": {},
   "outputs": [],
   "source": [
    "# 9.3.17"
   ]
  },
  {
   "cell_type": "code",
   "execution_count": 54,
   "id": "b61cbbe7-ec40-4c0d-adf9-80c8144a0110",
   "metadata": {},
   "outputs": [],
   "source": [
    "def print_operation_table(operation, rows, cols):\n",
    "    for n in range(1, rows + 1):\n",
    "        row = [operation(n, m) for m in range(1, cols + 1)]\n",
    "        print(*row)"
   ]
  },
  {
   "cell_type": "code",
   "execution_count": 57,
   "id": "740dc00a-efdd-4771-af9d-5d1af76c2fa4",
   "metadata": {},
   "outputs": [],
   "source": [
    "# 9.3.18"
   ]
  },
  {
   "cell_type": "code",
   "execution_count": 162,
   "id": "c1637b7f-70fd-4fca-af5e-ae6b15097cb2",
   "metadata": {},
   "outputs": [],
   "source": [
    "def verification(login, password, success, failure):\n",
    "    if not any(c.isascii() and c.isalpha() for c in password):\n",
    "        return failure(login, 'в пароле нет ни одной буквы')\n",
    "    if not any(c.isascii() and c.isupper() for c in password):\n",
    "        return failure(login, 'в пароле нет ни одной заглавной буквы')\n",
    "    if not any(c.isascii() and c.islower() for c in password):\n",
    "        return failure(login, 'в пароле нет ни одной строчной буквы')\n",
    "    if not any(c.isdigit() for c in password):\n",
    "        return failure(login, 'в пароле нет ни одной цифры')\n",
    "    return success(login)"
   ]
  },
  {
   "cell_type": "code",
   "execution_count": null,
   "id": "5c6f7bfb-04cd-4c61-833f-7834e37b2bbe",
   "metadata": {},
   "outputs": [],
   "source": []
  }
 ],
 "metadata": {
  "kernelspec": {
   "display_name": "Python 3 (ipykernel)",
   "language": "python",
   "name": "python3"
  },
  "language_info": {
   "codemirror_mode": {
    "name": "ipython",
    "version": 3
   },
   "file_extension": ".py",
   "mimetype": "text/x-python",
   "name": "python",
   "nbconvert_exporter": "python",
   "pygments_lexer": "ipython3",
   "version": "3.11.6"
  }
 },
 "nbformat": 4,
 "nbformat_minor": 5
}
