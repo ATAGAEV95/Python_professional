{
 "cells": [
  {
   "cell_type": "code",
   "execution_count": 6,
   "id": "eca07d5c-6990-48b6-9012-24fb8c8e4b3b",
   "metadata": {},
   "outputs": [],
   "source": [
    "# 9.8.9"
   ]
  },
  {
   "cell_type": "code",
   "execution_count": 7,
   "id": "d4c18a1d-a058-4e3f-8597-43261008f3d2",
   "metadata": {},
   "outputs": [],
   "source": [
    "import functools\n",
    "\n",
    "def square(func):\n",
    "    @functools.wraps(func)\n",
    "    def wrapper(*args, **kwargs):\n",
    "        return func(*args, **kwargs) ** 2\n",
    "    return wrapper"
   ]
  },
  {
   "cell_type": "code",
   "execution_count": 10,
   "id": "f87cbeb6-7ceb-4bd0-84e4-c9d72f0cbdf3",
   "metadata": {},
   "outputs": [],
   "source": [
    "# 9.8.10"
   ]
  },
  {
   "cell_type": "code",
   "execution_count": 8,
   "id": "adfa8046-9e69-4bd8-a047-bed550cf9e7e",
   "metadata": {},
   "outputs": [],
   "source": [
    "import functools\n",
    "\n",
    "def returns_string(func):\n",
    "    @functools.wraps(func)\n",
    "    def wrapper(*args, **kwargs):\n",
    "        result = func(*args, **kwargs)\n",
    "        if not type(result) is str:\n",
    "            raise TypeError\n",
    "        return result\n",
    "    return wrapper"
   ]
  },
  {
   "cell_type": "code",
   "execution_count": 11,
   "id": "462166bd-c664-459c-acc3-618a23429caf",
   "metadata": {},
   "outputs": [],
   "source": [
    "# 9.8.11"
   ]
  },
  {
   "cell_type": "code",
   "execution_count": 19,
   "id": "78600239-7e3f-4082-b38d-03c89146efcd",
   "metadata": {},
   "outputs": [],
   "source": [
    "import functools\n",
    "\n",
    "def trace(func):\n",
    "    @functools.wraps(func)\n",
    "    def wrapper(*args, **kwargs):\n",
    "        print(f'TRACE: вызов {func.__name__}() с аргументами: {args}, {kwargs}')\n",
    "        result = func(*args, **kwargs)\n",
    "        print(f'TRACE: возвращаемое значение {func.__name__}(): {repr(result)}')\n",
    "        return result\n",
    "    return wrapper"
   ]
  },
  {
   "cell_type": "code",
   "execution_count": 24,
   "id": "cec6000e-2b32-4862-adb8-5591caebe3e1",
   "metadata": {},
   "outputs": [],
   "source": [
    "# 9.8.17"
   ]
  },
  {
   "cell_type": "code",
   "execution_count": 28,
   "id": "8882d721-970b-425c-9d4a-6b378213e606",
   "metadata": {},
   "outputs": [],
   "source": [
    "import functools\n",
    "\n",
    "def prefix(string, to_the_end=False):\n",
    "    def decorator(func):\n",
    "        @functools.wraps(func)\n",
    "        def wrapper(*args, **kwargs):\n",
    "            result = func(*args, **kwargs)\n",
    "            return string + result if to_the_end == False else result + string\n",
    "        return wrapper\n",
    "    return decarator"
   ]
  },
  {
   "cell_type": "code",
   "execution_count": 24,
   "id": "04784647-4c21-4782-a867-a03ff0565500",
   "metadata": {},
   "outputs": [],
   "source": [
    "# 9.8.18"
   ]
  },
  {
   "cell_type": "code",
   "execution_count": 31,
   "id": "3d482c4f-509b-412c-b496-f8b392cf3e7c",
   "metadata": {},
   "outputs": [],
   "source": [
    "import functools\n",
    "\n",
    "def make_html(tag):\n",
    "    def decorator(func):\n",
    "        @functools.wraps(func)\n",
    "        def wrapper(*args, **kwargs):\n",
    "            result = func(*args, **kwargs)\n",
    "            return f'<{tag}>{result}</{tag}>'\n",
    "        return wrapper\n",
    "    return decarator"
   ]
  },
  {
   "cell_type": "code",
   "execution_count": 24,
   "id": "0003be3b-bdf8-4612-b8a4-5b6055db5e35",
   "metadata": {},
   "outputs": [],
   "source": [
    "# 9.8.19"
   ]
  },
  {
   "cell_type": "code",
   "execution_count": 34,
   "id": "28b62845-58d8-4ea3-a099-694ab71373e0",
   "metadata": {},
   "outputs": [],
   "source": [
    "import functools\n",
    "\n",
    "def repeat(times):\n",
    "    def decorator(func):\n",
    "        @functools.wraps(func)\n",
    "        def wrapper(*args, **kwargs):\n",
    "            for i in range(times):\n",
    "                result = func(*args, **kwargs)\n",
    "            return result\n",
    "        return wrapper\n",
    "    return decarator            "
   ]
  },
  {
   "cell_type": "code",
   "execution_count": 24,
   "id": "0095e0c4-48e4-47d3-8efd-327ac03ed42f",
   "metadata": {},
   "outputs": [],
   "source": [
    "# 9.8.20"
   ]
  },
  {
   "cell_type": "code",
   "execution_count": 37,
   "id": "c205cfde-a0ae-4df5-a656-ada13616205b",
   "metadata": {},
   "outputs": [],
   "source": [
    "import functools\n",
    "\n",
    "def strip_range(start, end, char='.'):\n",
    "    def decorator(func):\n",
    "        @functools.wraps(func)\n",
    "        def wrapper(*args, **kwargs):\n",
    "            value = func(*args, **kwargs)\n",
    "            result = value[:start] + len(value[start:end])*char + value[end:]\n",
    "            return result\n",
    "        return wrapper\n",
    "    return decarator"
   ]
  },
  {
   "cell_type": "code",
   "execution_count": 24,
   "id": "13de64d6-b94f-46c7-abc5-0667c10c6b75",
   "metadata": {},
   "outputs": [],
   "source": [
    "# 9.8.21"
   ]
  },
  {
   "cell_type": "code",
   "execution_count": 40,
   "id": "b0d2d7b6-3687-4703-98f7-ced01c44d817",
   "metadata": {},
   "outputs": [],
   "source": [
    "import functools\n",
    "\n",
    "def returns(datatype):\n",
    "    def decorator(func):\n",
    "        @functools.wraps(func)\n",
    "        def wrapper(*args, **kwargs):\n",
    "            result = func(*args, **kwargs)\n",
    "            if not isinstance(result, datatype):\n",
    "                raise TypeError\n",
    "            return result\n",
    "        return wrapper\n",
    "    return decarator"
   ]
  },
  {
   "cell_type": "code",
   "execution_count": 24,
   "id": "266e4e23-d93a-4c7f-bdfc-2832532e21cb",
   "metadata": {},
   "outputs": [],
   "source": [
    "# 9.8.22"
   ]
  },
  {
   "cell_type": "code",
   "execution_count": 73,
   "id": "a604d994-daaa-4b2e-a99b-b2c43f79b349",
   "metadata": {},
   "outputs": [],
   "source": [
    "import functools\n",
    "\n",
    "def takes(*args_input):\n",
    "    def decorator(func):\n",
    "        @functools.wraps(func)\n",
    "        def wrapper(*args, **kwargs):\n",
    "            types = set(type(i) for i in [*args, *kwargs.values()])\n",
    "            if not all(map(lambda x: x in args_input, types)):\n",
    "                raise TypeError\n",
    "            return func(*args, **kwargs)\n",
    "        return wrapper\n",
    "    return decarator"
   ]
  },
  {
   "cell_type": "code",
   "execution_count": 24,
   "id": "7832d2f1-5a84-4609-892b-f1e11ba165a8",
   "metadata": {},
   "outputs": [],
   "source": [
    "# 9.8.23"
   ]
  },
  {
   "cell_type": "code",
   "execution_count": null,
   "id": "95f89091-c8cc-48ab-acad-7d5e674d8870",
   "metadata": {},
   "outputs": [],
   "source": [
    "def add_attrs(**attrs):\n",
    "    def decorator(func):\n",
    "        func.__dict__.update(attrs)\n",
    "        return func\n",
    "    return decorator"
   ]
  },
  {
   "cell_type": "code",
   "execution_count": 77,
   "id": "ccdc37c4-b001-48d0-86a4-1d349eba755f",
   "metadata": {},
   "outputs": [],
   "source": [
    "# 9.8.24"
   ]
  },
  {
   "cell_type": "code",
   "execution_count": 78,
   "id": "9c0593b6-392f-4a34-a23d-f4cbbf6a8aec",
   "metadata": {},
   "outputs": [],
   "source": [
    "import functools\n",
    "\n",
    "def ignore_exception(*exception_types):\n",
    "    def decorator(func):\n",
    "        @functools.wraps(func)\n",
    "        def wrapper(*args, **kwargs):\n",
    "            try:\n",
    "                return func(*args, **kwargs)\n",
    "            except exception_types as e:\n",
    "                print(f\"Исключение {type(e).__name__} обработано\")\n",
    "            except Exception:\n",
    "                raise\n",
    "        return wrapper\n",
    "    return decorator"
   ]
  },
  {
   "cell_type": "code",
   "execution_count": 77,
   "id": "4cfb8438-04f5-4187-8f93-cfdeaceb1080",
   "metadata": {},
   "outputs": [],
   "source": [
    "# 9.8.25"
   ]
  },
  {
   "cell_type": "code",
   "execution_count": 81,
   "id": "934bbe29-b727-4351-a4db-e454428829d4",
   "metadata": {},
   "outputs": [],
   "source": [
    "import functools\n",
    "\n",
    "class MaxRetriesException(Exception):\n",
    "    pass\n",
    "\n",
    "def retry(times):\n",
    "    def decorator(func):\n",
    "        @functools.wraps(func)\n",
    "        def wrapper(*args, **kwargs):\n",
    "            for _ in range(times):\n",
    "                try:\n",
    "                    return func(*args, **kwargs)\n",
    "                except:\n",
    "                    pass\n",
    "            raise MaxRetriesException\n",
    "        return wrapper\n",
    "    return decorator"
   ]
  },
  {
   "cell_type": "code",
   "execution_count": null,
   "id": "cfc62ea4-66b8-40f3-bebe-9d70e841df74",
   "metadata": {},
   "outputs": [],
   "source": []
  }
 ],
 "metadata": {
  "kernelspec": {
   "display_name": "Python 3 (ipykernel)",
   "language": "python",
   "name": "python3"
  },
  "language_info": {
   "codemirror_mode": {
    "name": "ipython",
    "version": 3
   },
   "file_extension": ".py",
   "mimetype": "text/x-python",
   "name": "python",
   "nbconvert_exporter": "python",
   "pygments_lexer": "ipython3",
   "version": "3.11.6"
  }
 },
 "nbformat": 4,
 "nbformat_minor": 5
}
