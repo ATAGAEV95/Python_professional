{
 "cells": [
  {
   "cell_type": "code",
   "execution_count": 4,
   "id": "159b14fe-c1cd-4ddb-9ce9-277ca5cc83d9",
   "metadata": {},
   "outputs": [],
   "source": [
    "# 9.2.8"
   ]
  },
  {
   "cell_type": "code",
   "execution_count": 21,
   "id": "29a2f656-cf69-4603-ab17-d8fe2c06016e",
   "metadata": {},
   "outputs": [],
   "source": [
    "def hash_as_key(data):\n",
    "    dct = {}\n",
    "    for i in data:\n",
    "        dct.setdefault(hash(i), []).append(i)\n",
    "    return {key: value if len(value) > 1 else value[0] for key, value in dct.items()}"
   ]
  },
  {
   "cell_type": "code",
   "execution_count": null,
   "id": "c7977ae2-55b6-43a1-8c2f-a84210a942cc",
   "metadata": {},
   "outputs": [],
   "source": [
    "# 9.2.20"
   ]
  },
  {
   "cell_type": "code",
   "execution_count": 44,
   "id": "d11855dd-d274-4d8e-a3b1-7a3c0ae7f135",
   "metadata": {},
   "outputs": [
    {
     "name": "stdin",
     "output_type": "stream",
     "text": [
      " [[1, 2], [3, 4], [5, 6]]\n"
     ]
    }
   ],
   "source": [
    "user_input = eval(input())\n",
    "\n",
    "if isinstance(user_input, list):\n",
    "    print(user_input[-1])\n",
    "elif isinstance(user_input, tuple):\n",
    "    print(user_input[0])\n",
    "else:\n",
    "    print(len(user_input))"
   ]
  },
  {
   "cell_type": "code",
   "execution_count": null,
   "id": "7b98a836-fd5e-4285-ac6c-c740087df163",
   "metadata": {},
   "outputs": [],
   "source": [
    "# 9.2.21"
   ]
  },
  {
   "cell_type": "code",
   "execution_count": null,
   "id": "12f92943-a62d-4a5d-b08b-e30752d06931",
   "metadata": {},
   "outputs": [],
   "source": [
    "import sys\n",
    "\n",
    "lst = max([eval(line.strip()) for line in sys.stdin])\n",
    "\n",
    "print(lst)"
   ]
  },
  {
   "cell_type": "code",
   "execution_count": 45,
   "id": "8bf1d8c4-1dbe-45e2-bb68-6cea9756453d",
   "metadata": {},
   "outputs": [],
   "source": [
    "# 9.2.22"
   ]
  },
  {
   "cell_type": "code",
   "execution_count": null,
   "id": "11945cf7-4c0b-4504-bc4f-eafd0073b02d",
   "metadata": {},
   "outputs": [],
   "source": [
    "function = input()\n",
    "a, b = map(int, input().split())\n",
    "values = tuple(map(lambda x: eval(function), range(a, b+1)))\n",
    "\n",
    "print(f'Минимальное значение функции {function} на отрезке [{a}; {b}] равно {min(values)}')\n",
    "print(f'Максимальное значение функции {function} на отрезке [{a}; {b}] равно {max(values)}')"
   ]
  }
 ],
 "metadata": {
  "kernelspec": {
   "display_name": "Python 3 (ipykernel)",
   "language": "python",
   "name": "python3"
  },
  "language_info": {
   "codemirror_mode": {
    "name": "ipython",
    "version": 3
   },
   "file_extension": ".py",
   "mimetype": "text/x-python",
   "name": "python",
   "nbconvert_exporter": "python",
   "pygments_lexer": "ipython3",
   "version": "3.11.6"
  }
 },
 "nbformat": 4,
 "nbformat_minor": 5
}
