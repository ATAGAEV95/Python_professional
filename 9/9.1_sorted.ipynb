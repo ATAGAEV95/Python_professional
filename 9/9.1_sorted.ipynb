{
 "cells": [
  {
   "cell_type": "code",
   "execution_count": 1,
   "id": "0b32ab22-6d0b-474c-a9d8-57e11f83c1d6",
   "metadata": {},
   "outputs": [],
   "source": [
    "# 9.1.4"
   ]
  },
  {
   "cell_type": "code",
   "execution_count": null,
   "id": "66df4877-8d85-491d-8172-5a132acfe54b",
   "metadata": {},
   "outputs": [],
   "source": [
    "from string import ascii_lowercase\n",
    "\n",
    "for i in ascii_lowercase:\n",
    "    print(i)"
   ]
  },
  {
   "cell_type": "code",
   "execution_count": 3,
   "id": "a2bb1be9-37f1-4e44-87c0-8f0eb3298b94",
   "metadata": {},
   "outputs": [],
   "source": [
    "# 9.1.5"
   ]
  },
  {
   "cell_type": "code",
   "execution_count": 39,
   "id": "325de54b-5161-475e-b1ac-4afdd3bb5dc9",
   "metadata": {},
   "outputs": [],
   "source": [
    "def convert(number):\n",
    "    return (f'{number:b}', f'{number:o}', f'{number:X}')"
   ]
  },
  {
   "cell_type": "code",
   "execution_count": 46,
   "id": "08a518e9-337c-4980-895f-34a0c3d28888",
   "metadata": {},
   "outputs": [],
   "source": [
    "# 9.1.8"
   ]
  },
  {
   "cell_type": "code",
   "execution_count": 72,
   "id": "6874d24f-7228-4982-a676-767093011277",
   "metadata": {},
   "outputs": [],
   "source": [
    "films = {'Spider-Man: No Way Home': {'imdb': 8.8, 'kinopoisk': 8.3},\n",
    "         'Don\"t Look Up': {'imdb': 7.3, 'kinopoisk': 7.6},\n",
    "         'Encanto': {'imdb': 7.3, 'kinopoisk': 7.4},\n",
    "         'The Witcher': {'imdb': 8.2, 'kinopoisk': 7.3},\n",
    "         'Ghostbusters: Afterlife': {'imdb': 7.3, 'kinopoisk': 8},\n",
    "         'Harry Potter 20th Anniversary: Return to Hogwarts': {'imdb': 8.1, 'kinopoisk': 8.2},\n",
    "         'Shingeki no Kyojin': {'imdb': 9.0, 'kinopoisk': 8.3},\n",
    "         'The Matrix': {'imdb': 8.7, 'kinopoisk': 8.5},\n",
    "         'The Dark Knight': {'imdb': 9.0, 'kinopoisk': 8.5},\n",
    "         'The Shawshank Redemption': {'imdb': 9.3, 'kinopoisk': 9.1},\n",
    "         'Avengers: Endgame': {'imdb': 8.4, 'kinopoisk': 7.7}}\n",
    "\n",
    "mn = min(films.items(), key=lambda x: (x[1]['imdb'] + x[1]['kinopoisk']) / 2)\n",
    "print(mn[0])"
   ]
  },
  {
   "cell_type": "code",
   "execution_count": 94,
   "id": "dcdfa861-4dd6-431e-86f0-e374fb1e58be",
   "metadata": {},
   "outputs": [],
   "source": [
    "# 9.1.8"
   ]
  },
  {
   "cell_type": "code",
   "execution_count": 123,
   "id": "f6fc7949-508f-49b1-a508-17e0ad7401c7",
   "metadata": {},
   "outputs": [],
   "source": [
    "def non_negative_even(num):\n",
    "    return all(map(lambda x: True if x >=0 and x % 2 == 0 else False, num))"
   ]
  },
  {
   "cell_type": "code",
   "execution_count": 128,
   "id": "5899e9cf-ae31-4cc2-b086-32d8de82302d",
   "metadata": {},
   "outputs": [],
   "source": [
    "# 9.1.9"
   ]
  },
  {
   "cell_type": "code",
   "execution_count": 133,
   "id": "a4b5b836-9e39-4074-bc6b-12db6ca68475",
   "metadata": {},
   "outputs": [],
   "source": [
    "def is_greater(lst, num):\n",
    "    return any(map(lambda x: sum(x) > num, lst))"
   ]
  },
  {
   "cell_type": "code",
   "execution_count": 137,
   "id": "be943b9f-88ef-4672-a2d7-bb750d300bed",
   "metadata": {},
   "outputs": [],
   "source": [
    "# 9.1.10"
   ]
  },
  {
   "cell_type": "code",
   "execution_count": 154,
   "id": "75855975-30cc-4680-8086-3a29f57fbf9f",
   "metadata": {},
   "outputs": [],
   "source": [
    "def custom_isinstance(objects, typeinfo):\n",
    "    return len(list(filter(lambda x: isinstance(x, typeinfo), objects)))"
   ]
  },
  {
   "cell_type": "code",
   "execution_count": 158,
   "id": "c5d22407-953a-4b8a-b078-81e563dfe4b5",
   "metadata": {},
   "outputs": [],
   "source": [
    "# 9.1.10"
   ]
  },
  {
   "cell_type": "code",
   "execution_count": 174,
   "id": "7d28a802-2b04-4e44-b80d-0951ccd045c8",
   "metadata": {},
   "outputs": [
    {
     "name": "stdout",
     "output_type": "stream",
     "text": [
      "68\n"
     ]
    }
   ],
   "source": [
    "numbers = [-7724, 5023, 3197, -102, -4129, -880, 5857, -2866, -8913, 1195, 9809, 5347, -8071, 903, 3030, -4347, -3354, 1024, 8670, 4210, -5228, 8900, 4823, -2002, 4900, 9520, -3658, 1104, -9554, 3064, 9632, -8701, 3384, 4370, 2034, 7822, -9694, 3347, 7440, -8459, 3238, -5193, -3381, 5281, 9022, 5559, 7593, -6540, -6204, -2483, 8729, 5810, -8254, -9846, -1801, 4882, 3838, -3140, 7609, -3325, 6026, 2994, -1677, 1266, -1893, -4408, -5722, -2841, 9812, 5837, -7474, 4624, -664, 6998, 7888, -971, 8810, 3812, -5396, 2593, 512, -4634, 9735, -3062, 9031, -9300, 3657, 6332, 7552, 8125, -725, 4392, 1727, 8194, -2828, -4314, -8967, -7912, -1363, -5957]\n",
    "\n",
    "print(max(enumerate(numbers), key=lambda x: x[1])[0])"
   ]
  },
  {
   "cell_type": "code",
   "execution_count": 175,
   "id": "e86fe749-6e95-4afa-b0d3-ffbbb099f69a",
   "metadata": {},
   "outputs": [],
   "source": [
    "# 9.1.11"
   ]
  },
  {
   "cell_type": "code",
   "execution_count": 200,
   "id": "0dcf9b9d-6732-4b16-8015-a468dcb62b85",
   "metadata": {},
   "outputs": [],
   "source": [
    "def my_pow(num):\n",
    "    return sum([num**id for id, num in enumerate(map(int, list(str(num))), 1)])"
   ]
  },
  {
   "cell_type": "code",
   "execution_count": 203,
   "id": "bfe8091b-b6a7-48dc-a84f-e5f08defc2ac",
   "metadata": {},
   "outputs": [],
   "source": [
    "# 9.1.12"
   ]
  },
  {
   "cell_type": "code",
   "execution_count": 204,
   "id": "4b0d6066-9b01-4e0f-a5ae-ba2904a2d88f",
   "metadata": {},
   "outputs": [],
   "source": [
    "names = ['Moana', 'Cars', 'Zootopia', 'Ratatouille', 'Coco', 'Inside Out', 'Finding Nemo', 'Frozen']\n",
    "budgets = [150000000, 120000000, 150000000, 150000000, 180000000, 175000000, 94000000, 150000000]\n",
    "box_offices = [643331111, 462216280, 1023784195, 620702951, 807082196, 857611174, 940335536, 1280802282]\n",
    "\n",
    "for i in sorted(zip(names, budgets, box_offices)):\n",
    "    print(i[0], i[2] - i[1], sep=': ', end='$\\n')"
   ]
  },
  {
   "cell_type": "code",
   "execution_count": 218,
   "id": "0f5e8353-4061-4693-8a1c-5e40ed4f1a25",
   "metadata": {},
   "outputs": [],
   "source": [
    "# 9.1.13"
   ]
  },
  {
   "cell_type": "code",
   "execution_count": 246,
   "id": "e4c78b45-e4b0-436d-9ae5-7d607aac92eb",
   "metadata": {},
   "outputs": [],
   "source": [
    "def zip_longest(*args, fill=None):\n",
    "    max_len = max(len(x) for x in args)\n",
    "    lst = [x + [fill] * (max_len - len(x)) for x in args]\n",
    "    return list(zip(*lst)) "
   ]
  },
  {
   "cell_type": "code",
   "execution_count": 250,
   "id": "a96c32ca-79c3-4496-b343-1776b67c3f69",
   "metadata": {},
   "outputs": [],
   "source": [
    "# 9.1.14"
   ]
  },
  {
   "cell_type": "code",
   "execution_count": null,
   "id": "976089ab-f272-4b8e-8252-f4f9760e9b85",
   "metadata": {},
   "outputs": [],
   "source": [
    "print(*sorted(input(), key=lambda x: (not x.islower(), not x.isupper(), x.isdigit() \n",
    "                                      and int(x) % 2 != 1, x.isdigit() and int(x) % 2 != 0, x)), sep='')"
   ]
  }
 ],
 "metadata": {
  "kernelspec": {
   "display_name": "Python 3 (ipykernel)",
   "language": "python",
   "name": "python3"
  },
  "language_info": {
   "codemirror_mode": {
    "name": "ipython",
    "version": 3
   },
   "file_extension": ".py",
   "mimetype": "text/x-python",
   "name": "python",
   "nbconvert_exporter": "python",
   "pygments_lexer": "ipython3",
   "version": "3.11.6"
  }
 },
 "nbformat": 4,
 "nbformat_minor": 5
}
