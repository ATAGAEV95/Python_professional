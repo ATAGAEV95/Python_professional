{
 "cells": [
  {
   "cell_type": "code",
   "execution_count": 2,
   "id": "a79e2bd8-03c0-41b9-9d76-5d5598758415",
   "metadata": {},
   "outputs": [],
   "source": [
    "# 9.7.19"
   ]
  },
  {
   "cell_type": "code",
   "execution_count": 17,
   "id": "655c0888-70bd-4adb-8b48-a1d672d085ea",
   "metadata": {},
   "outputs": [],
   "source": [
    "def sandwich(func):\n",
    "    def wrapper(*args, **kwargs):\n",
    "        print('---- Верхний ломтик хлеба ----')\n",
    "        ind = func(*args, **kwargs)\n",
    "        print('---- Нижний ломтик хлеба ----')\n",
    "        return ind\n",
    "    return wrapper"
   ]
  },
  {
   "cell_type": "code",
   "execution_count": 20,
   "id": "fb487943-3373-4649-a60f-5cdf2b7a9248",
   "metadata": {},
   "outputs": [],
   "source": [
    "# 9.7.20"
   ]
  },
  {
   "cell_type": "code",
   "execution_count": 23,
   "id": "1e082bd2-8de8-4d1e-9116-72115bbdc7dc",
   "metadata": {},
   "outputs": [],
   "source": [
    "def uppercase_decorator(func):\n",
    "    def wrapper(*args, sep=' ', end='\\n'):\n",
    "        func(sep.join(map(str, args)).upper(), end = end.upper())\n",
    "    return wrapper\n",
    "\n",
    "print = uppercase_decorator(print)"
   ]
  },
  {
   "cell_type": "code",
   "execution_count": 24,
   "id": "c9ed71a8-9261-4958-b9bb-9b27289f84e8",
   "metadata": {},
   "outputs": [],
   "source": [
    "# 9.7.21"
   ]
  },
  {
   "cell_type": "code",
   "execution_count": 18,
   "id": "80083184-50bd-45c3-9d46-f14ce1619287",
   "metadata": {},
   "outputs": [],
   "source": [
    "def do_twice(func):\n",
    "    def wrapper(*args, **kwargs):\n",
    "        func(*args, **kwargs)\n",
    "        return func(*args, **kwargs)\n",
    "    return wrapper"
   ]
  },
  {
   "cell_type": "code",
   "execution_count": 21,
   "id": "b2f81122-350c-402a-b604-10d1f4337a5a",
   "metadata": {},
   "outputs": [],
   "source": [
    "# 9.7.22"
   ]
  },
  {
   "cell_type": "code",
   "execution_count": 28,
   "id": "8e70679d-3cf4-4f27-ba97-e500d3864dd9",
   "metadata": {},
   "outputs": [],
   "source": [
    "def reverse_args(func):\n",
    "    def wrapper(*args, **kwargs):\n",
    "        return func(*args[::-1], **kwargs)\n",
    "    return wrapper"
   ]
  },
  {
   "cell_type": "code",
   "execution_count": 31,
   "id": "b31e6c04-dc1c-4499-b5b5-7e73f3881929",
   "metadata": {},
   "outputs": [],
   "source": [
    "# 9.7.23"
   ]
  },
  {
   "cell_type": "code",
   "execution_count": 33,
   "id": "30defa6e-ff25-4e66-b890-b0b73aab2808",
   "metadata": {},
   "outputs": [],
   "source": [
    "def exception_decorator(func):\n",
    "    def wrapper(*args, **kwargs):\n",
    "        try:\n",
    "            return (func(*args, **kwargs), 'Функция выполнилась без ошибок')\n",
    "        except:\n",
    "            return (None, 'При вызове функции произошла ошибка')\n",
    "    return wrapper"
   ]
  },
  {
   "cell_type": "code",
   "execution_count": 36,
   "id": "6b612b5e-de53-409e-b1fc-423b47cc1be8",
   "metadata": {},
   "outputs": [],
   "source": [
    "# 9.7.24"
   ]
  },
  {
   "cell_type": "code",
   "execution_count": 1,
   "id": "9a50c498-cc26-4f61-97b7-a1429cf2013d",
   "metadata": {},
   "outputs": [],
   "source": [
    "def takes_positive(func):\n",
    "    def wrapper(*args, **kwargs):\n",
    "        for i in [*args, *kwargs.values()]:\n",
    "            if not type(i) is int:\n",
    "                raise TypeError\n",
    "            elif i <= 0:\n",
    "                raise ValueError\n",
    "        return func(*args, **kwargs)\n",
    "    return wrapper"
   ]
  },
  {
   "cell_type": "code",
   "execution_count": null,
   "id": "e0e5744a-47e6-44c2-a7cb-ad49269c03c0",
   "metadata": {},
   "outputs": [],
   "source": []
  }
 ],
 "metadata": {
  "kernelspec": {
   "display_name": "Python 3 (ipykernel)",
   "language": "python",
   "name": "python3"
  },
  "language_info": {
   "codemirror_mode": {
    "name": "ipython",
    "version": 3
   },
   "file_extension": ".py",
   "mimetype": "text/x-python",
   "name": "python",
   "nbconvert_exporter": "python",
   "pygments_lexer": "ipython3",
   "version": "3.11.6"
  }
 },
 "nbformat": 4,
 "nbformat_minor": 5
}
