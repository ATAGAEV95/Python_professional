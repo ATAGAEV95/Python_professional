{
 "cells": [
  {
   "cell_type": "code",
   "execution_count": 5,
   "id": "dda226ab-1920-4fbf-91fe-2061371387f1",
   "metadata": {},
   "outputs": [],
   "source": [
    "# 9.4.11"
   ]
  },
  {
   "cell_type": "code",
   "execution_count": 25,
   "id": "6f3bdfba-206f-4701-8240-d111f65c82bb",
   "metadata": {},
   "outputs": [],
   "source": [
    "def numbers_sum(elems):\n",
    "    '''\n",
    "    Принимает список и возвращает сумму его чисел (int, float), \n",
    "    игнорируя нечисловые объекты. 0 - если в списке чисел нет.\n",
    "    '''\n",
    "    return sum(filter(lambda x: type(x) in [int, float], elems))"
   ]
  },
  {
   "cell_type": "code",
   "execution_count": 29,
   "id": "08123346-a041-40c7-adaf-191729633f99",
   "metadata": {},
   "outputs": [],
   "source": [
    "# 9.4.12"
   ]
  },
  {
   "cell_type": "code",
   "execution_count": 35,
   "id": "d69636e6-0a5f-450b-9122-b6bc64a26c2d",
   "metadata": {},
   "outputs": [],
   "source": [
    "def print(*args, sep=' ', end='\\n', **kwargs):\n",
    "    sep = sep.upper()\n",
    "    end = end.upper()\n",
    "    new_args = (arg.upper() if isinstance(arg, str) else arg for arg in args)\n",
    "    __builtins__.print(*new_args, sep=sep, end=end, **kwargs)"
   ]
  },
  {
   "cell_type": "code",
   "execution_count": 1,
   "id": "3d8edb25-c50f-4eda-a7b9-7a6fddb426e7",
   "metadata": {},
   "outputs": [],
   "source": [
    "# 9.4.17"
   ]
  },
  {
   "cell_type": "code",
   "execution_count": null,
   "id": "1ef64b65-225b-49d4-8769-47ed67ca9140",
   "metadata": {},
   "outputs": [],
   "source": [
    "def polynom(x):\n",
    "    polynom.__dict__.setdefault('values', set())\n",
    "    value = x**2 + 1\n",
    "    polynom.values.add(value)\n",
    "    return value"
   ]
  },
  {
   "cell_type": "code",
   "execution_count": 2,
   "id": "995a321c-bdd4-4541-8b6f-20955b8d02e2",
   "metadata": {},
   "outputs": [],
   "source": [
    "# 9.4.18"
   ]
  },
  {
   "cell_type": "code",
   "execution_count": null,
   "id": "ac5dfe36-abe7-4f93-a242-41364159bd65",
   "metadata": {},
   "outputs": [],
   "source": [
    "def remove_marks(text,marks):\n",
    "    remove_marks.count +=1\n",
    "    return ''.join(c for c in text if c not in marks)\n",
    "\n",
    "remove_marks.count = 0"
   ]
  }
 ],
 "metadata": {
  "kernelspec": {
   "display_name": "Python 3 (ipykernel)",
   "language": "python",
   "name": "python3"
  },
  "language_info": {
   "codemirror_mode": {
    "name": "ipython",
    "version": 3
   },
   "file_extension": ".py",
   "mimetype": "text/x-python",
   "name": "python",
   "nbconvert_exporter": "python",
   "pygments_lexer": "ipython3",
   "version": "3.11.6"
  }
 },
 "nbformat": 4,
 "nbformat_minor": 5
}
