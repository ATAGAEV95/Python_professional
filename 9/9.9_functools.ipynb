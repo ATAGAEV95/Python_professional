{
 "cells": [
  {
   "cell_type": "code",
   "execution_count": 10,
   "id": "4c923c5b-658b-4a13-a017-e7ab4009e48b",
   "metadata": {},
   "outputs": [],
   "source": [
    "# 9.9.11"
   ]
  },
  {
   "cell_type": "code",
   "execution_count": 15,
   "id": "c944e4a9-abb6-4fc7-8d54-15f85a707d1f",
   "metadata": {},
   "outputs": [],
   "source": [
    "from functools import partial\n",
    "\n",
    "to_Timur = partial(send_email, 'Тимур', 'timyrik20@beegeek.ru')\n",
    "send_an_invitation = partial(send_email, text = 'Школа BEEGEEK приглашает Вас на новый курс по программированию на языке Python. тутут....')"
   ]
  },
  {
   "cell_type": "code",
   "execution_count": 27,
   "id": "228885d5-c10d-49ad-90d5-bfc51e26cd63",
   "metadata": {},
   "outputs": [],
   "source": [
    "# 9.9.24"
   ]
  },
  {
   "cell_type": "code",
   "execution_count": null,
   "id": "9b2b046b-5ec1-44d5-aaf8-76cb014f990a",
   "metadata": {},
   "outputs": [],
   "source": [
    "from functools import lru_cache\n",
    "from sys import stdin\n",
    "\n",
    "@lru_cache()\n",
    "def get_word_sort(word: str) -> str:\n",
    "    return ''.join(sorted(word))\n",
    "\n",
    "for word in stdin:\n",
    "    print(get_word_sort(word.strip()))"
   ]
  },
  {
   "cell_type": "code",
   "execution_count": 28,
   "id": "4cbd9dad",
   "metadata": {},
   "outputs": [],
   "source": [
    "# 9.9.25"
   ]
  },
  {
   "cell_type": "code",
   "execution_count": null,
   "id": "b06b3ff0-8226-42f0-bc10-73597636df5b",
   "metadata": {},
   "outputs": [],
   "source": [
    "from functools import lru_cache\n",
    "\n",
    "@lru_cache()\n",
    "def ways(n):\n",
    "    if n > 1:\n",
    "        return ways(n - 1) + ways(n - 3) + ways(n - 4)\n",
    "    else:\n",
    "        return [1, 0][n < 1]"
   ]
  }
 ],
 "metadata": {
  "kernelspec": {
   "display_name": "Python 3 (ipykernel)",
   "language": "python",
   "name": "python3"
  },
  "language_info": {
   "codemirror_mode": {
    "name": "ipython",
    "version": 3
   },
   "file_extension": ".py",
   "mimetype": "text/x-python",
   "name": "python",
   "nbconvert_exporter": "python",
   "pygments_lexer": "ipython3",
   "version": "3.11.6"
  }
 },
 "nbformat": 4,
 "nbformat_minor": 5
}
