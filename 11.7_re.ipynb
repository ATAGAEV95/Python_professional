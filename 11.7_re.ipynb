{
 "cells": [
  {
   "cell_type": "code",
   "execution_count": 9,
   "id": "a1c8d29b-2e80-43cf-b978-338d85bdda77",
   "metadata": {},
   "outputs": [],
   "source": [
    "# 11.7.10"
   ]
  },
  {
   "cell_type": "code",
   "execution_count": null,
   "id": "62e6b974-515d-4422-b6a0-05c0f4e0be1c",
   "metadata": {},
   "outputs": [],
   "source": [
    "import re\n",
    "\n",
    "match1 = re.findall(r'^stepik', article, re.I | re.MULTILINE)\n",
    "match2 = re.findall(r'!$|\\.\\.\\.$', article, re.I | re.MULTILINE)\n",
    "\n",
    "print(len(match1))\n",
    "print(len(match2))"
   ]
  },
  {
   "cell_type": "code",
   "execution_count": 21,
   "id": "e8d13cbb",
   "metadata": {},
   "outputs": [],
   "source": [
    "# 11.7.11"
   ]
  },
  {
   "cell_type": "code",
   "execution_count": 23,
   "id": "be841e37-2216-4ba3-8ba7-216aa330a84b",
   "metadata": {},
   "outputs": [
    {
     "name": "stdout",
     "output_type": "stream",
     "text": [
      "5\n"
     ]
    }
   ],
   "source": [
    "import re\n",
    "\n",
    "text, word = input(), input()\n",
    "match1 = re.findall(fr'\\B{word}\\B', text)\n",
    "\n",
    "print(len(match1))"
   ]
  },
  {
   "cell_type": "code",
   "execution_count": 24,
   "id": "a6b76605",
   "metadata": {},
   "outputs": [],
   "source": [
    "# 11.7.12"
   ]
  },
  {
   "cell_type": "code",
   "execution_count": null,
   "id": "b5626ea4-73cf-46df-84fe-48d715d8b2dd",
   "metadata": {},
   "outputs": [],
   "source": [
    "import re\n",
    "\n",
    "text, word = input(), input()\n",
    "match1 = re.findall(fr'\\b{word}\\b', text)\n",
    "\n",
    "print(len(match1))"
   ]
  },
  {
   "cell_type": "code",
   "execution_count": 25,
   "id": "a9f5f6b1",
   "metadata": {},
   "outputs": [],
   "source": [
    "# 11.7.13"
   ]
  },
  {
   "cell_type": "code",
   "execution_count": 28,
   "id": "3143ff15-8907-44ce-9d23-3d6c8a3c0951",
   "metadata": {},
   "outputs": [
    {
     "name": "stdout",
     "output_type": "stream",
     "text": [
      "3\n"
     ]
    }
   ],
   "source": [
    "import re\n",
    "\n",
    "word, text = input(), input()\n",
    "match1 = re.findall(fr'\\b{word[:-2]}[sz]e\\b', text, re.I)\n",
    "\n",
    "print(len(match1))"
   ]
  },
  {
   "cell_type": "code",
   "execution_count": 29,
   "id": "c027e1ab",
   "metadata": {},
   "outputs": [],
   "source": [
    "# 11.7.14"
   ]
  },
  {
   "cell_type": "code",
   "execution_count": 31,
   "id": "1974258b-dce2-4e87-bdb7-4b87f17ebc87",
   "metadata": {},
   "outputs": [
    {
     "name": "stdout",
     "output_type": "stream",
     "text": [
      "4\n"
     ]
    }
   ],
   "source": [
    "import re\n",
    "\n",
    "word, text = input(), input()\n",
    "match1 = re.findall(fr'\\b{word[:-2]}u?r\\b', text, re.I)\n",
    "\n",
    "print(len(match1))"
   ]
  },
  {
   "cell_type": "code",
   "execution_count": 32,
   "id": "a012b2ac",
   "metadata": {},
   "outputs": [],
   "source": [
    "# 11.7.15"
   ]
  },
  {
   "cell_type": "code",
   "execution_count": 97,
   "id": "73e46aea-39a2-471e-a025-9c4a6c62f97b",
   "metadata": {},
   "outputs": [],
   "source": [
    "import re\n",
    "\n",
    "def abbreviate(phrase):\n",
    "    match1 = re.findall(r'[A-Z]|\\b[a-z]', phrase)\n",
    "    return ''.join([i[0].upper() for i in match1])"
   ]
  },
  {
   "cell_type": "code",
   "execution_count": 101,
   "id": "7946a89f",
   "metadata": {},
   "outputs": [],
   "source": [
    "# 11.7.16"
   ]
  },
  {
   "cell_type": "code",
   "execution_count": null,
   "id": "1bf7e72e-147f-42df-9681-780017118409",
   "metadata": {},
   "outputs": [],
   "source": [
    "import re, sys\n",
    "\n",
    "text = sys.stdin.read()\n",
    "match1 = re.findall(r'<a href=\\\"(.+)\\\">(.+)</a>', text, re.M)\n",
    "for url, text in match1:\n",
    "    print(f\"{url}, {text}\")"
   ]
  },
  {
   "cell_type": "code",
   "execution_count": 101,
   "id": "c7772dcc",
   "metadata": {},
   "outputs": [],
   "source": [
    "# 11.7.17"
   ]
  },
  {
   "cell_type": "code",
   "execution_count": null,
   "id": "29b8e4b0-1aaa-427f-a291-6638ba6cb45f",
   "metadata": {},
   "outputs": [],
   "source": [
    "import re\n",
    "\n",
    "res = {}\n",
    "for line in open(0):\n",
    "    for tag, params in re.findall(r'<(\\w+)(.*?)>', line):\n",
    "        res.setdefault(tag, set()).update(re.findall(r'([\\w-]+)=', params))\n",
    "\n",
    "for key in sorted(res):\n",
    "    print(f'{key}: {\", \".join(sorted(res[key]))}')"
   ]
  }
 ],
 "metadata": {
  "kernelspec": {
   "display_name": "Python 3 (ipykernel)",
   "language": "python",
   "name": "python3"
  },
  "language_info": {
   "codemirror_mode": {
    "name": "ipython",
    "version": 3
   },
   "file_extension": ".py",
   "mimetype": "text/x-python",
   "name": "python",
   "nbconvert_exporter": "python",
   "pygments_lexer": "ipython3",
   "version": "3.11.6"
  }
 },
 "nbformat": 4,
 "nbformat_minor": 5
}
